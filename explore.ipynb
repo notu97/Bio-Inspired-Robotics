{
 "cells": [
  {
   "cell_type": "code",
   "execution_count": 101,
   "metadata": {},
   "outputs": [],
   "source": [
    "import numpy as np\n",
    "\n",
    "import matplotlib as mpl\n",
    "mpl.use('Qt5Agg')\n",
    "\n",
    "import matplotlib.pyplot as plt\n",
    "plt.ion()\n",
    "\n",
    "# for the symbolic manipulation of jacobian\n",
    "import sympy as sp\n",
    "# from sympy import symbols\n",
    "from sympy import sin, cos, asin, acos, pi, atan2, sqrt\n",
    "from sympy.utilities.lambdify import lambdify\n",
    "# from sympy import Matrix\n",
    "\n",
    "from scipy.optimize import minimize\n",
    "from scipy.optimize import fsolve\n",
    "\n",
    "import time\n",
    "\n",
    "import odrive\n",
    "import odrive.utils\n",
    "import odrive.enums"
   ]
  },
  {
   "cell_type": "code",
   "execution_count": 102,
   "metadata": {},
   "outputs": [],
   "source": [
    "## Motor constants\n",
    "K_T = 0.0285;                 # Nm / A\n",
    "peak_amp = 30;              # A\n",
    "peak_torque = K_T * peak_amp; # Nm\n",
    "\n",
    "l1 = 0.09;                  # m \n",
    "l2 = 0.16;                  # m\n",
    "w = 0.07;                   # m\n"
   ]
  },
  {
   "cell_type": "code",
   "execution_count": 14,
   "metadata": {},
   "outputs": [],
   "source": [
    "def T(theta, x, y):\n",
    "    \"\"\"\n",
    "    Function to return an arbitrary transformation matrix \n",
    "    This is for sympy symbolic calculation\n",
    "    \"\"\"\n",
    "    return sp.Matrix([[sp.cos(theta), -sp.sin(theta), x], \n",
    "                      [sp.sin(theta), sp.cos(theta), y],\n",
    "                      [0, 0, 1]])\n",
    "\n",
    "def sym_to_np(T):\n",
    "    return np.array(T).astype(np.float64)\n",
    "\n"
   ]
  },
  {
   "cell_type": "markdown",
   "metadata": {},
   "source": [
    "## FK Through transformation matrices"
   ]
  },
  {
   "cell_type": "code",
   "execution_count": 15,
   "metadata": {},
   "outputs": [],
   "source": [
    "(thetaL_sym, \n",
    " thetaR_sym, \n",
    " link1_sym, \n",
    " link2_sym, \n",
    " width_sym) = sp.symbols(\"\"\"thetaL_sym \n",
    "                            thetaR_sym \n",
    "                            link1_sym \n",
    "                            link2_sym \n",
    "                            width_sym\"\"\", real = True)"
   ]
  },
  {
   "cell_type": "code",
   "execution_count": 16,
   "metadata": {},
   "outputs": [],
   "source": [
    "x_r = width_sym/2 + link1_sym*sp.cos(thetaR_sym)\n",
    "x_l = -width_sym/2 + link1_sym*sp.cos(thetaL_sym)\n",
    "\n",
    "y_r = link1_sym*sp.sin(thetaR_sym)\n",
    "y_l = link1_sym*sp.sin(thetaL_sym)\n",
    "\n",
    "theta3_sym = sp.atan2(y_r - y_l, x_r - x_l)\n",
    "L = sp.sqrt((x_l - x_r)**2 + (y_l - y_r)**2)\n",
    "\n",
    "FK = T(thetaL_sym, -width_sym/2, 0)@T(-(thetaL_sym - theta3_sym), link1_sym, 0)@sp.Matrix([L/2, sp.sqrt(link2_sym**2 - (L/2)**2), 1])\n",
    "FK = FK[:2,:]\n",
    "FK.simplify()\n",
    "\n",
    "#cartesian\n",
    "FK = FK.subs([(link1_sym,l1), (link2_sym,l2), (width_sym,w)])\n",
    "J = FK.jacobian((thetaR_sym, thetaL_sym))\n",
    "J_fast = lambdify((thetaR_sym, thetaL_sym), J)\n",
    "FK_fast = lambdify((thetaR_sym, thetaL_sym), FK)"
   ]
  },
  {
   "cell_type": "code",
   "execution_count": 58,
   "metadata": {},
   "outputs": [
    {
     "name": "stdout",
     "output_type": "stream",
     "text": [
      "[[5.5109106e-18]\n",
      " [2.4612495e-01]]\n",
      "[[-0.045      -0.045     ]\n",
      " [ 0.01008807 -0.01008807]]\n"
     ]
    }
   ],
   "source": [
    "xy = FK_fast(np.pi/2, np.pi/2)\n",
    "\n",
    "J_new = J_fast(np.pi/2, np.pi/2)\n",
    "\n",
    "print(xy)\n",
    "print(J_new)"
   ]
  },
  {
   "cell_type": "code",
   "execution_count": null,
   "metadata": {},
   "outputs": [],
   "source": [
    "#polar\n",
    "\n",
    "FK_polar = sp.Matrix([sp.sqrt(FK[0,0]**2 + FK[1,0]**2), sp.atan2(FK[0,0], FK[1,0])])\n",
    "FK_polar_fast = lambdify((thetaR_sym, thetaL_sym), FK_polar)\n",
    "J_polar = FK_polar.jacobian([thetaR_sym, thetaL_sym]).evalf()\n",
    "J_pol_fast = lambdify((thetaR_sym, thetaL_sym), J_polar)"
   ]
  },
  {
   "cell_type": "markdown",
   "metadata": {},
   "source": [
    "## IK through optimization"
   ]
  },
  {
   "cell_type": "code",
   "execution_count": 8,
   "metadata": {},
   "outputs": [],
   "source": [
    "def IK_5_link(x, y, l1 = l1, l2 = l2, w = w):\n",
    "    \n",
    "    def leg_wide(var):\n",
    "        return np.linalg.norm([var[0], var[1] - np.pi])\n",
    "    \n",
    "    def x_constraint_equation(var):\n",
    "        # should be equal to zero when the \n",
    "        return l1**2 - l2**2 + (x - w/2)**2 + y**2 - 2*l1*(y*np.sin(var[0]) + (x - w/2)*np.cos(var[0]))\n",
    "\n",
    "    def y_constraint_equation(var):\n",
    "        return l1**2 - l2**2 + (x + w/2)**2 + y**2 - 2*l1*(y*np.sin(var[1]) + (x + w/2)*np.cos(var[1]))\n",
    "\n",
    "    \n",
    "    res = minimize(leg_wide, (0.1, 9*np.pi/10), method=\"SLSQP\", constraints= ({\"type\": \"eq\", \"fun\": x_constraint_equation}, \n",
    "                                                                               {\"type\": \"eq\", \"fun\": y_constraint_equation}))\n",
    "    \n",
    "    return (res, np.linalg.norm([x_constraint_equation(res.x), y_constraint_equation(res.x)]))\n"
   ]
  },
  {
   "cell_type": "code",
   "execution_count": 9,
   "metadata": {},
   "outputs": [],
   "source": [
    "def internal_angles(thetaR, thetaL, l1 = l1, l2 = l2, w = w):\n",
    "    \"\"\"\n",
    "    Solves for the internal angles of the leg so that we can visualize\n",
    "    \"\"\"\n",
    "    def sys(x): \n",
    "        return (w + l1*np.cos(thetaR) + l2*np.cos(x[0]) - l1*np.cos(thetaL) - l2*np.cos(x[1]),\n",
    "                l1*np.sin(thetaR) + l2*np.sin(x[0]) - l1*np.sin(thetaL) - l2*np.sin(x[1]))\n",
    "\n",
    "    alphaR, alphaL = fsolve(sys, (np.pi/2, np.pi/2))\n",
    "    \n",
    "    alphaR = alphaR % (2*np.pi)\n",
    "    alphaL = alphaL % (2*np.pi)\n",
    "        \n",
    "    # Copmute FK for checking\n",
    "    x = w/2 + l1*np.cos(thetaR) + l2*np.cos(alphaR);\n",
    "    y = l1*np.sin(thetaR) + l2*np.sin(alphaR);\n",
    "\n",
    "    return (alphaR, alphaL, x, y)\n",
    "\n",
    "thetaR = .5\n",
    "thetaL = np.pi\n",
    "\n",
    "(alphaR, alphaL, x, y) = internal_angles(thetaR, thetaL)\n",
    "\n",
    "# Should produce\n",
    "# alphaL\n",
    "# Out[17]: 0.8878073988680342\n",
    "\n",
    "# alphaR\n",
    "# Out[18]: 2.611036674795031\n"
   ]
  },
  {
   "cell_type": "code",
   "execution_count": 21,
   "metadata": {},
   "outputs": [],
   "source": [
    "def draw_robot(thetaR, thetaL, link1 = l1, link2 = l2, width = w, ax = None):\n",
    "    \n",
    "    # Solve for internal angles\n",
    "    (alphaR, alphaL, x, y) = internal_angles(thetaR, thetaL)\n",
    "\n",
    "    def pol2cart(rho, phi):\n",
    "        x = rho * np.cos(phi)\n",
    "        y = rho * np.sin(phi)\n",
    "        return(x, y)\n",
    "\n",
    "    if ax is None:\n",
    "        ax = plt.gca()\n",
    "        ax.cla()\n",
    "    \n",
    "\n",
    "    ax.plot(-width/2, 0, 'ok')\n",
    "    ax.plot(width/2, 0, 'ok')\n",
    "\n",
    "    ax.plot([-width/2, 0], [0, 0], 'k')\n",
    "    ax.plot([width/2, 0], [0, 0], 'k')\n",
    "    \n",
    "    ax.plot(-width/2 + np.array([0, link1*np.cos(thetaL)]), [0, link1*np.sin(thetaL)], 'k')\n",
    "    ax.plot(width/2 + np.array([0, link1*np.cos(thetaR)]), [0, link1*np.sin(thetaR)], 'k')\n",
    "\n",
    "    ax.plot(-width/2 + link1*np.cos(thetaL) + np.array([0, link2*np.cos(alphaL)]), \\\n",
    "             link1*np.sin(thetaL) + np.array([0, link2*np.sin(alphaL)]), 'k');\n",
    "    \n",
    "    ax.plot(width/2 + link1*np.cos(thetaR) + np.array([0, link2*np.cos(alphaR)]), \\\n",
    "             np.array(link1*np.sin(thetaR) + np.array([0, link2*np.sin(alphaR)])), 'k');\n",
    "    \n",
    "    ax.plot(x, y, 'ro');\n",
    "# plt.set_aspect\n",
    "    ax.set_aspect('equal')\n",
    "#     plt.plot(x_end, y_end, 'go');\n",
    "\n",
    "    ax.axis([-.3,.3,-.1,.3])\n",
    "    \n",
    "thetaR = np.pi/4\n",
    "thetaL = 3*np.pi/4\n",
    "\n",
    "draw_robot(thetaR, thetaL)"
   ]
  },
  {
   "cell_type": "markdown",
   "metadata": {},
   "source": [
    "## Exploration of torques and forces "
   ]
  },
  {
   "cell_type": "code",
   "execution_count": 114,
   "metadata": {},
   "outputs": [
    {
     "data": {
      "text/plain": [
       "Text(0, 0.5, 'Force (y direction)')"
      ]
     },
     "execution_count": 114,
     "metadata": {},
     "output_type": "execute_result"
    }
   ],
   "source": [
    "##### List of starting positions to compare required torque to provide pre-determined force\n",
    "# calculate theta values from position to calculate jacobian\n",
    "# calculate torques and plot\n",
    "xs = [-0.08, -0.05, 0.0, 0.05, 0.08]\n",
    "ys = [0.08, 0.15]\n",
    "tau = np.array([[20.0*K_T],[5.0*K_T]])\n",
    "currents = []\n",
    "forces_x = []\n",
    "forces_y = []\n",
    "for x in xs:\n",
    "    for y in ys:\n",
    "        res = IK_5_link(x, y)\n",
    "        thetaR = res[0].x[0]\n",
    "        thetaL = res[0].x[1]\n",
    "        #draw_robot(thetaR, thetaL)\n",
    "        J = J_fast(thetaR, thetaL)\n",
    "        #tau = J.T @ F\n",
    "        N = np.linalg.inv(J.T)\n",
    "        F = N @ tau\n",
    "        forces_x.append(F[0,0])\n",
    "        forces_y.append(F[1,0])\n",
    "        \n",
    "x = [1, 2, 3, 4, 5, 6, 7, 8, 9, 10]\n",
    "plt.bar(x, forces_y, tick_label=x, width=0.5)\n",
    "plt.xlabel(\"Position\")\n",
    "plt.ylabel(\"Force (y direction)\")\n",
    "#draw_robot(-1.0218044064009442, 2.51139234448664)"
   ]
  }
 ],
 "metadata": {
  "kernelspec": {
   "display_name": "Python 3",
   "language": "python",
   "name": "python3"
  },
  "language_info": {
   "codemirror_mode": {
    "name": "ipython",
    "version": 3
   },
   "file_extension": ".py",
   "mimetype": "text/x-python",
   "name": "python",
   "nbconvert_exporter": "python",
   "pygments_lexer": "ipython3",
   "version": "3.7.5"
  }
 },
 "nbformat": 4,
 "nbformat_minor": 4
}
