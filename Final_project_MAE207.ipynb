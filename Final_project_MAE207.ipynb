{
 "cells": [
  {
   "cell_type": "markdown",
   "metadata": {},
   "source": [
    "## Homework 3 MAE-207"
   ]
  },
  {
   "cell_type": "markdown",
   "metadata": {},
   "source": [
    "## Connect to ODrive"
   ]
  },
  {
   "cell_type": "code",
   "execution_count": 1,
   "metadata": {},
   "outputs": [],
   "source": [
    "import time\n",
    "from multiprocessing import Process\n",
    "from IPython.display import clear_output\n",
    "import numpy as np\n",
    "import matplotlib as mpl\n",
    "\n",
    "# import sympy\n",
    "from sympy import symbols, pprint\n",
    "from sympy import sin, cos, asin, acos, atan, pi, sqrt\n",
    "from sympy import Matrix\n",
    "from IPython.core.interactiveshell import InteractiveShell\n",
    "InteractiveShell.ast_node_interactivity = \"all\"\n",
    "from sympy import lambdify\n",
    "# import numpy as np\n",
    "\n",
    "import matplotlib.pyplot as plt\n",
    "import matplotlib.animation as animation\n",
    "from matplotlib import style\n",
    "\n",
    "from IPython import display # for the animation\n",
    "# import matplotlib as mpl\n",
    "# mpl.use('Qt5Agg')\n",
    "# plt.ion()\n",
    "import os\n",
    "import matplotlib.pyplot as plt\n",
    "# plt.ion()\n",
    "\n",
    "# for the symbolic manipulation of jacobian\n",
    "import sympy as sp\n",
    "# from sympy import symbols\n",
    "#from sympy import sin, cos, asin, acos, pi, atan2, sqrt\n",
    "from sympy.utilities.lambdify import lambdify\n",
    "#from sympy import Matrix\n",
    "\n",
    "from scipy.optimize import minimize\n",
    "from scipy.optimize import fsolve\n",
    "\n",
    "import time\n",
    "\n",
    "import odrive\n",
    "from odrive.utils import *\n",
    "import odrive.enums\n",
    "%matplotlib qt"
   ]
  },
  {
   "cell_type": "code",
   "execution_count": null,
   "metadata": {},
   "outputs": [],
   "source": []
  },
  {
   "cell_type": "markdown",
   "metadata": {
    "jupyter": {
     "source_hidden": true
    }
   },
   "source": [
    "odrv0 = odrive.find_any()\n",
    "if odrv0 is not None:\n",
    "    print('Connected!')\n",
    "    print('Odrive serial {}'.format(odrv0.serial_number))\n",
    "    \n",
    "    m0 = odrv0.axis0.motor.is_calibrated\n",
    "    m1 = odrv0.axis1.motor.is_calibrated\n",
    "    \n",
    "    print('Motor 0 calibrated: {}'.format(m0))\n",
    "    print('Motor 1 calibrated: {}'.format(m1))    \n",
    "    \n",
    "else:\n",
    "    print('Not connected')\n",
    "    "
   ]
  },
  {
   "cell_type": "markdown",
   "metadata": {
    "jupyter": {
     "source_hidden": true
    }
   },
   "source": [
    "odrv0.serial_number"
   ]
  },
  {
   "cell_type": "markdown",
   "metadata": {
    "jupyter": {
     "source_hidden": true
    }
   },
   "source": [
    "## Homework 3 MAE-207"
   ]
  },
  {
   "cell_type": "markdown",
   "metadata": {
    "jupyter": {
     "source_hidden": true
    }
   },
   "source": [
    "## Connect to ODrive"
   ]
  },
  {
   "cell_type": "markdown",
   "metadata": {
    "jupyter": {
     "source_hidden": true
    }
   },
   "source": [
    "odrv0 = odrive.find_any()"
   ]
  },
  {
   "cell_type": "markdown",
   "metadata": {
    "jupyter": {
     "source_hidden": true
    }
   },
   "source": [
    "print('Odrive serial {}'.format(odrv0.serial_number))"
   ]
  },
  {
   "cell_type": "markdown",
   "metadata": {},
   "source": [
    "### JJ_Odrv0=20863883304E\n",
    "### SS_Odrv0=306139573235"
   ]
  },
  {
   "cell_type": "markdown",
   "metadata": {
    "jupyter": {
     "source_hidden": true
    }
   },
   "source": [
    "# odrv0 = odrive.find_any()\n",
    "# if odrv0 is not None:\n",
    "#     print('Connected!')\n",
    "#     print('Odrive serial {}'.format(odrv0.serial_number))\n",
    "    \n",
    "#     m0 = odrv0.axis0.motor.is_calibrated\n",
    "#     m1 = odrv0.axis1.motor.is_calibrated\n",
    "    \n",
    "#     print('Motor 0 calibrated: {}'.format(m0))\n",
    "#     print('Motor 1 calibrated: {}'.format(m1))    \n",
    "    \n",
    "# else:\n",
    "#     print('Not connected')\n",
    "    "
   ]
  },
  {
   "cell_type": "code",
   "execution_count": 240,
   "metadata": {},
   "outputs": [
    {
     "name": "stdout",
     "output_type": "stream",
     "text": [
      "Connected!\n",
      "Target serial 20863883304E \t Odrive serial 35760845828174\n",
      "Motor 0 calibrated: True\n",
      "Motor 1 calibrated: True\n",
      "Connected!\n",
      "Target serial 306139573235 \t Odrive serial 53194131976757\n",
      "Motor 0 calibrated: True\n",
      "Motor 1 calibrated: True\n"
     ]
    }
   ],
   "source": [
    "def connect_odrive(serial):\n",
    "    odrv0 = odrive.find_any(serial_number = serial, timeout = 20)\n",
    "    if odrv0 is not None:\n",
    "        print('Connected!')\n",
    "        print('Target serial {} \\t Odrive serial {}'.format(serial, odrv0.serial_number))\n",
    "        \n",
    "        m0 = odrv0.axis0.motor.is_calibrated\n",
    "        m1 = odrv0.axis1.motor.is_calibrated\n",
    "\n",
    "        print('Motor 0 calibrated: {}'.format(m0))\n",
    "        print('Motor 1 calibrated: {}'.format(m1))    \n",
    "    else:\n",
    "        print(\"ODrive ({}) not found\".format(serial))\n",
    "    return odrv0\n",
    "    \n",
    "JJ_odrv0 = connect_odrive('20863883304E')\n",
    "SS_odrv0 = connect_odrive('306139573235')\n"
   ]
  },
  {
   "cell_type": "code",
   "execution_count": 241,
   "metadata": {},
   "outputs": [],
   "source": [
    "# Setting the velocity and calibration current limit\n",
    "JJ_odrv0.axis0.controller.config.vel_limit=2000000\n",
    "JJ_odrv0.axis1.controller.config.vel_limit=2000000\n",
    "JJ_odrv0.axis0.motor.config.calibration_current=20.0\n",
    "JJ_odrv0.axis1.motor.config.calibration_current=20.0\n",
    "\n",
    "SS_odrv0.axis0.controller.config.vel_limit=2000000\n",
    "SS_odrv0.axis1.controller.config.vel_limit=2000000\n",
    "SS_odrv0.axis0.motor.config.calibration_current=20.0\n",
    "SS_odrv0.axis1.motor.config.calibration_current=20.0\n"
   ]
  },
  {
   "cell_type": "markdown",
   "metadata": {},
   "source": [
    "#### Calibrating the Motors"
   ]
  },
  {
   "cell_type": "code",
   "execution_count": 175,
   "metadata": {
    "collapsed": true,
    "jupyter": {
     "outputs_hidden": true
    }
   },
   "outputs": [
    {
     "ename": "ChannelBrokenException",
     "evalue": "",
     "output_type": "error",
     "traceback": [
      "\u001b[1;31m---------------------------------------------------------------------------\u001b[0m",
      "\u001b[1;31mChannelBrokenException\u001b[0m                    Traceback (most recent call last)",
      "\u001b[1;32m<ipython-input-175-2a53eb4020f0>\u001b[0m in \u001b[0;36m<module>\u001b[1;34m\u001b[0m\n\u001b[1;32m----> 1\u001b[1;33m \u001b[0mSS_odrv0\u001b[0m\u001b[1;33m.\u001b[0m\u001b[0maxis0\u001b[0m\u001b[1;33m.\u001b[0m\u001b[0mrequested_state\u001b[0m \u001b[1;33m=\u001b[0m \u001b[0modrive\u001b[0m\u001b[1;33m.\u001b[0m\u001b[0menums\u001b[0m\u001b[1;33m.\u001b[0m\u001b[0mAXIS_STATE_FULL_CALIBRATION_SEQUENCE\u001b[0m\u001b[1;33m\u001b[0m\u001b[1;33m\u001b[0m\u001b[0m\n\u001b[0m\u001b[0;32m      2\u001b[0m \u001b[0mSS_odrv0\u001b[0m\u001b[1;33m.\u001b[0m\u001b[0maxis1\u001b[0m\u001b[1;33m.\u001b[0m\u001b[0mrequested_state\u001b[0m \u001b[1;33m=\u001b[0m \u001b[0modrive\u001b[0m\u001b[1;33m.\u001b[0m\u001b[0menums\u001b[0m\u001b[1;33m.\u001b[0m\u001b[0mAXIS_STATE_FULL_CALIBRATION_SEQUENCE\u001b[0m\u001b[1;33m\u001b[0m\u001b[1;33m\u001b[0m\u001b[0m\n\u001b[0;32m      3\u001b[0m \u001b[1;33m\u001b[0m\u001b[0m\n\u001b[0;32m      4\u001b[0m \u001b[0mJJ_odrv0\u001b[0m\u001b[1;33m.\u001b[0m\u001b[0maxis0\u001b[0m\u001b[1;33m.\u001b[0m\u001b[0mrequested_state\u001b[0m \u001b[1;33m=\u001b[0m \u001b[0modrive\u001b[0m\u001b[1;33m.\u001b[0m\u001b[0menums\u001b[0m\u001b[1;33m.\u001b[0m\u001b[0mAXIS_STATE_FULL_CALIBRATION_SEQUENCE\u001b[0m\u001b[1;33m\u001b[0m\u001b[1;33m\u001b[0m\u001b[0m\n\u001b[0;32m      5\u001b[0m \u001b[0mJJ_odrv0\u001b[0m\u001b[1;33m.\u001b[0m\u001b[0maxis1\u001b[0m\u001b[1;33m.\u001b[0m\u001b[0mrequested_state\u001b[0m \u001b[1;33m=\u001b[0m \u001b[0modrive\u001b[0m\u001b[1;33m.\u001b[0m\u001b[0menums\u001b[0m\u001b[1;33m.\u001b[0m\u001b[0mAXIS_STATE_FULL_CALIBRATION_SEQUENCE\u001b[0m\u001b[1;33m\u001b[0m\u001b[1;33m\u001b[0m\u001b[0m\n",
      "\u001b[1;32m~\\Anaconda3\\lib\\site-packages\\fibre\\remote_object.py\u001b[0m in \u001b[0;36m__setattr__\u001b[1;34m(self, name, value)\u001b[0m\n\u001b[0;32m    250\u001b[0m         \u001b[1;32mif\u001b[0m \u001b[0misinstance\u001b[0m\u001b[1;33m(\u001b[0m\u001b[0mattr\u001b[0m\u001b[1;33m,\u001b[0m \u001b[0mRemoteProperty\u001b[0m\u001b[1;33m)\u001b[0m\u001b[1;33m:\u001b[0m\u001b[1;33m\u001b[0m\u001b[1;33m\u001b[0m\u001b[0m\n\u001b[0;32m    251\u001b[0m             \u001b[1;32mif\u001b[0m \u001b[0mattr\u001b[0m\u001b[1;33m.\u001b[0m\u001b[0m_can_write\u001b[0m\u001b[1;33m:\u001b[0m\u001b[1;33m\u001b[0m\u001b[1;33m\u001b[0m\u001b[0m\n\u001b[1;32m--> 252\u001b[1;33m                 \u001b[0mattr\u001b[0m\u001b[1;33m.\u001b[0m\u001b[0mset_value\u001b[0m\u001b[1;33m(\u001b[0m\u001b[0mvalue\u001b[0m\u001b[1;33m)\u001b[0m\u001b[1;33m\u001b[0m\u001b[1;33m\u001b[0m\u001b[0m\n\u001b[0m\u001b[0;32m    253\u001b[0m             \u001b[1;32melse\u001b[0m\u001b[1;33m:\u001b[0m\u001b[1;33m\u001b[0m\u001b[1;33m\u001b[0m\u001b[0m\n\u001b[0;32m    254\u001b[0m                 \u001b[1;32mraise\u001b[0m \u001b[0mException\u001b[0m\u001b[1;33m(\u001b[0m\u001b[1;34m\"Cannot write to property {}\"\u001b[0m\u001b[1;33m.\u001b[0m\u001b[0mformat\u001b[0m\u001b[1;33m(\u001b[0m\u001b[0mname\u001b[0m\u001b[1;33m)\u001b[0m\u001b[1;33m)\u001b[0m\u001b[1;33m\u001b[0m\u001b[1;33m\u001b[0m\u001b[0m\n",
      "\u001b[1;32m~\\Anaconda3\\lib\\site-packages\\fibre\\remote_object.py\u001b[0m in \u001b[0;36mset_value\u001b[1;34m(self, value)\u001b[0m\n\u001b[0;32m     76\u001b[0m         \u001b[0mbuffer\u001b[0m \u001b[1;33m=\u001b[0m \u001b[0mself\u001b[0m\u001b[1;33m.\u001b[0m\u001b[0m_codec\u001b[0m\u001b[1;33m.\u001b[0m\u001b[0mserialize\u001b[0m\u001b[1;33m(\u001b[0m\u001b[0mvalue\u001b[0m\u001b[1;33m)\u001b[0m\u001b[1;33m\u001b[0m\u001b[1;33m\u001b[0m\u001b[0m\n\u001b[0;32m     77\u001b[0m         \u001b[1;31m# TODO: Currenly we wait for an ack here. Settle on the default guarantee.\u001b[0m\u001b[1;33m\u001b[0m\u001b[1;33m\u001b[0m\u001b[1;33m\u001b[0m\u001b[0m\n\u001b[1;32m---> 78\u001b[1;33m         \u001b[0mself\u001b[0m\u001b[1;33m.\u001b[0m\u001b[0m_parent\u001b[0m\u001b[1;33m.\u001b[0m\u001b[0m__channel__\u001b[0m\u001b[1;33m.\u001b[0m\u001b[0mremote_endpoint_operation\u001b[0m\u001b[1;33m(\u001b[0m\u001b[0mself\u001b[0m\u001b[1;33m.\u001b[0m\u001b[0m_id\u001b[0m\u001b[1;33m,\u001b[0m \u001b[0mbuffer\u001b[0m\u001b[1;33m,\u001b[0m \u001b[1;32mTrue\u001b[0m\u001b[1;33m,\u001b[0m \u001b[1;36m0\u001b[0m\u001b[1;33m)\u001b[0m\u001b[1;33m\u001b[0m\u001b[1;33m\u001b[0m\u001b[0m\n\u001b[0m\u001b[0;32m     79\u001b[0m \u001b[1;33m\u001b[0m\u001b[0m\n\u001b[0;32m     80\u001b[0m     \u001b[1;32mdef\u001b[0m \u001b[0m_dump\u001b[0m\u001b[1;33m(\u001b[0m\u001b[0mself\u001b[0m\u001b[1;33m)\u001b[0m\u001b[1;33m:\u001b[0m\u001b[1;33m\u001b[0m\u001b[1;33m\u001b[0m\u001b[0m\n",
      "\u001b[1;32m~\\Anaconda3\\lib\\site-packages\\fibre\\protocol.py\u001b[0m in \u001b[0;36mremote_endpoint_operation\u001b[1;34m(self, endpoint_id, input, expect_ack, output_length)\u001b[0m\n\u001b[0;32m    313\u001b[0m                     \u001b[1;32mreturn\u001b[0m \u001b[0mself\u001b[0m\u001b[1;33m.\u001b[0m\u001b[0m_responses\u001b[0m\u001b[1;33m.\u001b[0m\u001b[0mpop\u001b[0m\u001b[1;33m(\u001b[0m\u001b[0mseq_no\u001b[0m\u001b[1;33m)\u001b[0m\u001b[1;33m\u001b[0m\u001b[1;33m\u001b[0m\u001b[0m\n\u001b[0;32m    314\u001b[0m                     \u001b[1;31m# TODO: record channel statistics\u001b[0m\u001b[1;33m\u001b[0m\u001b[1;33m\u001b[0m\u001b[1;33m\u001b[0m\u001b[0m\n\u001b[1;32m--> 315\u001b[1;33m                 \u001b[1;32mraise\u001b[0m \u001b[0mChannelBrokenException\u001b[0m\u001b[1;33m(\u001b[0m\u001b[1;33m)\u001b[0m \u001b[1;31m# Too many resend attempts\u001b[0m\u001b[1;33m\u001b[0m\u001b[1;33m\u001b[0m\u001b[0m\n\u001b[0m\u001b[0;32m    316\u001b[0m             \u001b[1;32mfinally\u001b[0m\u001b[1;33m:\u001b[0m\u001b[1;33m\u001b[0m\u001b[1;33m\u001b[0m\u001b[0m\n\u001b[0;32m    317\u001b[0m                 \u001b[0mself\u001b[0m\u001b[1;33m.\u001b[0m\u001b[0m_expected_acks\u001b[0m\u001b[1;33m.\u001b[0m\u001b[0mpop\u001b[0m\u001b[1;33m(\u001b[0m\u001b[0mseq_no\u001b[0m\u001b[1;33m)\u001b[0m\u001b[1;33m\u001b[0m\u001b[1;33m\u001b[0m\u001b[0m\n",
      "\u001b[1;31mChannelBrokenException\u001b[0m: "
     ]
    }
   ],
   "source": [
    "SS_odrv0.axis0.requested_state = odrive.enums.AXIS_STATE_FULL_CALIBRATION_SEQUENCE\n",
    "SS_odrv0.axis1.requested_state = odrive.enums.AXIS_STATE_FULL_CALIBRATION_SEQUENCE\n",
    "\n",
    "JJ_odrv0.axis0.requested_state = odrive.enums.AXIS_STATE_FULL_CALIBRATION_SEQUENCE\n",
    "JJ_odrv0.axis1.requested_state = odrive.enums.AXIS_STATE_FULL_CALIBRATION_SEQUENCE\n",
    "\n",
    "time.sleep(15)\n",
    "\n",
    "print('\\t Motor 0 calibration result: {} \\r\\n'.format(SS_odrv0.axis0.motor.is_calibrated), \n",
    "      '\\t Motor 1 calibration result: {}'.format(SS_odrv0.axis1.motor.is_calibrated))\n",
    "print('\\t Motor 0 calibration result: {} \\r\\n'.format(JJ_odrv0.axis0.motor.is_calibrated), \n",
    "      '\\t Motor 1 calibration result: {}'.format(JJ_odrv0.axis1.motor.is_calibrated))\n",
    "\n",
    "SS_odrv0.axis0.motor.config.pre_calibrated = True\n",
    "SS_odrv0.axis1.motor.config.pre_calibrated = True\n",
    "\n",
    "JJ_odrv0.axis0.motor.config.pre_calibrated = True\n",
    "JJ_odrv0.axis1.motor.config.pre_calibrated = True\n",
    "\n",
    "SS_odrv0.save_configuration()\n",
    "JJ_odrv0.save_configuration()\n"
   ]
  },
  {
   "cell_type": "markdown",
   "metadata": {
    "jupyter": {
     "source_hidden": true
    }
   },
   "source": [
    "SS_odrv0.axis0.requested_state = odrive.enums.AXIS_STATE_CLOSED_LOOP_CONTROL\n",
    "SS_odrv0.axis1.requested_state = odrive.enums.AXIS_STATE_CLOSED_LOOP_CONTROL\n",
    "\n",
    "SS_odrv0.axis0.controller.set_pos_setpoint(0,0,0)\n",
    "SS_odrv0.axis1.controller.set_pos_setpoint(0,0,0)"
   ]
  },
  {
   "cell_type": "code",
   "execution_count": 6,
   "metadata": {},
   "outputs": [],
   "source": [
    "# Function to setup home position\n",
    "def autohome(odrv0):\n",
    "    print('Bring motors to home and press ENTER')\n",
    "    input(\"<enter>\")\n",
    "    R_pos1=odrv0.axis0.encoder.pos_estimate\n",
    "    L_pos1=odrv0.axis1.encoder.pos_estimate\n",
    "    print('Bring motors to 90-90 and press ENTER')\n",
    "    input(\"<enter>\")\n",
    "    R_pos2=odrv0.axis0.encoder.pos_estimate\n",
    "    L_pos2=odrv0.axis1.encoder.pos_estimate\n",
    "    ML_para=(90/(L_pos2-L_pos1))\n",
    "    MR_para=((-90)/(R_pos2-R_pos1))\n",
    "    print(ML_para)\n",
    "    print(MR_para)\n",
    "    print(L_pos2, L_pos1, R_pos2, R_pos1)\n",
    "    print(\"Done\")\n",
    "    return ML_para,MR_para,L_pos1,R_pos1"
   ]
  },
  {
   "cell_type": "markdown",
   "metadata": {
    "jupyter": {
     "source_hidden": true
    }
   },
   "source": [
    "autohome(JJ_odrv0)"
   ]
  },
  {
   "cell_type": "markdown",
   "metadata": {
    "jupyter": {
     "source_hidden": true
    }
   },
   "source": [
    "autohome(SS_odrv0)"
   ]
  },
  {
   "cell_type": "code",
   "execution_count": 9,
   "metadata": {},
   "outputs": [],
   "source": [
    "def idle_all():\n",
    "    JJ_odrv0.axis0.requested_state = odrive.enums.AXIS_STATE_IDLE\n",
    "    JJ_odrv0.axis1.requested_state = odrive.enums.AXIS_STATE_IDLE\n",
    "    SS_odrv0.axis0.requested_state = odrive.enums.AXIS_STATE_IDLE\n",
    "    SS_odrv0.axis1.requested_state = odrive.enums.AXIS_STATE_IDLE\n",
    "    "
   ]
  },
  {
   "cell_type": "code",
   "execution_count": 10,
   "metadata": {},
   "outputs": [],
   "source": [
    "# Function to make the motors return to idle mode \n",
    "def motor_idle(odrv0): \n",
    "    odrv0.axis0.requested_state = odrive.enums.AXIS_STATE_IDLE\n",
    "    odrv0.axis1.requested_state = odrive.enums.AXIS_STATE_IDLE"
   ]
  },
  {
   "cell_type": "markdown",
   "metadata": {
    "jupyter": {
     "source_hidden": true
    }
   },
   "source": [
    "# Defining the Symbols\n",
    "(theta_l, \n",
    " theta_r,\n",
    " l1, \n",
    " l2,\n",
    " w) = symbols(\"\"\" theta_l\n",
    "                         theta_r\n",
    "                         l1 \n",
    "                         l2\n",
    "                         w \"\"\" , real = True)"
   ]
  },
  {
   "cell_type": "markdown",
   "metadata": {
    "jupyter": {
     "source_hidden": true
    }
   },
   "source": [
    "#### Forward Kinematics definition"
   ]
  },
  {
   "cell_type": "markdown",
   "metadata": {
    "jupyter": {
     "outputs_hidden": true,
     "source_hidden": true
    }
   },
   "source": [
    "A = 2*l2*l1*sin(theta_l)- 2*l1*l2*sin(theta_r)\n",
    "B = 2*l2*w - 2*l1*l2*cos(theta_r) + 2*l2*l1*cos(theta_l)\n",
    "C = 2*(l1**2) + w**2 - 2*l1*l1*sin(theta_l)*sin(theta_r) - 2*l1*w*cos(theta_r) + 2*l1*w*cos(theta_l) - 2*l1*l1*cos(theta_l)*cos(theta_r)\n",
    "\n",
    "theta3_1 = 2*atan((A + sqrt(A**2 + B**2 - C**2))/(B-C))\n",
    "theta3_2 = 2*atan((A - sqrt(A**2 + B**2 - C**2))/(B-C))\n",
    "\n",
    "xc_1 = l1*cos(theta_l) + l2*cos(theta3_1) + w/2\n",
    "xc_1\n",
    "xc_2 = l1*cos(theta_l) + l2*cos(theta3_2) + w/2\n",
    "xc_2\n",
    "\n",
    "yc_1 = l1*sin(theta_l) + l2*sin(theta3_1)\n",
    "yc_1\n",
    "yc_2 = l1*sin(theta_l) + l2*sin(theta3_2)\n",
    "yc_2\n",
    "#sympy.simplify(theta3_1)\n",
    "#sympy.simplify(theta3_2)"
   ]
  },
  {
   "cell_type": "markdown",
   "metadata": {
    "jupyter": {
     "source_hidden": true
    }
   },
   "source": [
    "FK1 = Matrix([[xc_1],\n",
    "             [yc_1]])\n",
    "FK2 = Matrix([[xc_2],\n",
    "             [yc_2]])"
   ]
  },
  {
   "cell_type": "markdown",
   "metadata": {
    "jupyter": {
     "source_hidden": true
    }
   },
   "source": [
    "FK1_fast = lambdify((theta_l,theta_r,l1,l2,w),FK1)\n",
    "FK2_fast = lambdify((theta_l,theta_r,l1,l2,w),FK2)"
   ]
  },
  {
   "cell_type": "markdown",
   "metadata": {
    "jupyter": {
     "source_hidden": true
    }
   },
   "source": [
    "def enc_pos(L,R,cal_para):\n",
    "    L_pos=(np.rad2deg(L )/cal_para[0])+cal_para[2]\n",
    "    R_pos=((np.rad2deg(R )-180)/cal_para[1])+cal_para[3]\n",
    "    return L_pos,R_pos"
   ]
  },
  {
   "cell_type": "markdown",
   "metadata": {
    "jupyter": {
     "source_hidden": true
    }
   },
   "source": [
    "def get_angles(odrv0,cal_para):\n",
    "    theta_R=((odrv0.axis0.encoder.pos_estimate)-cal_para[3])*(cal_para[1])+180\n",
    "    theta_L=((odrv0.axis1.encoder.pos_estimate)-cal_para[2])*(cal_para[0])\n",
    "\n",
    "#     theta_R=(np.around(odrv0.axis0.encoder.pos_estimate)-cal_para[3])*(cal_para[1])+180\n",
    "#     theta_L=((np.around(odrv0.axis1.encoder.pos_estimate)-cal_para[2])*cal_para[0])\n",
    "        \n",
    "    return np.deg2rad(theta_L),np.deg2rad(theta_R)"
   ]
  },
  {
   "cell_type": "markdown",
   "metadata": {
    "jupyter": {
     "source_hidden": true
    }
   },
   "source": [
    "def get_vel(odrv0):\n",
    "    vel_R=-(odrv0.axis0.encoder.vel_estimate/(2048*4))*(2*np.pi)\n",
    "    vel_L=-(odrv0.axis1.encoder.vel_estimate/(2048*4))*(2*np.pi)\n",
    "    \n",
    "    return np.array([[vel_L],[vel_R]])"
   ]
  },
  {
   "cell_type": "markdown",
   "metadata": {
    "jupyter": {
     "source_hidden": true
    }
   },
   "source": [
    "J1 = FK1.jacobian([theta_l,theta_r])\n",
    "J1_fast = lambdify((theta_l,theta_r,l1,l2,w),J1)\n",
    "# J_rtheta = FK_rtheta.jacobian([theta_l,theta_r])"
   ]
  },
  {
   "cell_type": "markdown",
   "metadata": {
    "jupyter": {
     "source_hidden": true
    }
   },
   "source": [
    "link1_length = 0.09;                  # m \n",
    "link2_length = 0.16;                  # m\n",
    "w_length = 0.07; \n",
    "x_eq = 0\n",
    "y_eq = 0.12"
   ]
  },
  {
   "cell_type": "markdown",
   "metadata": {
    "jupyter": {
     "outputs_hidden": true,
     "source_hidden": true
    }
   },
   "source": [
    "theta=[]\n",
    "cal_para_JJ=autohome(JJ_odrv0)\n",
    "while True:\n",
    "    theta_R=(np.around(odrv0.axis0.encoder.pos_estimate)-cal_para_JJ[3])*(cal_para_JJ[1])+180\n",
    "    theta_L=((np.around(odrv0.axis1.encoder.pos_estimate)-cal_para_JJ[2])*cal_para_JJ[0])\n",
    "    print(theta_L, theta_R)\n",
    "    clear_output()\n",
    "#     os.system('cls')\n",
    "\n",
    "    theta.append([theta_R,theta_L])\n",
    "    \n",
    "Angle_value = np.asarray(theta)\n",
    "np.save('Angle_Workspace',Angle_value)\n",
    "\n",
    "plt.scatter(*zip(*theta))"
   ]
  },
  {
   "cell_type": "markdown",
   "metadata": {
    "jupyter": {
     "outputs_hidden": true,
     "source_hidden": true
    }
   },
   "source": [
    "plt.scatter(*zip(*theta))"
   ]
  },
  {
   "cell_type": "markdown",
   "metadata": {
    "jupyter": {
     "source_hidden": true
    }
   },
   "source": [
    "#### Function to implement Inverse Kinematics using Minimize function"
   ]
  },
  {
   "cell_type": "markdown",
   "metadata": {
    "jupyter": {
     "source_hidden": true
    }
   },
   "source": [
    "l1 = 0.09;                   \n",
    "l2 = 0.16;                 \n",
    "w = 0.07;  \n",
    "def IK_5_link(x, y, l1 = l1, l2 = l2, w = w):\n",
    "    \n",
    "    def leg_wide(var):\n",
    "        return np.linalg.norm([var[1] - np.pi, var[0]])\n",
    "    \n",
    "    def x_constraint_equation(var):\n",
    "        return l1**2 - l2**2 + (x - w/2)**2 + y**2 - 2*l1*(y*np.sin(var[0]) + (x - w/2)*np.cos(var[0]))\n",
    "\n",
    "    def y_constraint_equation(var):\n",
    "        return l1**2 - l2**2 + (x + w/2)**2 + y**2 - 2*l1*(y*np.sin(var[1]) + (x + w/2)*np.cos(var[1]))\n",
    "\n",
    "    \n",
    "    res = minimize(leg_wide, (0.1, 9*np.pi/10), method=\"SLSQP\", constraints= ({\"type\": \"eq\", \"fun\": x_constraint_equation}, \n",
    "                                                                               {\"type\": \"eq\", \"fun\": y_constraint_equation}))\n",
    "    \n",
    "    return (res, np.linalg.norm([x_constraint_equation(res.x), y_constraint_equation(res.x)]))"
   ]
  },
  {
   "cell_type": "markdown",
   "metadata": {
    "jupyter": {
     "source_hidden": true
    }
   },
   "source": [
    "#### Code to implement the GAITs provided to us. \n",
    "This function returns a list of $\\theta_L$ and $\\theta_R$ for a giveb gait trajctory. These are later used to make the leg move in the desired trajectory"
   ]
  },
  {
   "cell_type": "markdown",
   "metadata": {
    "jupyter": {
     "source_hidden": true
    }
   },
   "source": [
    "def get_trajectory(x,y,d,T,N):\n",
    "    \n",
    "    theta_points = []\n",
    "    # Stance\n",
    "    z = np.polyfit([x[0],x[1]],[y[0],y[1]],1)\n",
    "    p = np.poly1d(z)\n",
    "    n_stance = (np.rint(N*d))\n",
    "    n_stance = n_stance.astype(int)\n",
    "    x_stancepoints = np.linspace(x[0],x[1],n_stance+1)\n",
    "    y_stancepoints = p(x_stancepoints)\n",
    "    \n",
    "    # Swing\n",
    "    z = np.polyfit(x,y,2)\n",
    "    p = np.poly1d(z)\n",
    "    n_swing = np.rint((N*(1-d)))\n",
    "    n_swing = n_swing.astype(int)\n",
    "    x_swingpoints = np.linspace(x[1],x[0],n_swing+1)\n",
    "    y_swingpoints = p(x_swingpoints)\n",
    "    \n",
    "    x_points = np.append(x_stancepoints,x_swingpoints[1:])\n",
    "    y_points = np.append(y_stancepoints,y_swingpoints[1:])\n",
    "    \n",
    "    t_points = np.linspace(0,T,N+1)\n",
    "    \n",
    "    for i in range(x_points.shape[0]):\n",
    "        \n",
    "        res = IK_5_link(x_points[i],y_points[i])\n",
    "        theta_points.append([res[0].x[1],res[0].x[0]])\n",
    "    \n",
    "    return theta_points,t_points"
   ]
  },
  {
   "cell_type": "markdown",
   "metadata": {
    "jupyter": {
     "source_hidden": true
    }
   },
   "source": [
    "x = np.array([0.11,-0.11,0])\n",
    "y = np.array([0.12+0.05,0.12+0.05,0.05+0.05])\n",
    "\n",
    "data1, t1_points = get_trajectory(x,y,0.5,0.25,100)\n",
    "\n",
    "x = np.array([0.11-0.05,-0.08-0.05,0.05-0.05])\n",
    "y = np.array([0.14+0.05,0.1+0.05,0.05+0.05])\n",
    "\n",
    "data2, t2_points = get_trajectory(x,y,0.75,0.5,100)\n",
    "\n",
    "x = np.array([0.08,-0.08,0])\n",
    "y = np.array([0.1+0.05,0.1+0.05,0.04+0.05])\n",
    "\n",
    "data3, t3_points = get_trajectory(x,y,0.5,1.5,200)"
   ]
  },
  {
   "cell_type": "markdown",
   "metadata": {
    "jupyter": {
     "source_hidden": true
    }
   },
   "source": [
    "#### Store the $\\theta_L$ and $\\theta_R$ to a numpy file to plot the data"
   ]
  },
  {
   "cell_type": "markdown",
   "metadata": {
    "jupyter": {
     "source_hidden": true
    }
   },
   "source": [
    "np.save('theta_values_Data_2',data1)\n",
    "np.save('theta_data3',data2)\n",
    "np.save('theta_data4',data3)"
   ]
  },
  {
   "cell_type": "markdown",
   "metadata": {},
   "source": [
    "#### Set Motor PID "
   ]
  },
  {
   "cell_type": "code",
   "execution_count": 246,
   "metadata": {},
   "outputs": [],
   "source": [
    "JJ_odrv0.axis0.controller.config.vel_gain = 16 / 10000.0\n",
    "JJ_odrv0.axis1.controller.config.vel_gain = 16 / 10000.0\n",
    "JJ_odrv0.axis1.controller.config.pos_gain=44\n",
    "JJ_odrv0.axis1.controller.config.pos_gain=44\n",
    "\n",
    "JJ_odrv0.axis0.controller.config.vel_integrator_gain = 0.001 #/ 10000.0\n",
    "JJ_odrv0.axis1.controller.config.vel_integrator_gain = 0.001 #5.0 / 10000.0"
   ]
  },
  {
   "cell_type": "code",
   "execution_count": 247,
   "metadata": {},
   "outputs": [],
   "source": [
    "SS_odrv0.axis0.controller.config.vel_gain = 16 / 10000.0\n",
    "SS_odrv0.axis1.controller.config.vel_gain = 16 / 10000.0\n",
    "SS_odrv0.axis1.controller.config.pos_gain=44\n",
    "SS_odrv0.axis1.controller.config.pos_gain=44\n",
    "\n",
    "SS_odrv0.axis0.controller.config.vel_integrator_gain = 0.001 #/ 10000.0\n",
    "SS_odrv0.axis1.controller.config.vel_integrator_gain = 0.001 #5.0 / 10000.0"
   ]
  },
  {
   "cell_type": "code",
   "execution_count": 248,
   "metadata": {},
   "outputs": [
    {
     "name": "stdout",
     "output_type": "stream",
     "text": [
      "Motors JJ Homing\n",
      "Bring motors to home and press ENTER\n"
     ]
    },
    {
     "name": "stdin",
     "output_type": "stream",
     "text": [
      "<enter> \n"
     ]
    },
    {
     "name": "stdout",
     "output_type": "stream",
     "text": [
      "Bring motors to 90-90 and press ENTER\n"
     ]
    },
    {
     "name": "stdin",
     "output_type": "stream",
     "text": [
      "<enter> \n"
     ]
    },
    {
     "name": "stdout",
     "output_type": "stream",
     "text": [
      "-0.043504529154991436\n",
      "-0.045067601402103155\n",
      "-1075.0001220703125 993.75 -906.000244140625 -2903.000244140625\n",
      "Done\n",
      "Motors SS Homing\n",
      "Bring motors to home and press ENTER\n"
     ]
    },
    {
     "name": "stdin",
     "output_type": "stream",
     "text": [
      "<enter> \n"
     ]
    },
    {
     "name": "stdout",
     "output_type": "stream",
     "text": [
      "Bring motors to 90-90 and press ENTER\n"
     ]
    },
    {
     "name": "stdin",
     "output_type": "stream",
     "text": [
      "<enter> \n"
     ]
    },
    {
     "name": "stdout",
     "output_type": "stream",
     "text": [
      "-0.04189669845287713\n",
      "-0.0431402507527075\n",
      "819.609375 2967.75 1988.90625 -97.3125\n",
      "Done\n"
     ]
    }
   ],
   "source": [
    "print('Motors JJ Homing')\n",
    "cal_para_JJ=autohome(JJ_odrv0)\n",
    "print('Motors SS Homing')\n",
    "cal_para_SS=autohome(SS_odrv0)"
   ]
  },
  {
   "cell_type": "markdown",
   "metadata": {
    "jupyter": {
     "source_hidden": true
    }
   },
   "source": [
    "JJ_odrv0.axis0.requested_state = odrive.enums.AXIS_STATE_CLOSED_LOOP_CONTROL\n",
    "JJ_odrv0.axis1.requested_state = odrive.enums.AXIS_STATE_CLOSED_LOOP_CONTROL\n",
    "\n",
    "JJ_odrv0.axis0.controller.set_pos_setpoint(0,0,0)\n",
    "JJ_odrv0.axis1.controller.set_pos_setpoint(0,0,0)"
   ]
  },
  {
   "cell_type": "markdown",
   "metadata": {
    "jupyter": {
     "source_hidden": true
    }
   },
   "source": [
    "# odrv0=SS_odrv0\n",
    "theta_Gait=[]\n",
    "JJ_odrv0.axis0.requested_state = odrive.enums.AXIS_STATE_CLOSED_LOOP_CONTROL\n",
    "JJ_odrv0.axis1.requested_state = odrive.enums.AXIS_STATE_CLOSED_LOOP_CONTROL\n",
    "SS_odrv0.axis0.requested_state = odrive.enums.AXIS_STATE_CLOSED_LOOP_CONTROL\n",
    "SS_odrv0.axis1.requested_state = odrive.enums.AXIS_STATE_CLOSED_LOOP_CONTROL\n",
    "\n",
    "a=np.load('data_L_leg.npy') # Left Leg \n",
    "b=np.load('data_R_leg.npy') # Right Leg"
   ]
  },
  {
   "cell_type": "markdown",
   "metadata": {
    "jupyter": {
     "source_hidden": true
    }
   },
   "source": [
    "# Generic Hopping\n",
    "start_time = time.time()\n",
    "# your code\n",
    "cpr= 2048\n",
    "t_step = 0.005\n",
    "w_ra = 0\n",
    "w_la = 0\n",
    "\n",
    "w_rb = 0\n",
    "w_lb = 0\n",
    "for k in range(0,2):\n",
    "    for i in range(0,len(a)):\n",
    "        start_time2 = time.time()\n",
    "        L_posJ=(np.rad2deg(a[i][1] )/cal_para_JJ[0])+cal_para_JJ[2]\n",
    "        R_posJ=((np.rad2deg(a[i][0] )-180)/cal_para_JJ[1])+cal_para_JJ[3]\n",
    "        \n",
    "        L_posS=(np.rad2deg(b[i][1] )/cal_para_SS[0])+cal_para_SS[2]\n",
    "        R_posS=((np.rad2deg(b[i][0] )-180)/cal_para_SS[1])+cal_para_SS[3]\n",
    "\n",
    "        if (i-1)>0:\n",
    "            w_ra = ((a[i][0] - a[i-1][0])/(t_step*2*np.pi) )*cpr\n",
    "            w_la = ((a[i][1] - a[i-1][1])/(t_step*2*np.pi) )*cpr\n",
    "            \n",
    "            w_rb = ((b[i][0] - b[i-1][0])/(t_step*2*np.pi) )*cpr\n",
    "            w_lb = ((b[i][1] - b[i-1][1])/(t_step*2*np.pi) )*cpr\n",
    "            \n",
    "        SS_odrv0.axis0.controller.set_pos_setpoint(R_posS,1*w_rb,0)\n",
    "        SS_odrv0.axis1.controller.set_pos_setpoint(L_posS,1*w_lb,0)\n",
    "        \n",
    "        JJ_odrv0.axis0.controller.set_pos_setpoint(R_posJ,1*w_ra,0)\n",
    "        JJ_odrv0.axis1.controller.set_pos_setpoint(L_posJ,1*w_la,0)\n",
    "        \n",
    "        while (time.time() - start_time2 < 0.2*t_step):\n",
    "            pass\n",
    "            #clear_output()\n",
    "#         time.sleep(0.1)\n",
    "#         theta_R=(np.around(JJ_odrv0.axis0.encoder.pos_estimate)-cal_para_JJ[3])*(cal_para_JJ[1])+180\n",
    "#         theta_L=((np.around(JJ_odrv0.axis1.encoder.pos_estimate)-cal_para_JJ[2])*cal_para_JJ[0])\n",
    "#         theta_Gait.append([theta_R,theta_L])\n",
    "# motor_idle()    \n",
    "elapsed_time = time.time() - start_time\n",
    "print(elapsed_time)"
   ]
  },
  {
   "cell_type": "markdown",
   "metadata": {
    "jupyter": {
     "source_hidden": true
    }
   },
   "source": [
    "# Right leg cycle (motor set SS)\n",
    "def right_leg_Cycle(JJ_odrv0):\n",
    "    JJ_odrv0.axis0.requested_state = odrive.enums.AXIS_STATE_CLOSED_LOOP_CONTROL\n",
    "    JJ_odrv0.axis1.requested_state = odrive.enums.AXIS_STATE_CLOSED_LOOP_CONTROL\n",
    "    start_time = time.time()\n",
    "    a=np.load('L_leg.npy')\n",
    "    # your code\n",
    "    cpr= 2048\n",
    "    t_step = 0.005\n",
    "    w_ra = 0\n",
    "    w_la = 0\n",
    "\n",
    "    w_rb = 0\n",
    "    w_lb = 0\n",
    "#     for k in range(0,10):\n",
    "\n",
    "    for i in range(0,len(a)):\n",
    "        start_time2 = time.time()\n",
    "        L_posJ=(np.rad2deg(a[i][1] )/cal_para_JJ[0])+cal_para_JJ[2]\n",
    "        R_posJ=((np.rad2deg(a[i][0] )-180)/cal_para_JJ[1])+cal_para_JJ[3]\n",
    "#         print(L_posJ)\n",
    "#         L_posS=(np.rad2deg(b[i][1] )/cal_para_SS[0])+cal_para_SS[2]\n",
    "#         R_posS=((np.rad2deg(b[i][0] )-180)/cal_para_SS[1])+cal_para_SS[3]\n",
    "\n",
    "        if (i-1)>0:\n",
    "            w_ra = ((a[i][0] - a[i-1][0])/(t_step*2*np.pi) )*cpr\n",
    "            w_la = ((a[i][1] - a[i-1][1])/(t_step*2*np.pi) )*cpr\n",
    "\n",
    "#             w_rb = ((b[i][0] - b[i-1][0])/(t_step*2*np.pi) )*cpr\n",
    "#             w_lb = ((b[i][1] - b[i-1][1])/(t_step*2*np.pi) )*cpr\n",
    "\n",
    "#         SS_odrv0.axis0.controller.set_pos_setpoint(R_posS,1*w_rb,0)\n",
    "#         SS_odrv0.axis1.controller.set_pos_setpoint(L_posS,1*w_lb,0)\n",
    "\n",
    "        JJ_odrv0.axis0.controller.set_pos_setpoint(R_posJ,1*w_ra,0)\n",
    "        JJ_odrv0.axis1.controller.set_pos_setpoint(L_posJ,1*w_la,0)\n",
    "\n",
    "        while (time.time() - start_time2 < 0.2*t_step):\n",
    "            pass\n",
    "# motor_idle()    \n",
    "    elapsed_time = time.time() - start_time\n",
    "#     print(elapsed_time)"
   ]
  },
  {
   "cell_type": "markdown",
   "metadata": {
    "jupyter": {
     "source_hidden": true
    }
   },
   "source": [
    "# Right leg cycle (motor set SS)\n",
    "def left_leg_Cycle(SS_odrv0):\n",
    "    SS_odrv0.axis0.requested_state = odrive.enums.AXIS_STATE_CLOSED_LOOP_CONTROL\n",
    "    SS_odrv0.axis1.requested_state = odrive.enums.AXIS_STATE_CLOSED_LOOP_CONTROL\n",
    "    start_time = time.time()\n",
    "    a=np.load('R_leg.npy')\n",
    "    # your code\n",
    "    cpr= 2048\n",
    "    t_step = 0.005\n",
    "    w_ra = 0\n",
    "    w_la = 0\n",
    "\n",
    "    w_rb = 0\n",
    "    w_lb = 0\n",
    "#     for k in range(0,10):\n",
    "\n",
    "    for i in range(0,len(a)):\n",
    "        start_time2 = time.time()\n",
    "#         L_posJ=(np.rad2deg(a[i][1] )/cal_para_JJ[0])+cal_para_JJ[2]\n",
    "#         R_posJ=((np.rad2deg(a[i][0] )-180)/cal_para_JJ[1])+cal_para_JJ[3]\n",
    "#         print(L_posJ)\n",
    "        L_posS=(np.rad2deg(a[i][1] )/cal_para_SS[0])+cal_para_SS[2]\n",
    "        R_posS=((np.rad2deg(a[i][0] )-180)/cal_para_SS[1])+cal_para_SS[3]\n",
    "\n",
    "        if (i-1)>0:\n",
    "#             w_ra = ((a[i][0] - a[i-1][0])/(t_step*2*np.pi) )*cpr\n",
    "#             w_la = ((a[i][1] - a[i-1][1])/(t_step*2*np.pi) )*cpr\n",
    "\n",
    "            w_rb = ((a[i][0] - a[i-1][0])/(t_step*2*np.pi) )*cpr\n",
    "            w_lb = ((a[i][1] - a[i-1][1])/(t_step*2*np.pi) )*cpr\n",
    "\n",
    "        SS_odrv0.axis0.controller.set_pos_setpoint(R_posS,1*w_rb,0)\n",
    "        SS_odrv0.axis1.controller.set_pos_setpoint(L_posS,1*w_lb,0)\n",
    "\n",
    "#         JJ_odrv0.axis0.controller.set_pos_setpoint(R_posJ,1*w_ra,0)\n",
    "#         JJ_odrv0.axis1.controller.set_pos_setpoint(L_posJ,1*w_la,0)\n",
    "\n",
    "        while (time.time() - start_time2 < 0.2*t_step):\n",
    "            pass\n",
    "# motor_idle()    \n",
    "    elapsed_time = time.time() - start_time\n",
    "#     print(elapsed_time)"
   ]
  },
  {
   "cell_type": "markdown",
   "metadata": {
    "jupyter": {
     "source_hidden": true
    }
   },
   "source": [
    "# Cartesian Control Right set\n",
    "def Stiff_SpringR(odrv0,cal_para):\n",
    "    odrv0.axis0.requested_state = odrive.enums.AXIS_STATE_CLOSED_LOOP_CONTROL\n",
    "    odrv0.axis1.requested_state = odrive.enums.AXIS_STATE_CLOSED_LOOP_CONTROL\n",
    "\n",
    "    # axis.controller.config.control_mode = CTRL_MODE_CURRENT_CONTROL\n",
    "\n",
    "    x_eq=-0.11\n",
    "    y_eq=0.12\n",
    "\n",
    "    kx = 0  # N/m\n",
    "    ky = 200 # N/m\n",
    "    kT = 0.0285 # Nm/A\n",
    "    c  = 1  #1.5 # Nm/rad\n",
    "    Imax=25    #A\n",
    "    res = IK_5_link(x_eq, y_eq)\n",
    "    L_eq,R_eq=enc_pos(res[0].x[0],res[0].x[1],cal_para)\n",
    "\n",
    "    odrv0.axis0.controller.set_pos_setpoint(R_eq,0,0)\n",
    "    odrv0.axis1.controller.set_pos_setpoint(L_eq,0,0)\n",
    "    time.sleep(1)\n",
    "    t_end = time.time() + 5\n",
    "\n",
    "    while time.time() < t_end:\n",
    "\n",
    "        theta_l, theta_r = get_angles(odrv0,cal_para)\n",
    "        vel = get_vel(odrv0)\n",
    "\n",
    "        fk_xy = FK1_fast(theta_l,theta_r,link1_length,link2_length,w_length)\n",
    "        J_xy = J1_fast(theta_l,theta_r,link1_length,link2_length,w_length)\n",
    "        x = fk_xy[0]\n",
    "        y = fk_xy[1]\n",
    "        mat_xy = np.array([[x[0]-x_eq],\n",
    "                           [y[0]-y_eq]])\n",
    "        mat_k = np.array([[-kx,0],\n",
    "                          [0,-ky]])\n",
    "        I1 = (J_xy.T @ mat_k @ mat_xy)/kT\n",
    "        I = I1 -c*(vel)\n",
    "        if(I[0]>Imax):\n",
    "            I[0]=Imax\n",
    "        elif(I[0]<-Imax):\n",
    "            I[0]=-Imax\n",
    "\n",
    "        if(I[1]>Imax):\n",
    "            I[1]=Imax\n",
    "        elif(I[1]<-Imax):\n",
    "            I[1]=-Imax\n",
    "\n",
    "        odrv0.axis0.controller.set_current_setpoint(-I[1])\n",
    "        odrv0.axis1.controller.set_current_setpoint(-I[0])\n",
    "        print(I1)\n",
    "        clear_output()\n",
    "    motor_idle(odrv0)    "
   ]
  },
  {
   "cell_type": "markdown",
   "metadata": {
    "jupyter": {
     "source_hidden": true
    }
   },
   "source": [
    "# Cartesian Control\n",
    "def Stiff_SpringL(odrv0,cal_para,x_eq,y_eq):\n",
    "    odrv0.axis0.requested_state = odrive.enums.AXIS_STATE_CLOSED_LOOP_CONTROL\n",
    "    odrv0.axis1.requested_state = odrive.enums.AXIS_STATE_CLOSED_LOOP_CONTROL\n",
    "\n",
    "    # axis.controller.config.control_mode = CTRL_MODE_CURRENT_CONTROL\n",
    "\n",
    "#     x_eq=0.11\n",
    "#     y_eq=0.12\n",
    "\n",
    "    kx = 100  # N/m\n",
    "    ky = 200 # N/m\n",
    "    kT = 0.0285 # Nm/A\n",
    "    c  = 1  #1.5 # Nm/rad\n",
    "    Imax=25    #A\n",
    "    res = IK_5_link(x_eq, y_eq)\n",
    "    L_eq,R_eq=enc_pos(res[0].x[0],res[0].x[1],cal_para)\n",
    "\n",
    "    odrv0.axis0.controller.set_pos_setpoint(R_eq,0,0)\n",
    "    odrv0.axis1.controller.set_pos_setpoint(L_eq,0,0)\n",
    "    time.sleep(1)\n",
    "    t_end = time.time() + 5\n",
    "\n",
    "#     while time.time() < t_end:\n",
    "\n",
    "    theta_l, theta_r = get_angles(odrv0,cal_para)\n",
    "    vel = get_vel(odrv0)\n",
    "\n",
    "    fk_xy = FK1_fast(theta_l,theta_r,link1_length,link2_length,w_length)\n",
    "    J_xy = J1_fast(theta_l,theta_r,link1_length,link2_length,w_length)\n",
    "    x = fk_xy[0]\n",
    "    y = fk_xy[1]\n",
    "    mat_xy = np.array([[x[0]-x_eq],\n",
    "                       [y[0]-y_eq]])\n",
    "    mat_k = np.array([[-kx,0],\n",
    "                      [0,-ky]])\n",
    "    I1 = (J_xy.T @ mat_k @ mat_xy)/kT\n",
    "    I = I1 -c*(vel)\n",
    "    if(I[0]>Imax):\n",
    "        I[0]=Imax\n",
    "    elif(I[0]<-Imax):\n",
    "        I[0]=-Imax\n",
    "\n",
    "    if(I[1]>Imax):\n",
    "        I[1]=Imax\n",
    "    elif(I[1]<-Imax):\n",
    "        I[1]=-Imax\n",
    "\n",
    "    odrv0.axis0.controller.set_current_setpoint(-I[1])\n",
    "    odrv0.axis1.controller.set_current_setpoint(-I[0])\n",
    "    print(I1)\n",
    "    clear_output()\n",
    "#     motor_idle(odrv0)    "
   ]
  },
  {
   "cell_type": "markdown",
   "metadata": {},
   "source": [
    "# Sab yaha se start hoga. Baki upar ka aise he hai"
   ]
  },
  {
   "cell_type": "code",
   "execution_count": 370,
   "metadata": {},
   "outputs": [],
   "source": [
    "def set_current(lim):\n",
    "    JJ_odrv0.axis0.motor.config.current_lim = lim\n",
    "    JJ_odrv0.axis1.motor.config.current_lim = lim\n",
    "\n",
    "    SS_odrv0.axis0.motor.config.current_lim = lim\n",
    "    SS_odrv0.axis1.motor.config.current_lim = lim"
   ]
  },
  {
   "cell_type": "code",
   "execution_count": 371,
   "metadata": {},
   "outputs": [],
   "source": [
    "def set_pos_gain(gain):\n",
    "    JJ_odrv0.axis0.controller.config.pos_gain = gain\n",
    "    JJ_odrv0.axis1.controller.config.pos_gain = gain\n",
    "\n",
    "    SS_odrv0.axis0.controller.config.pos_gain = gain\n",
    "    SS_odrv0.axis1.controller.config.pos_gain = gain"
   ]
  },
  {
   "cell_type": "code",
   "execution_count": 409,
   "metadata": {},
   "outputs": [],
   "source": [
    "def jump(JJ_odrv0, SS_odrv0):\n",
    "#     height_offset = 600\n",
    "#     ext_height = -600\n",
    "#     rot_offset = 800 #500\n",
    "#     land_offset = 600\n",
    "    height_offset = 800\n",
    "    ext_height = -1000\n",
    "    rot_offset = 1000 #500\n",
    "    land_offset = 1000\n",
    "    \n",
    "    # Using cal_para_JJ and cal_para_SS which are global variables\n",
    "    JJ_zero_pos = (cal_para_JJ[3]+4096, cal_para_JJ[2])\n",
    "    SS_zero_pos = (cal_para_SS[3]+4096, cal_para_SS[2])\n",
    "    \n",
    "    JJ_eq_pos = (JJ_zero_pos[0] - 3072 - height_offset - rot_offset, JJ_zero_pos[1] - 1024 + height_offset - rot_offset) #m0, m1\n",
    "    JJ_crouch_pos = (JJ_zero_pos[0] - 3500, JJ_zero_pos[1] + 300)\n",
    "    JJ_ext_pos = (JJ_crouch_pos[0] + (4096/2 + 200), JJ_crouch_pos[1] - 1000)\n",
    "#     JJ_ext_pos = (JJ_crouch_pos[0] + (4096/2+400), JJ_crouch_pos[1]-2000 )\n",
    "    JJ_landing = (JJ_zero_pos[0] - 4096 - land_offset, JJ_zero_pos[1] - land_offset)\n",
    "\n",
    "    JJ_new_ext = (JJ_zero_pos[0] - 3072 - ext_height - rot_offset, JJ_zero_pos[1] - 1024 + ext_height - rot_offset)\n",
    "    \n",
    "    SS_eq_pos = (SS_zero_pos[0] - 3072 - height_offset + rot_offset, SS_zero_pos[1] - 1024 + height_offset + rot_offset) #m0, m1\n",
    "    SS_crouch_pos = (SS_zero_pos[0] - 300 - 4096, SS_zero_pos[1] - 596)\n",
    "    SS_ext_pos = (SS_crouch_pos[0] + 1000, SS_crouch_pos[1] - (4096/2 + 200))\n",
    "#     SS_ext_pos = (SS_crouch_pos[0]+2000, SS_crouch_pos[1] - (4096/2+400))\n",
    "    SS_landing = (SS_zero_pos[0] - 4086 + land_offset, SS_zero_pos[1] + land_offset)\n",
    "\n",
    "    SS_new_ext = (SS_zero_pos[0] - 3072 - ext_height + rot_offset, SS_zero_pos[1] - 1024 + ext_height + rot_offset)\n",
    "    set_current(20)\n",
    "    set_pos_gain(60)\n",
    "\n",
    "    # SET LEGS TO STARTING POS\n",
    "    odrive.utils.dump_errors(JJ_odrv0, True)\n",
    "    JJ_odrv0.axis0.requested_state = odrive.enums.AXIS_STATE_CLOSED_LOOP_CONTROL\n",
    "    JJ_odrv0.axis1.requested_state = odrive.enums.AXIS_STATE_CLOSED_LOOP_CONTROL\n",
    "    JJ_odrv0.axis0.controller.set_pos_setpoint(JJ_eq_pos[0],0,0)\n",
    "    JJ_odrv0.axis1.controller.set_pos_setpoint(JJ_eq_pos[1],0,0)\n",
    "\n",
    "    odrive.utils.dump_errors(SS_odrv0, True)\n",
    "    SS_odrv0.axis0.requested_state = odrive.enums.AXIS_STATE_CLOSED_LOOP_CONTROL\n",
    "    SS_odrv0.axis1.requested_state = odrive.enums.AXIS_STATE_CLOSED_LOOP_CONTROL\n",
    "    SS_odrv0.axis0.controller.set_pos_setpoint(SS_eq_pos[0],0,0)\n",
    "    SS_odrv0.axis1.controller.set_pos_setpoint(SS_eq_pos[1],0,0)\n",
    "\n",
    "    time.sleep(3)\n",
    "\n",
    "    # EXTEND\n",
    "    set_current(20)\n",
    "    set_pos_gain(13)\n",
    "    JJ_odrv0.axis0.requested_state = odrive.enums.AXIS_STATE_CLOSED_LOOP_CONTROL\n",
    "    JJ_odrv0.axis1.requested_state = odrive.enums.AXIS_STATE_CLOSED_LOOP_CONTROL\n",
    "    JJ_odrv0.axis0.controller.set_pos_setpoint(JJ_ext_pos[0],0,0)\n",
    "    JJ_odrv0.axis1.controller.set_pos_setpoint(JJ_ext_pos[1],0,0)\n",
    "\n",
    "    SS_odrv0.axis0.requested_state = odrive.enums.AXIS_STATE_CLOSED_LOOP_CONTROL\n",
    "    SS_odrv0.axis1.requested_state = odrive.enums.AXIS_STATE_CLOSED_LOOP_CONTROL\n",
    "    SS_odrv0.axis0.controller.set_pos_setpoint(SS_ext_pos[0],0,0)\n",
    "    SS_odrv0.axis1.controller.set_pos_setpoint(SS_ext_pos[1],0,0)\n",
    "\n",
    "    time.sleep(0.25)\n",
    "\n",
    "    # STARTING\n",
    "    JJ_odrv0.axis0.requested_state = odrive.enums.AXIS_STATE_CLOSED_LOOP_CONTROL\n",
    "    JJ_odrv0.axis1.requested_state = odrive.enums.AXIS_STATE_CLOSED_LOOP_CONTROL\n",
    "    JJ_odrv0.axis0.controller.set_pos_setpoint(JJ_eq_pos[0],0,0)\n",
    "    JJ_odrv0.axis1.controller.set_pos_setpoint(JJ_eq_pos[1],0,0)\n",
    "\n",
    "    SS_odrv0.axis0.requested_state = odrive.enums.AXIS_STATE_CLOSED_LOOP_CONTROL\n",
    "    SS_odrv0.axis1.requested_state = odrive.enums.AXIS_STATE_CLOSED_LOOP_CONTROL\n",
    "    SS_odrv0.axis0.controller.set_pos_setpoint(SS_eq_pos[0],0,0)\n",
    "    SS_odrv0.axis1.controller.set_pos_setpoint(SS_eq_pos[1],0,0)\n",
    "\n",
    "    set_pos_gain(60)"
   ]
  },
  {
   "cell_type": "code",
   "execution_count": 348,
   "metadata": {},
   "outputs": [],
   "source": [
    "# Right leg cycle (motor set SS)\n",
    "def both_leg_Cycle(SS_odrv0,JJ_odrv0):\n",
    "    SS_odrv0.axis0.requested_state = odrive.enums.AXIS_STATE_CLOSED_LOOP_CONTROL\n",
    "    SS_odrv0.axis1.requested_state = odrive.enums.AXIS_STATE_CLOSED_LOOP_CONTROL\n",
    "    JJ_odrv0.axis0.requested_state = odrive.enums.AXIS_STATE_CLOSED_LOOP_CONTROL\n",
    "    JJ_odrv0.axis1.requested_state = odrive.enums.AXIS_STATE_CLOSED_LOOP_CONTROL\n",
    "    \n",
    "    start_time = time.time()\n",
    "    a=np.load('R_leg1_200.npy')\n",
    "#     a=w\n",
    "    b=np.load('L_leg1_200.npy')\n",
    "    b_top=b[0:51,:]\n",
    "    b_bottom=b[51:101,:]\n",
    "    w=np.block([[b_bottom],[b_top]])\n",
    "    b=w\n",
    "#     b=w\n",
    "    # your code\n",
    "    cpr= 2048\n",
    "    t_step = 0.005\n",
    "    w_ra = 5\n",
    "    w_la = 5\n",
    "\n",
    "    w_rb = 5\n",
    "    w_lb = 5\n",
    "#     for k in range(0,10):\n",
    "\n",
    "    for i in range(0,len(a)):\n",
    "        start_time2 = time.time()\n",
    "        L_posJ=(np.rad2deg(b[i][1] )/cal_para_JJ[0])+cal_para_JJ[2]\n",
    "        R_posJ=((np.rad2deg(b[i][0] )-180)/cal_para_JJ[1])+cal_para_JJ[3]\n",
    "#         print(L_posJ)\n",
    "        L_posS=(np.rad2deg(a[i][1] )/cal_para_SS[0])+cal_para_SS[2]\n",
    "        R_posS=((np.rad2deg(a[i][0] )-180)/cal_para_SS[1])+cal_para_SS[3]\n",
    "\n",
    "        if (i-1)>0:\n",
    "            w_ra = ((b[i][0] - b[i-1][0])/(t_step*2*np.pi) )*cpr\n",
    "            w_la = ((b[i][1] - b[i-1][1])/(t_step*2*np.pi) )*cpr\n",
    "\n",
    "            w_rb = ((a[i][0] - a[i-1][0])/(t_step*2*np.pi) )*cpr\n",
    "            w_lb = ((a[i][1] - a[i-1][1])/(t_step*2*np.pi) )*cpr\n",
    "\n",
    "        SS_odrv0.axis0.controller.set_pos_setpoint(R_posS,1*w_rb,15)\n",
    "        SS_odrv0.axis1.controller.set_pos_setpoint(L_posS,1*w_lb,15)\n",
    "        \n",
    "\n",
    "        JJ_odrv0.axis0.controller.set_pos_setpoint(R_posJ,1*w_ra,15)\n",
    "        JJ_odrv0.axis1.controller.set_pos_setpoint(L_posJ,1*w_la,15)\n",
    "\n",
    "        while (time.time() - start_time2 < 0.2*t_step):\n",
    "            pass\n",
    "# motor_idle()    \n",
    "    elapsed_time = time.time() - start_time\n",
    "#     print(elapsed_time)"
   ]
  },
  {
   "cell_type": "code",
   "execution_count": 365,
   "metadata": {},
   "outputs": [],
   "source": [
    "JJ_odrv0.axis0.controller.config.pos_gain=120\n",
    "SS_odrv0.axis0.controller.config.pos_gain=120"
   ]
  },
  {
   "cell_type": "code",
   "execution_count": 414,
   "metadata": {},
   "outputs": [],
   "source": [
    "# Call each cycle for walking\n",
    "N= 4 # No of steps\n",
    "for i in range(4):\n",
    "    both_leg_Cycle(SS_odrv0,JJ_odrv0)\n",
    "# jump(JJ_odrv0,SS_odrv0) # uncomment this line to check jump sequence"
   ]
  },
  {
   "cell_type": "code",
   "execution_count": null,
   "metadata": {},
   "outputs": [],
   "source": []
  }
 ],
 "metadata": {
  "kernelspec": {
   "display_name": "Python 3",
   "language": "python",
   "name": "python3"
  },
  "language_info": {
   "codemirror_mode": {
    "name": "ipython",
    "version": 3
   },
   "file_extension": ".py",
   "mimetype": "text/x-python",
   "name": "python",
   "nbconvert_exporter": "python",
   "pygments_lexer": "ipython3",
   "version": "3.7.5"
  }
 },
 "nbformat": 4,
 "nbformat_minor": 4
}
