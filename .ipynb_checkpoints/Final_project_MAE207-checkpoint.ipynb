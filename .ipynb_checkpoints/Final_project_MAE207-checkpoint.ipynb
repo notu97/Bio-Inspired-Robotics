{
 "cells": [
  {
   "cell_type": "markdown",
   "metadata": {},
   "source": [
    "## Homework 3 MAE-207"
   ]
  },
  {
   "cell_type": "markdown",
   "metadata": {},
   "source": [
    "## Connect to ODrive"
   ]
  },
  {
   "cell_type": "code",
   "execution_count": 1,
   "metadata": {},
   "outputs": [],
   "source": [
    "import time\n",
    "from IPython.display import clear_output\n",
    "import numpy as np\n",
    "import matplotlib as mpl\n",
    "\n",
    "# import sympy\n",
    "from sympy import symbols, pprint\n",
    "from sympy import sin, cos, asin, acos, atan, pi, sqrt\n",
    "from sympy import Matrix\n",
    "from IPython.core.interactiveshell import InteractiveShell\n",
    "InteractiveShell.ast_node_interactivity = \"all\"\n",
    "from sympy import lambdify\n",
    "# import numpy as np\n",
    "\n",
    "import matplotlib.pyplot as plt\n",
    "import matplotlib.animation as animation\n",
    "from matplotlib import style\n",
    "\n",
    "from IPython import display # for the animation\n",
    "# import matplotlib as mpl\n",
    "# mpl.use('Qt5Agg')\n",
    "# plt.ion()\n",
    "import os\n",
    "import matplotlib.pyplot as plt\n",
    "# plt.ion()\n",
    "\n",
    "# for the symbolic manipulation of jacobian\n",
    "import sympy as sp\n",
    "# from sympy import symbols\n",
    "#from sympy import sin, cos, asin, acos, pi, atan2, sqrt\n",
    "from sympy.utilities.lambdify import lambdify\n",
    "#from sympy import Matrix\n",
    "\n",
    "from scipy.optimize import minimize\n",
    "from scipy.optimize import fsolve\n",
    "\n",
    "import time\n",
    "\n",
    "import odrive\n",
    "from odrive.utils import *\n",
    "import odrive.enums\n",
    "%matplotlib qt"
   ]
  },
  {
   "cell_type": "code",
   "execution_count": 2,
   "metadata": {},
   "outputs": [
    {
     "name": "stdout",
     "output_type": "stream",
     "text": [
      "Connected!\n",
      "Odrive serial 35760845828174\n",
      "Motor 0 calibrated: False\n",
      "Motor 1 calibrated: False\n"
     ]
    }
   ],
   "source": [
    "odrv0 = odrive.find_any()\n",
    "if odrv0 is not None:\n",
    "    print('Connected!')\n",
    "    print('Odrive serial {}'.format(odrv0.serial_number))\n",
    "    \n",
    "    m0 = odrv0.axis0.motor.is_calibrated\n",
    "    m1 = odrv0.axis1.motor.is_calibrated\n",
    "    \n",
    "    print('Motor 0 calibrated: {}'.format(m0))\n",
    "    print('Motor 1 calibrated: {}'.format(m1))    \n",
    "    \n",
    "else:\n",
    "    print('Not connected')\n",
    "    "
   ]
  },
  {
   "cell_type": "code",
   "execution_count": 3,
   "metadata": {},
   "outputs": [
    {
     "data": {
      "text/plain": [
       "35760845828174"
      ]
     },
     "execution_count": 3,
     "metadata": {},
     "output_type": "execute_result"
    }
   ],
   "source": [
    "odrv0.serial_number"
   ]
  },
  {
   "cell_type": "markdown",
   "metadata": {},
   "source": [
    "## Homework 3 MAE-207"
   ]
  },
  {
   "cell_type": "markdown",
   "metadata": {},
   "source": [
    "## Connect to ODrive"
   ]
  },
  {
   "cell_type": "code",
   "execution_count": 2,
   "metadata": {},
   "outputs": [],
   "source": [
    "odrv0 = odrive.find_any()"
   ]
  },
  {
   "cell_type": "code",
   "execution_count": 3,
   "metadata": {},
   "outputs": [
    {
     "name": "stdout",
     "output_type": "stream",
     "text": [
      "Odrive serial 35760845828174\n"
     ]
    }
   ],
   "source": [
    "print('Odrive serial {}'.format(odrv0.serial_number))"
   ]
  },
  {
   "cell_type": "markdown",
   "metadata": {},
   "source": [
    "### JJ_Odrv0=20863883304E\n",
    "### SS_Odrv0=306139573235"
   ]
  },
  {
   "cell_type": "code",
   "execution_count": null,
   "metadata": {},
   "outputs": [],
   "source": [
    "# odrv0 = odrive.find_any()\n",
    "# if odrv0 is not None:\n",
    "#     print('Connected!')\n",
    "#     print('Odrive serial {}'.format(odrv0.serial_number))\n",
    "    \n",
    "#     m0 = odrv0.axis0.motor.is_calibrated\n",
    "#     m1 = odrv0.axis1.motor.is_calibrated\n",
    "    \n",
    "#     print('Motor 0 calibrated: {}'.format(m0))\n",
    "#     print('Motor 1 calibrated: {}'.format(m1))    \n",
    "    \n",
    "# else:\n",
    "#     print('Not connected')\n",
    "    "
   ]
  },
  {
   "cell_type": "code",
   "execution_count": 18,
   "metadata": {},
   "outputs": [
    {
     "name": "stdout",
     "output_type": "stream",
     "text": [
      "Connected!\n",
      "Target serial 20863883304E \t Odrive serial 35760845828174\n",
      "Motor 0 calibrated: True\n",
      "Motor 1 calibrated: True\n",
      "Connected!\n",
      "Target serial 306139573235 \t Odrive serial 53194131976757\n",
      "Motor 0 calibrated: True\n",
      "Motor 1 calibrated: True\n"
     ]
    }
   ],
   "source": [
    "def connect_odrive(serial):\n",
    "    odrv0 = odrive.find_any(serial_number = serial, timeout = 20)\n",
    "    if odrv0 is not None:\n",
    "        print('Connected!')\n",
    "        print('Target serial {} \\t Odrive serial {}'.format(serial, odrv0.serial_number))\n",
    "        \n",
    "        m0 = odrv0.axis0.motor.is_calibrated\n",
    "        m1 = odrv0.axis1.motor.is_calibrated\n",
    "\n",
    "        print('Motor 0 calibrated: {}'.format(m0))\n",
    "        print('Motor 1 calibrated: {}'.format(m1))    \n",
    "    else:\n",
    "        print(\"ODrive ({}) not found\".format(serial))\n",
    "    return odrv0\n",
    "    \n",
    "JJ_odrv0 = connect_odrive('20863883304E')\n",
    "SS_odrv0 = connect_odrive('306139573235')\n"
   ]
  },
  {
   "cell_type": "markdown",
   "metadata": {},
   "source": [
    "#### Calibrating the Motors"
   ]
  },
  {
   "cell_type": "code",
   "execution_count": 17,
   "metadata": {},
   "outputs": [
    {
     "name": "stdout",
     "output_type": "stream",
     "text": [
      "\t Motor 0 calibration result: True \n",
      " \t Motor 1 calibration result: True\n",
      "\t Motor 0 calibration result: True \n",
      " \t Motor 1 calibration result: True\n"
     ]
    }
   ],
   "source": [
    "SS_odrv0.axis0.requested_state = odrive.enums.AXIS_STATE_FULL_CALIBRATION_SEQUENCE\n",
    "SS_odrv0.axis1.requested_state = odrive.enums.AXIS_STATE_FULL_CALIBRATION_SEQUENCE\n",
    "\n",
    "JJ_odrv0.axis0.requested_state = odrive.enums.AXIS_STATE_FULL_CALIBRATION_SEQUENCE\n",
    "JJ_odrv0.axis1.requested_state = odrive.enums.AXIS_STATE_FULL_CALIBRATION_SEQUENCE\n",
    "\n",
    "time.sleep(15)\n",
    "\n",
    "print('\\t Motor 0 calibration result: {} \\r\\n'.format(SS_odrv0.axis0.motor.is_calibrated), \n",
    "      '\\t Motor 1 calibration result: {}'.format(SS_odrv0.axis1.motor.is_calibrated))\n",
    "print('\\t Motor 0 calibration result: {} \\r\\n'.format(JJ_odrv0.axis0.motor.is_calibrated), \n",
    "      '\\t Motor 1 calibration result: {}'.format(JJ_odrv0.axis1.motor.is_calibrated))\n",
    "\n",
    "SS_odrv0.axis0.motor.config.pre_calibrated = True\n",
    "SS_odrv0.axis1.motor.config.pre_calibrated = True\n",
    "\n",
    "JJ_odrv0.axis0.motor.config.pre_calibrated = True\n",
    "JJ_odrv0.axis1.motor.config.pre_calibrated = True\n",
    "\n",
    "SS_odrv0.save_configuration()\n",
    "JJ_odrv0.save_configuration()\n"
   ]
  },
  {
   "cell_type": "code",
   "execution_count": 54,
   "metadata": {},
   "outputs": [],
   "source": [
    "SS_odrv0.axis0.requested_state = odrive.enums.AXIS_STATE_CLOSED_LOOP_CONTROL\n",
    "SS_odrv0.axis1.requested_state = odrive.enums.AXIS_STATE_CLOSED_LOOP_CONTROL\n",
    "\n",
    "SS_odrv0.axis0.controller.set_pos_setpoint(0,0,0)\n",
    "SS_odrv0.axis1.controller.set_pos_setpoint(0,0,0)"
   ]
  },
  {
   "cell_type": "code",
   "execution_count": 22,
   "metadata": {},
   "outputs": [],
   "source": [
    "# Function to setup home position\n",
    "def autohome(odrv0):\n",
    "    print('Bring motors to home and press ENTER')\n",
    "    input(\"<enter>\")\n",
    "    R_pos1=odrv0.axis0.encoder.pos_estimate\n",
    "    L_pos1=odrv0.axis1.encoder.pos_estimate\n",
    "    print('Bring motors to 90-90 and press ENTER')\n",
    "    input(\"<enter>\")\n",
    "    R_pos2=odrv0.axis0.encoder.pos_estimate\n",
    "    L_pos2=odrv0.axis1.encoder.pos_estimate\n",
    "    ML_para=(90/(L_pos2-L_pos1))\n",
    "    MR_para=((-90)/(R_pos2-R_pos1))\n",
    "    print(ML_para)\n",
    "    print(MR_para)\n",
    "    print(L_pos2, L_pos1, R_pos2, R_pos1)\n",
    "    print(\"Done\")\n",
    "    return ML_para,MR_para,L_pos1,R_pos1"
   ]
  },
  {
   "cell_type": "code",
   "execution_count": 23,
   "metadata": {},
   "outputs": [
    {
     "name": "stdout",
     "output_type": "stream",
     "text": [
      "Bring motors to home and press ENTER\n"
     ]
    },
    {
     "name": "stdin",
     "output_type": "stream",
     "text": [
      "<enter> \n"
     ]
    },
    {
     "name": "stdout",
     "output_type": "stream",
     "text": [
      "Bring motors to 90-90 and press ENTER\n"
     ]
    },
    {
     "name": "stdin",
     "output_type": "stream",
     "text": [
      "<enter> \n"
     ]
    },
    {
     "name": "stdout",
     "output_type": "stream",
     "text": [
      "-0.04314477468839885\n",
      "-0.045454545454545456\n",
      "4756.75 6842.75 -3680.25 -5660.25\n",
      "Done\n"
     ]
    },
    {
     "data": {
      "text/plain": [
       "(-0.04314477468839885, -0.045454545454545456, 6842.75, -5660.25)"
      ]
     },
     "execution_count": 23,
     "metadata": {},
     "output_type": "execute_result"
    }
   ],
   "source": [
    "autohome(JJ_odrv0)"
   ]
  },
  {
   "cell_type": "code",
   "execution_count": 25,
   "metadata": {},
   "outputs": [],
   "source": [
    "def idle_all():\n",
    "    JJ_odrv0.axis0.requested_state = odrive.enums.AXIS_STATE_IDLE\n",
    "    JJ_odrv0.axis1.requested_state = odrive.enums.AXIS_STATE_IDLE\n",
    "    SS_odrv0.axis0.requested_state = odrive.enums.AXIS_STATE_IDLE\n",
    "    SS_odrv0.axis1.requested_state = odrive.enums.AXIS_STATE_IDLE\n",
    "    "
   ]
  },
  {
   "cell_type": "code",
   "execution_count": 24,
   "metadata": {},
   "outputs": [],
   "source": [
    "# Function to make the motors return to idle mode \n",
    "def motor_idle(odrv0): \n",
    "    odrv0.axis0.requested_state = odrive.enums.AXIS_STATE_IDLE\n",
    "    odrv0.axis1.requested_state = odrive.enums.AXIS_STATE_IDLE"
   ]
  },
  {
   "cell_type": "code",
   "execution_count": 26,
   "metadata": {},
   "outputs": [],
   "source": [
    "# Defining the Symbols\n",
    "(theta_l, \n",
    " theta_r,\n",
    " l1, \n",
    " l2,\n",
    " w) = symbols(\"\"\" theta_l\n",
    "                         theta_r\n",
    "                         l1 \n",
    "                         l2\n",
    "                         w \"\"\" , real = True)"
   ]
  },
  {
   "cell_type": "markdown",
   "metadata": {},
   "source": [
    "#### Forward Kinematics definition"
   ]
  },
  {
   "cell_type": "code",
   "execution_count": 27,
   "metadata": {},
   "outputs": [
    {
     "data": {
      "text/latex": [
       "$\\displaystyle l_{1} \\cos{\\left(\\theta_{l} \\right)} + l_{2} \\cos{\\left(2 \\operatorname{atan}{\\left(\\frac{2 l_{1} l_{2} \\sin{\\left(\\theta_{l} \\right)} - 2 l_{1} l_{2} \\sin{\\left(\\theta_{r} \\right)} + \\sqrt{\\left(2 l_{1} l_{2} \\sin{\\left(\\theta_{l} \\right)} - 2 l_{1} l_{2} \\sin{\\left(\\theta_{r} \\right)}\\right)^{2} + \\left(2 l_{1} l_{2} \\cos{\\left(\\theta_{l} \\right)} - 2 l_{1} l_{2} \\cos{\\left(\\theta_{r} \\right)} + 2 l_{2} w\\right)^{2} - \\left(- 2 l_{1}^{2} \\sin{\\left(\\theta_{l} \\right)} \\sin{\\left(\\theta_{r} \\right)} - 2 l_{1}^{2} \\cos{\\left(\\theta_{l} \\right)} \\cos{\\left(\\theta_{r} \\right)} + 2 l_{1}^{2} + 2 l_{1} w \\cos{\\left(\\theta_{l} \\right)} - 2 l_{1} w \\cos{\\left(\\theta_{r} \\right)} + w^{2}\\right)^{2}}}{2 l_{1}^{2} \\sin{\\left(\\theta_{l} \\right)} \\sin{\\left(\\theta_{r} \\right)} + 2 l_{1}^{2} \\cos{\\left(\\theta_{l} \\right)} \\cos{\\left(\\theta_{r} \\right)} - 2 l_{1}^{2} + 2 l_{1} l_{2} \\cos{\\left(\\theta_{l} \\right)} - 2 l_{1} l_{2} \\cos{\\left(\\theta_{r} \\right)} - 2 l_{1} w \\cos{\\left(\\theta_{l} \\right)} + 2 l_{1} w \\cos{\\left(\\theta_{r} \\right)} + 2 l_{2} w - w^{2}} \\right)} \\right)} + \\frac{w}{2}$"
      ],
      "text/plain": [
       "l1*cos(theta_l) + l2*cos(2*atan((2*l1*l2*sin(theta_l) - 2*l1*l2*sin(theta_r) + sqrt((2*l1*l2*sin(theta_l) - 2*l1*l2*sin(theta_r))**2 + (2*l1*l2*cos(theta_l) - 2*l1*l2*cos(theta_r) + 2*l2*w)**2 - (-2*l1**2*sin(theta_l)*sin(theta_r) - 2*l1**2*cos(theta_l)*cos(theta_r) + 2*l1**2 + 2*l1*w*cos(theta_l) - 2*l1*w*cos(theta_r) + w**2)**2))/(2*l1**2*sin(theta_l)*sin(theta_r) + 2*l1**2*cos(theta_l)*cos(theta_r) - 2*l1**2 + 2*l1*l2*cos(theta_l) - 2*l1*l2*cos(theta_r) - 2*l1*w*cos(theta_l) + 2*l1*w*cos(theta_r) + 2*l2*w - w**2))) + w/2"
      ]
     },
     "execution_count": 27,
     "metadata": {},
     "output_type": "execute_result"
    },
    {
     "data": {
      "text/latex": [
       "$\\displaystyle l_{1} \\cos{\\left(\\theta_{l} \\right)} + l_{2} \\cos{\\left(2 \\operatorname{atan}{\\left(\\frac{2 l_{1} l_{2} \\sin{\\left(\\theta_{l} \\right)} - 2 l_{1} l_{2} \\sin{\\left(\\theta_{r} \\right)} - \\sqrt{\\left(2 l_{1} l_{2} \\sin{\\left(\\theta_{l} \\right)} - 2 l_{1} l_{2} \\sin{\\left(\\theta_{r} \\right)}\\right)^{2} + \\left(2 l_{1} l_{2} \\cos{\\left(\\theta_{l} \\right)} - 2 l_{1} l_{2} \\cos{\\left(\\theta_{r} \\right)} + 2 l_{2} w\\right)^{2} - \\left(- 2 l_{1}^{2} \\sin{\\left(\\theta_{l} \\right)} \\sin{\\left(\\theta_{r} \\right)} - 2 l_{1}^{2} \\cos{\\left(\\theta_{l} \\right)} \\cos{\\left(\\theta_{r} \\right)} + 2 l_{1}^{2} + 2 l_{1} w \\cos{\\left(\\theta_{l} \\right)} - 2 l_{1} w \\cos{\\left(\\theta_{r} \\right)} + w^{2}\\right)^{2}}}{2 l_{1}^{2} \\sin{\\left(\\theta_{l} \\right)} \\sin{\\left(\\theta_{r} \\right)} + 2 l_{1}^{2} \\cos{\\left(\\theta_{l} \\right)} \\cos{\\left(\\theta_{r} \\right)} - 2 l_{1}^{2} + 2 l_{1} l_{2} \\cos{\\left(\\theta_{l} \\right)} - 2 l_{1} l_{2} \\cos{\\left(\\theta_{r} \\right)} - 2 l_{1} w \\cos{\\left(\\theta_{l} \\right)} + 2 l_{1} w \\cos{\\left(\\theta_{r} \\right)} + 2 l_{2} w - w^{2}} \\right)} \\right)} + \\frac{w}{2}$"
      ],
      "text/plain": [
       "l1*cos(theta_l) + l2*cos(2*atan((2*l1*l2*sin(theta_l) - 2*l1*l2*sin(theta_r) - sqrt((2*l1*l2*sin(theta_l) - 2*l1*l2*sin(theta_r))**2 + (2*l1*l2*cos(theta_l) - 2*l1*l2*cos(theta_r) + 2*l2*w)**2 - (-2*l1**2*sin(theta_l)*sin(theta_r) - 2*l1**2*cos(theta_l)*cos(theta_r) + 2*l1**2 + 2*l1*w*cos(theta_l) - 2*l1*w*cos(theta_r) + w**2)**2))/(2*l1**2*sin(theta_l)*sin(theta_r) + 2*l1**2*cos(theta_l)*cos(theta_r) - 2*l1**2 + 2*l1*l2*cos(theta_l) - 2*l1*l2*cos(theta_r) - 2*l1*w*cos(theta_l) + 2*l1*w*cos(theta_r) + 2*l2*w - w**2))) + w/2"
      ]
     },
     "execution_count": 27,
     "metadata": {},
     "output_type": "execute_result"
    },
    {
     "data": {
      "text/latex": [
       "$\\displaystyle l_{1} \\sin{\\left(\\theta_{l} \\right)} + l_{2} \\sin{\\left(2 \\operatorname{atan}{\\left(\\frac{2 l_{1} l_{2} \\sin{\\left(\\theta_{l} \\right)} - 2 l_{1} l_{2} \\sin{\\left(\\theta_{r} \\right)} + \\sqrt{\\left(2 l_{1} l_{2} \\sin{\\left(\\theta_{l} \\right)} - 2 l_{1} l_{2} \\sin{\\left(\\theta_{r} \\right)}\\right)^{2} + \\left(2 l_{1} l_{2} \\cos{\\left(\\theta_{l} \\right)} - 2 l_{1} l_{2} \\cos{\\left(\\theta_{r} \\right)} + 2 l_{2} w\\right)^{2} - \\left(- 2 l_{1}^{2} \\sin{\\left(\\theta_{l} \\right)} \\sin{\\left(\\theta_{r} \\right)} - 2 l_{1}^{2} \\cos{\\left(\\theta_{l} \\right)} \\cos{\\left(\\theta_{r} \\right)} + 2 l_{1}^{2} + 2 l_{1} w \\cos{\\left(\\theta_{l} \\right)} - 2 l_{1} w \\cos{\\left(\\theta_{r} \\right)} + w^{2}\\right)^{2}}}{2 l_{1}^{2} \\sin{\\left(\\theta_{l} \\right)} \\sin{\\left(\\theta_{r} \\right)} + 2 l_{1}^{2} \\cos{\\left(\\theta_{l} \\right)} \\cos{\\left(\\theta_{r} \\right)} - 2 l_{1}^{2} + 2 l_{1} l_{2} \\cos{\\left(\\theta_{l} \\right)} - 2 l_{1} l_{2} \\cos{\\left(\\theta_{r} \\right)} - 2 l_{1} w \\cos{\\left(\\theta_{l} \\right)} + 2 l_{1} w \\cos{\\left(\\theta_{r} \\right)} + 2 l_{2} w - w^{2}} \\right)} \\right)}$"
      ],
      "text/plain": [
       "l1*sin(theta_l) + l2*sin(2*atan((2*l1*l2*sin(theta_l) - 2*l1*l2*sin(theta_r) + sqrt((2*l1*l2*sin(theta_l) - 2*l1*l2*sin(theta_r))**2 + (2*l1*l2*cos(theta_l) - 2*l1*l2*cos(theta_r) + 2*l2*w)**2 - (-2*l1**2*sin(theta_l)*sin(theta_r) - 2*l1**2*cos(theta_l)*cos(theta_r) + 2*l1**2 + 2*l1*w*cos(theta_l) - 2*l1*w*cos(theta_r) + w**2)**2))/(2*l1**2*sin(theta_l)*sin(theta_r) + 2*l1**2*cos(theta_l)*cos(theta_r) - 2*l1**2 + 2*l1*l2*cos(theta_l) - 2*l1*l2*cos(theta_r) - 2*l1*w*cos(theta_l) + 2*l1*w*cos(theta_r) + 2*l2*w - w**2)))"
      ]
     },
     "execution_count": 27,
     "metadata": {},
     "output_type": "execute_result"
    },
    {
     "data": {
      "text/latex": [
       "$\\displaystyle l_{1} \\sin{\\left(\\theta_{l} \\right)} + l_{2} \\sin{\\left(2 \\operatorname{atan}{\\left(\\frac{2 l_{1} l_{2} \\sin{\\left(\\theta_{l} \\right)} - 2 l_{1} l_{2} \\sin{\\left(\\theta_{r} \\right)} - \\sqrt{\\left(2 l_{1} l_{2} \\sin{\\left(\\theta_{l} \\right)} - 2 l_{1} l_{2} \\sin{\\left(\\theta_{r} \\right)}\\right)^{2} + \\left(2 l_{1} l_{2} \\cos{\\left(\\theta_{l} \\right)} - 2 l_{1} l_{2} \\cos{\\left(\\theta_{r} \\right)} + 2 l_{2} w\\right)^{2} - \\left(- 2 l_{1}^{2} \\sin{\\left(\\theta_{l} \\right)} \\sin{\\left(\\theta_{r} \\right)} - 2 l_{1}^{2} \\cos{\\left(\\theta_{l} \\right)} \\cos{\\left(\\theta_{r} \\right)} + 2 l_{1}^{2} + 2 l_{1} w \\cos{\\left(\\theta_{l} \\right)} - 2 l_{1} w \\cos{\\left(\\theta_{r} \\right)} + w^{2}\\right)^{2}}}{2 l_{1}^{2} \\sin{\\left(\\theta_{l} \\right)} \\sin{\\left(\\theta_{r} \\right)} + 2 l_{1}^{2} \\cos{\\left(\\theta_{l} \\right)} \\cos{\\left(\\theta_{r} \\right)} - 2 l_{1}^{2} + 2 l_{1} l_{2} \\cos{\\left(\\theta_{l} \\right)} - 2 l_{1} l_{2} \\cos{\\left(\\theta_{r} \\right)} - 2 l_{1} w \\cos{\\left(\\theta_{l} \\right)} + 2 l_{1} w \\cos{\\left(\\theta_{r} \\right)} + 2 l_{2} w - w^{2}} \\right)} \\right)}$"
      ],
      "text/plain": [
       "l1*sin(theta_l) + l2*sin(2*atan((2*l1*l2*sin(theta_l) - 2*l1*l2*sin(theta_r) - sqrt((2*l1*l2*sin(theta_l) - 2*l1*l2*sin(theta_r))**2 + (2*l1*l2*cos(theta_l) - 2*l1*l2*cos(theta_r) + 2*l2*w)**2 - (-2*l1**2*sin(theta_l)*sin(theta_r) - 2*l1**2*cos(theta_l)*cos(theta_r) + 2*l1**2 + 2*l1*w*cos(theta_l) - 2*l1*w*cos(theta_r) + w**2)**2))/(2*l1**2*sin(theta_l)*sin(theta_r) + 2*l1**2*cos(theta_l)*cos(theta_r) - 2*l1**2 + 2*l1*l2*cos(theta_l) - 2*l1*l2*cos(theta_r) - 2*l1*w*cos(theta_l) + 2*l1*w*cos(theta_r) + 2*l2*w - w**2)))"
      ]
     },
     "execution_count": 27,
     "metadata": {},
     "output_type": "execute_result"
    }
   ],
   "source": [
    "A = 2*l2*l1*sin(theta_l)- 2*l1*l2*sin(theta_r)\n",
    "B = 2*l2*w - 2*l1*l2*cos(theta_r) + 2*l2*l1*cos(theta_l)\n",
    "C = 2*(l1**2) + w**2 - 2*l1*l1*sin(theta_l)*sin(theta_r) - 2*l1*w*cos(theta_r) + 2*l1*w*cos(theta_l) - 2*l1*l1*cos(theta_l)*cos(theta_r)\n",
    "\n",
    "theta3_1 = 2*atan((A + sqrt(A**2 + B**2 - C**2))/(B-C))\n",
    "theta3_2 = 2*atan((A - sqrt(A**2 + B**2 - C**2))/(B-C))\n",
    "\n",
    "xc_1 = l1*cos(theta_l) + l2*cos(theta3_1) + w/2\n",
    "xc_1\n",
    "xc_2 = l1*cos(theta_l) + l2*cos(theta3_2) + w/2\n",
    "xc_2\n",
    "\n",
    "yc_1 = l1*sin(theta_l) + l2*sin(theta3_1)\n",
    "yc_1\n",
    "yc_2 = l1*sin(theta_l) + l2*sin(theta3_2)\n",
    "yc_2\n",
    "#sympy.simplify(theta3_1)\n",
    "#sympy.simplify(theta3_2)"
   ]
  },
  {
   "cell_type": "code",
   "execution_count": 28,
   "metadata": {},
   "outputs": [],
   "source": [
    "FK1 = Matrix([[xc_1],\n",
    "             [yc_1]])\n",
    "FK2 = Matrix([[xc_2],\n",
    "             [yc_2]])"
   ]
  },
  {
   "cell_type": "code",
   "execution_count": 29,
   "metadata": {},
   "outputs": [],
   "source": [
    "FK1_fast = lambdify((theta_l,theta_r,l1,l2,w),FK1)\n",
    "FK2_fast = lambdify((theta_l,theta_r,l1,l2,w),FK2)"
   ]
  },
  {
   "cell_type": "code",
   "execution_count": null,
   "metadata": {},
   "outputs": [],
   "source": []
  },
  {
   "cell_type": "code",
   "execution_count": 42,
   "metadata": {
    "collapsed": true,
    "jupyter": {
     "outputs_hidden": true
    }
   },
   "outputs": [
    {
     "ename": "KeyboardInterrupt",
     "evalue": "",
     "output_type": "error",
     "traceback": [
      "\u001b[1;31m---------------------------------------------------------------------------\u001b[0m",
      "\u001b[1;31mKeyboardInterrupt\u001b[0m                         Traceback (most recent call last)",
      "\u001b[1;32m<ipython-input-42-4019c6e0ddf6>\u001b[0m in \u001b[0;36m<module>\u001b[1;34m\u001b[0m\n\u001b[0;32m      2\u001b[0m \u001b[0mcal_para_JJ\u001b[0m\u001b[1;33m=\u001b[0m\u001b[0mautohome\u001b[0m\u001b[1;33m(\u001b[0m\u001b[0mJJ_odrv0\u001b[0m\u001b[1;33m)\u001b[0m\u001b[1;33m\u001b[0m\u001b[1;33m\u001b[0m\u001b[0m\n\u001b[0;32m      3\u001b[0m \u001b[1;32mwhile\u001b[0m \u001b[1;32mTrue\u001b[0m\u001b[1;33m:\u001b[0m\u001b[1;33m\u001b[0m\u001b[1;33m\u001b[0m\u001b[0m\n\u001b[1;32m----> 4\u001b[1;33m     \u001b[0mtheta_R\u001b[0m\u001b[1;33m=\u001b[0m\u001b[1;33m(\u001b[0m\u001b[0mnp\u001b[0m\u001b[1;33m.\u001b[0m\u001b[0maround\u001b[0m\u001b[1;33m(\u001b[0m\u001b[0modrv0\u001b[0m\u001b[1;33m.\u001b[0m\u001b[0maxis0\u001b[0m\u001b[1;33m.\u001b[0m\u001b[0mencoder\u001b[0m\u001b[1;33m.\u001b[0m\u001b[0mpos_estimate\u001b[0m\u001b[1;33m)\u001b[0m\u001b[1;33m-\u001b[0m\u001b[0mcal_para_JJ\u001b[0m\u001b[1;33m[\u001b[0m\u001b[1;36m3\u001b[0m\u001b[1;33m]\u001b[0m\u001b[1;33m)\u001b[0m\u001b[1;33m*\u001b[0m\u001b[1;33m(\u001b[0m\u001b[0mcal_para_JJ\u001b[0m\u001b[1;33m[\u001b[0m\u001b[1;36m1\u001b[0m\u001b[1;33m]\u001b[0m\u001b[1;33m)\u001b[0m\u001b[1;33m+\u001b[0m\u001b[1;36m180\u001b[0m\u001b[1;33m\u001b[0m\u001b[1;33m\u001b[0m\u001b[0m\n\u001b[0m\u001b[0;32m      5\u001b[0m     \u001b[0mtheta_L\u001b[0m\u001b[1;33m=\u001b[0m\u001b[1;33m(\u001b[0m\u001b[1;33m(\u001b[0m\u001b[0mnp\u001b[0m\u001b[1;33m.\u001b[0m\u001b[0maround\u001b[0m\u001b[1;33m(\u001b[0m\u001b[0modrv0\u001b[0m\u001b[1;33m.\u001b[0m\u001b[0maxis1\u001b[0m\u001b[1;33m.\u001b[0m\u001b[0mencoder\u001b[0m\u001b[1;33m.\u001b[0m\u001b[0mpos_estimate\u001b[0m\u001b[1;33m)\u001b[0m\u001b[1;33m-\u001b[0m\u001b[0mcal_para_JJ\u001b[0m\u001b[1;33m[\u001b[0m\u001b[1;36m2\u001b[0m\u001b[1;33m]\u001b[0m\u001b[1;33m)\u001b[0m\u001b[1;33m*\u001b[0m\u001b[0mcal_para_JJ\u001b[0m\u001b[1;33m[\u001b[0m\u001b[1;36m0\u001b[0m\u001b[1;33m]\u001b[0m\u001b[1;33m)\u001b[0m\u001b[1;33m\u001b[0m\u001b[1;33m\u001b[0m\u001b[0m\n\u001b[0;32m      6\u001b[0m     \u001b[0mprint\u001b[0m\u001b[1;33m(\u001b[0m\u001b[0mtheta_L\u001b[0m\u001b[1;33m,\u001b[0m \u001b[0mtheta_R\u001b[0m\u001b[1;33m)\u001b[0m\u001b[1;33m\u001b[0m\u001b[1;33m\u001b[0m\u001b[0m\n",
      "\u001b[1;32m~\\Anaconda3\\lib\\site-packages\\fibre\\remote_object.py\u001b[0m in \u001b[0;36m__getattribute__\u001b[1;34m(self, name)\u001b[0m\n\u001b[0;32m    237\u001b[0m         \u001b[1;32mif\u001b[0m \u001b[0misinstance\u001b[0m\u001b[1;33m(\u001b[0m\u001b[0mattr\u001b[0m\u001b[1;33m,\u001b[0m \u001b[0mRemoteProperty\u001b[0m\u001b[1;33m)\u001b[0m\u001b[1;33m:\u001b[0m\u001b[1;33m\u001b[0m\u001b[1;33m\u001b[0m\u001b[0m\n\u001b[0;32m    238\u001b[0m             \u001b[1;32mif\u001b[0m \u001b[0mattr\u001b[0m\u001b[1;33m.\u001b[0m\u001b[0m_can_read\u001b[0m\u001b[1;33m:\u001b[0m\u001b[1;33m\u001b[0m\u001b[1;33m\u001b[0m\u001b[0m\n\u001b[1;32m--> 239\u001b[1;33m                 \u001b[1;32mreturn\u001b[0m \u001b[0mattr\u001b[0m\u001b[1;33m.\u001b[0m\u001b[0mget_value\u001b[0m\u001b[1;33m(\u001b[0m\u001b[1;33m)\u001b[0m\u001b[1;33m\u001b[0m\u001b[1;33m\u001b[0m\u001b[0m\n\u001b[0m\u001b[0;32m    240\u001b[0m             \u001b[1;32melse\u001b[0m\u001b[1;33m:\u001b[0m\u001b[1;33m\u001b[0m\u001b[1;33m\u001b[0m\u001b[0m\n\u001b[0;32m    241\u001b[0m                 \u001b[1;32mraise\u001b[0m \u001b[0mException\u001b[0m\u001b[1;33m(\u001b[0m\u001b[1;34m\"Cannot read from property {}\"\u001b[0m\u001b[1;33m.\u001b[0m\u001b[0mformat\u001b[0m\u001b[1;33m(\u001b[0m\u001b[0mname\u001b[0m\u001b[1;33m)\u001b[0m\u001b[1;33m)\u001b[0m\u001b[1;33m\u001b[0m\u001b[1;33m\u001b[0m\u001b[0m\n",
      "\u001b[1;32m~\\Anaconda3\\lib\\site-packages\\fibre\\remote_object.py\u001b[0m in \u001b[0;36mget_value\u001b[1;34m(self)\u001b[0m\n\u001b[0;32m     70\u001b[0m \u001b[1;33m\u001b[0m\u001b[0m\n\u001b[0;32m     71\u001b[0m     \u001b[1;32mdef\u001b[0m \u001b[0mget_value\u001b[0m\u001b[1;33m(\u001b[0m\u001b[0mself\u001b[0m\u001b[1;33m)\u001b[0m\u001b[1;33m:\u001b[0m\u001b[1;33m\u001b[0m\u001b[1;33m\u001b[0m\u001b[0m\n\u001b[1;32m---> 72\u001b[1;33m         \u001b[0mbuffer\u001b[0m \u001b[1;33m=\u001b[0m \u001b[0mself\u001b[0m\u001b[1;33m.\u001b[0m\u001b[0m_parent\u001b[0m\u001b[1;33m.\u001b[0m\u001b[0m__channel__\u001b[0m\u001b[1;33m.\u001b[0m\u001b[0mremote_endpoint_operation\u001b[0m\u001b[1;33m(\u001b[0m\u001b[0mself\u001b[0m\u001b[1;33m.\u001b[0m\u001b[0m_id\u001b[0m\u001b[1;33m,\u001b[0m \u001b[1;32mNone\u001b[0m\u001b[1;33m,\u001b[0m \u001b[1;32mTrue\u001b[0m\u001b[1;33m,\u001b[0m \u001b[0mself\u001b[0m\u001b[1;33m.\u001b[0m\u001b[0m_codec\u001b[0m\u001b[1;33m.\u001b[0m\u001b[0mget_length\u001b[0m\u001b[1;33m(\u001b[0m\u001b[1;33m)\u001b[0m\u001b[1;33m)\u001b[0m\u001b[1;33m\u001b[0m\u001b[1;33m\u001b[0m\u001b[0m\n\u001b[0m\u001b[0;32m     73\u001b[0m         \u001b[1;32mreturn\u001b[0m \u001b[0mself\u001b[0m\u001b[1;33m.\u001b[0m\u001b[0m_codec\u001b[0m\u001b[1;33m.\u001b[0m\u001b[0mdeserialize\u001b[0m\u001b[1;33m(\u001b[0m\u001b[0mbuffer\u001b[0m\u001b[1;33m)\u001b[0m\u001b[1;33m\u001b[0m\u001b[1;33m\u001b[0m\u001b[0m\n\u001b[0;32m     74\u001b[0m \u001b[1;33m\u001b[0m\u001b[0m\n",
      "\u001b[1;32m~\\Anaconda3\\lib\\site-packages\\fibre\\protocol.py\u001b[0m in \u001b[0;36mremote_endpoint_operation\u001b[1;34m(self, endpoint_id, input, expect_ack, output_length)\u001b[0m\n\u001b[0;32m    295\u001b[0m                     \u001b[0mself\u001b[0m\u001b[1;33m.\u001b[0m\u001b[0m_my_lock\u001b[0m\u001b[1;33m.\u001b[0m\u001b[0macquire\u001b[0m\u001b[1;33m(\u001b[0m\u001b[1;33m)\u001b[0m\u001b[1;33m\u001b[0m\u001b[1;33m\u001b[0m\u001b[0m\n\u001b[0;32m    296\u001b[0m                     \u001b[1;32mtry\u001b[0m\u001b[1;33m:\u001b[0m\u001b[1;33m\u001b[0m\u001b[1;33m\u001b[0m\u001b[0m\n\u001b[1;32m--> 297\u001b[1;33m                         \u001b[0mself\u001b[0m\u001b[1;33m.\u001b[0m\u001b[0m_output\u001b[0m\u001b[1;33m.\u001b[0m\u001b[0mprocess_packet\u001b[0m\u001b[1;33m(\u001b[0m\u001b[0mpacket\u001b[0m\u001b[1;33m)\u001b[0m\u001b[1;33m\u001b[0m\u001b[1;33m\u001b[0m\u001b[0m\n\u001b[0m\u001b[0;32m    298\u001b[0m                     \u001b[1;32mexcept\u001b[0m \u001b[0mChannelDamagedException\u001b[0m\u001b[1;33m:\u001b[0m\u001b[1;33m\u001b[0m\u001b[1;33m\u001b[0m\u001b[0m\n\u001b[0;32m    299\u001b[0m                         \u001b[0mattempt\u001b[0m \u001b[1;33m+=\u001b[0m \u001b[1;36m1\u001b[0m\u001b[1;33m\u001b[0m\u001b[1;33m\u001b[0m\u001b[0m\n",
      "\u001b[1;32m~\\Anaconda3\\lib\\site-packages\\fibre\\usbbulk_transport.py\u001b[0m in \u001b[0;36mprocess_packet\u001b[1;34m(self, usbBuffer)\u001b[0m\n\u001b[0;32m     96\u001b[0m   \u001b[1;32mdef\u001b[0m \u001b[0mprocess_packet\u001b[0m\u001b[1;33m(\u001b[0m\u001b[0mself\u001b[0m\u001b[1;33m,\u001b[0m \u001b[0musbBuffer\u001b[0m\u001b[1;33m)\u001b[0m\u001b[1;33m:\u001b[0m\u001b[1;33m\u001b[0m\u001b[1;33m\u001b[0m\u001b[0m\n\u001b[0;32m     97\u001b[0m     \u001b[1;32mtry\u001b[0m\u001b[1;33m:\u001b[0m\u001b[1;33m\u001b[0m\u001b[1;33m\u001b[0m\u001b[0m\n\u001b[1;32m---> 98\u001b[1;33m       \u001b[0mret\u001b[0m \u001b[1;33m=\u001b[0m \u001b[0mself\u001b[0m\u001b[1;33m.\u001b[0m\u001b[0mepw\u001b[0m\u001b[1;33m.\u001b[0m\u001b[0mwrite\u001b[0m\u001b[1;33m(\u001b[0m\u001b[0musbBuffer\u001b[0m\u001b[1;33m,\u001b[0m \u001b[1;36m0\u001b[0m\u001b[1;33m)\u001b[0m\u001b[1;33m\u001b[0m\u001b[1;33m\u001b[0m\u001b[0m\n\u001b[0m\u001b[0;32m     99\u001b[0m       \u001b[1;32mif\u001b[0m \u001b[0mself\u001b[0m\u001b[1;33m.\u001b[0m\u001b[0m_was_damaged\u001b[0m\u001b[1;33m:\u001b[0m\u001b[1;33m\u001b[0m\u001b[1;33m\u001b[0m\u001b[0m\n\u001b[0;32m    100\u001b[0m         \u001b[0mself\u001b[0m\u001b[1;33m.\u001b[0m\u001b[0m_logger\u001b[0m\u001b[1;33m.\u001b[0m\u001b[0mdebug\u001b[0m\u001b[1;33m(\u001b[0m\u001b[1;34m\"Recovered from USB halt/stall condition\"\u001b[0m\u001b[1;33m)\u001b[0m\u001b[1;33m\u001b[0m\u001b[1;33m\u001b[0m\u001b[0m\n",
      "\u001b[1;32m~\\Anaconda3\\lib\\site-packages\\usb\\core.py\u001b[0m in \u001b[0;36mwrite\u001b[1;34m(self, data, timeout)\u001b[0m\n\u001b[0;32m    385\u001b[0m         \u001b[0mFor\u001b[0m \u001b[0mdetails\u001b[0m\u001b[1;33m,\u001b[0m \u001b[0msee\u001b[0m \u001b[0mthe\u001b[0m \u001b[0mDevice\u001b[0m\u001b[1;33m.\u001b[0m\u001b[0mwrite\u001b[0m\u001b[1;33m(\u001b[0m\u001b[1;33m)\u001b[0m \u001b[0mmethod\u001b[0m\u001b[1;33m.\u001b[0m\u001b[1;33m\u001b[0m\u001b[1;33m\u001b[0m\u001b[0m\n\u001b[0;32m    386\u001b[0m         \"\"\"\n\u001b[1;32m--> 387\u001b[1;33m         \u001b[1;32mreturn\u001b[0m \u001b[0mself\u001b[0m\u001b[1;33m.\u001b[0m\u001b[0mdevice\u001b[0m\u001b[1;33m.\u001b[0m\u001b[0mwrite\u001b[0m\u001b[1;33m(\u001b[0m\u001b[0mself\u001b[0m\u001b[1;33m,\u001b[0m \u001b[0mdata\u001b[0m\u001b[1;33m,\u001b[0m \u001b[0mtimeout\u001b[0m\u001b[1;33m)\u001b[0m\u001b[1;33m\u001b[0m\u001b[1;33m\u001b[0m\u001b[0m\n\u001b[0m\u001b[0;32m    388\u001b[0m \u001b[1;33m\u001b[0m\u001b[0m\n\u001b[0;32m    389\u001b[0m     \u001b[1;32mdef\u001b[0m \u001b[0mread\u001b[0m\u001b[1;33m(\u001b[0m\u001b[0mself\u001b[0m\u001b[1;33m,\u001b[0m \u001b[0msize_or_buffer\u001b[0m\u001b[1;33m,\u001b[0m \u001b[0mtimeout\u001b[0m \u001b[1;33m=\u001b[0m \u001b[1;32mNone\u001b[0m\u001b[1;33m)\u001b[0m\u001b[1;33m:\u001b[0m\u001b[1;33m\u001b[0m\u001b[1;33m\u001b[0m\u001b[0m\n",
      "\u001b[1;32m~\\Anaconda3\\lib\\site-packages\\usb\\core.py\u001b[0m in \u001b[0;36mwrite\u001b[1;34m(self, endpoint, data, timeout)\u001b[0m\n\u001b[0;32m    946\u001b[0m                 \u001b[0mintf\u001b[0m\u001b[1;33m.\u001b[0m\u001b[0mbInterfaceNumber\u001b[0m\u001b[1;33m,\u001b[0m\u001b[1;33m\u001b[0m\u001b[1;33m\u001b[0m\u001b[0m\n\u001b[0;32m    947\u001b[0m                 \u001b[0m_interop\u001b[0m\u001b[1;33m.\u001b[0m\u001b[0mas_array\u001b[0m\u001b[1;33m(\u001b[0m\u001b[0mdata\u001b[0m\u001b[1;33m)\u001b[0m\u001b[1;33m,\u001b[0m\u001b[1;33m\u001b[0m\u001b[1;33m\u001b[0m\u001b[0m\n\u001b[1;32m--> 948\u001b[1;33m                 \u001b[0mself\u001b[0m\u001b[1;33m.\u001b[0m\u001b[0m__get_timeout\u001b[0m\u001b[1;33m(\u001b[0m\u001b[0mtimeout\u001b[0m\u001b[1;33m)\u001b[0m\u001b[1;33m\u001b[0m\u001b[1;33m\u001b[0m\u001b[0m\n\u001b[0m\u001b[0;32m    949\u001b[0m             )\n\u001b[0;32m    950\u001b[0m \u001b[1;33m\u001b[0m\u001b[0m\n",
      "\u001b[1;32m~\\Anaconda3\\lib\\site-packages\\usb\\backend\\libusb0.py\u001b[0m in \u001b[0;36mbulk_write\u001b[1;34m(self, dev_handle, ep, intf, data, timeout)\u001b[0m\n\u001b[0;32m    531\u001b[0m                             \u001b[0mep\u001b[0m\u001b[1;33m,\u001b[0m\u001b[1;33m\u001b[0m\u001b[1;33m\u001b[0m\u001b[0m\n\u001b[0;32m    532\u001b[0m                             \u001b[0mintf\u001b[0m\u001b[1;33m,\u001b[0m\u001b[1;33m\u001b[0m\u001b[1;33m\u001b[0m\u001b[0m\n\u001b[1;32m--> 533\u001b[1;33m                             data, timeout)\n\u001b[0m\u001b[0;32m    534\u001b[0m \u001b[1;33m\u001b[0m\u001b[0m\n\u001b[0;32m    535\u001b[0m     \u001b[1;33m@\u001b[0m\u001b[0mmethodtrace\u001b[0m\u001b[1;33m(\u001b[0m\u001b[0m_logger\u001b[0m\u001b[1;33m)\u001b[0m\u001b[1;33m\u001b[0m\u001b[1;33m\u001b[0m\u001b[0m\n",
      "\u001b[1;32m~\\Anaconda3\\lib\\site-packages\\usb\\backend\\libusb0.py\u001b[0m in \u001b[0;36m__write\u001b[1;34m(self, fn, dev_handle, ep, intf, data, timeout)\u001b[0m\n\u001b[0;32m    614\u001b[0m                         \u001b[0mcast\u001b[0m\u001b[1;33m(\u001b[0m\u001b[0maddress\u001b[0m\u001b[1;33m,\u001b[0m \u001b[0mc_char_p\u001b[0m\u001b[1;33m)\u001b[0m\u001b[1;33m,\u001b[0m\u001b[1;33m\u001b[0m\u001b[1;33m\u001b[0m\u001b[0m\n\u001b[0;32m    615\u001b[0m                         \u001b[0mlength\u001b[0m\u001b[1;33m,\u001b[0m\u001b[1;33m\u001b[0m\u001b[1;33m\u001b[0m\u001b[0m\n\u001b[1;32m--> 616\u001b[1;33m                         \u001b[0mtimeout\u001b[0m\u001b[1;33m\u001b[0m\u001b[1;33m\u001b[0m\u001b[0m\n\u001b[0m\u001b[0;32m    617\u001b[0m                     )))\n\u001b[0;32m    618\u001b[0m \u001b[1;33m\u001b[0m\u001b[0m\n",
      "\u001b[1;31mKeyboardInterrupt\u001b[0m: "
     ]
    }
   ],
   "source": [
    "theta=[]\n",
    "cal_para_JJ=autohome(JJ_odrv0)\n",
    "while True:\n",
    "    theta_R=(np.around(odrv0.axis0.encoder.pos_estimate)-cal_para_JJ[3])*(cal_para_JJ[1])+180\n",
    "    theta_L=((np.around(odrv0.axis1.encoder.pos_estimate)-cal_para_JJ[2])*cal_para_JJ[0])\n",
    "    print(theta_L, theta_R)\n",
    "    clear_output()\n",
    "#     os.system('cls')\n",
    "\n",
    "    theta.append([theta_R,theta_L])\n",
    "    \n",
    "Angle_value = np.asarray(theta)\n",
    "np.save('Angle_Workspace',Angle_value)\n",
    "\n",
    "plt.scatter(*zip(*theta))"
   ]
  },
  {
   "cell_type": "code",
   "execution_count": 43,
   "metadata": {},
   "outputs": [
    {
     "data": {
      "text/plain": [
       "<matplotlib.collections.PathCollection at 0x14e31eb40c8>"
      ]
     },
     "execution_count": 43,
     "metadata": {},
     "output_type": "execute_result"
    },
    {
     "data": {
      "image/png": "[encoded data removed]",
      "text/plain": [
       "<Figure size 432x288 with 1 Axes>"
      ]
     },
     "metadata": {
      "needs_background": "light"
     },
     "output_type": "display_data"
    }
   ],
   "source": [
    "plt.scatter(*zip(*theta))"
   ]
  },
  {
   "cell_type": "markdown",
   "metadata": {},
   "source": [
    "#### Function to implement Inverse Kinematics using Minimize function"
   ]
  },
  {
   "cell_type": "code",
   "execution_count": 44,
   "metadata": {},
   "outputs": [],
   "source": [
    "l1 = 0.09;                   \n",
    "l2 = 0.16;                 \n",
    "w = 0.07;  \n",
    "def IK_5_link(x, y, l1 = l1, l2 = l2, w = w):\n",
    "    \n",
    "    def leg_wide(var):\n",
    "        return np.linalg.norm([var[1] - np.pi, var[0]])\n",
    "    \n",
    "    def x_constraint_equation(var):\n",
    "        return l1**2 - l2**2 + (x - w/2)**2 + y**2 - 2*l1*(y*np.sin(var[0]) + (x - w/2)*np.cos(var[0]))\n",
    "\n",
    "    def y_constraint_equation(var):\n",
    "        return l1**2 - l2**2 + (x + w/2)**2 + y**2 - 2*l1*(y*np.sin(var[1]) + (x + w/2)*np.cos(var[1]))\n",
    "\n",
    "    \n",
    "    res = minimize(leg_wide, (0.1, 9*np.pi/10), method=\"SLSQP\", constraints= ({\"type\": \"eq\", \"fun\": x_constraint_equation}, \n",
    "                                                                               {\"type\": \"eq\", \"fun\": y_constraint_equation}))\n",
    "    \n",
    "    return (res, np.linalg.norm([x_constraint_equation(res.x), y_constraint_equation(res.x)]))"
   ]
  },
  {
   "cell_type": "markdown",
   "metadata": {},
   "source": [
    "#### Code to implement the GAITs provided to us. \n",
    "This function returns a list of $\\theta_L$ and $\\theta_R$ for a giveb gait trajctory. These are later used to make the leg move in the desired trajectory"
   ]
  },
  {
   "cell_type": "code",
   "execution_count": 45,
   "metadata": {},
   "outputs": [],
   "source": [
    "def get_trajectory(x,y,d,T,N):\n",
    "    \n",
    "    theta_points = []\n",
    "    # Stance\n",
    "    z = np.polyfit([x[0],x[1]],[y[0],y[1]],1)\n",
    "    p = np.poly1d(z)\n",
    "    n_stance = (np.rint(N*d))\n",
    "    n_stance = n_stance.astype(int)\n",
    "    x_stancepoints = np.linspace(x[0],x[1],n_stance+1)\n",
    "    y_stancepoints = p(x_stancepoints)\n",
    "    \n",
    "    # Swing\n",
    "    z = np.polyfit(x,y,2)\n",
    "    p = np.poly1d(z)\n",
    "    n_swing = np.rint((N*(1-d)))\n",
    "    n_swing = n_swing.astype(int)\n",
    "    x_swingpoints = np.linspace(x[1],x[0],n_swing+1)\n",
    "    y_swingpoints = p(x_swingpoints)\n",
    "    \n",
    "    x_points = np.append(x_stancepoints,x_swingpoints[1:])\n",
    "    y_points = np.append(y_stancepoints,y_swingpoints[1:])\n",
    "    \n",
    "    t_points = np.linspace(0,T,N+1)\n",
    "    \n",
    "    for i in range(x_points.shape[0]):\n",
    "        \n",
    "        res = IK_5_link(x_points[i],y_points[i])\n",
    "        theta_points.append([res[0].x[1],res[0].x[0]])\n",
    "    \n",
    "    return theta_points,t_points"
   ]
  },
  {
   "cell_type": "code",
   "execution_count": 46,
   "metadata": {},
   "outputs": [],
   "source": [
    "x = np.array([0.11,-0.11,0])\n",
    "y = np.array([0.12+0.05,0.12+0.05,0.05+0.05])\n",
    "\n",
    "data1, t1_points = get_trajectory(x,y,0.5,0.25,100)\n",
    "\n",
    "x = np.array([0.11-0.05,-0.08-0.05,0.05-0.05])\n",
    "y = np.array([0.14+0.05,0.1+0.05,0.05+0.05])\n",
    "\n",
    "data2, t2_points = get_trajectory(x,y,0.75,0.5,100)\n",
    "\n",
    "x = np.array([0.08,-0.08,0])\n",
    "y = np.array([0.1+0.05,0.1+0.05,0.04+0.05])\n",
    "\n",
    "data3, t3_points = get_trajectory(x,y,0.5,1.5,200)"
   ]
  },
  {
   "cell_type": "markdown",
   "metadata": {},
   "source": [
    "#### Store the $\\theta_L$ and $\\theta_R$ to a numpy file to plot the data"
   ]
  },
  {
   "cell_type": "code",
   "execution_count": null,
   "metadata": {},
   "outputs": [],
   "source": [
    "np.save('theta_values_Data_2',data1)\n",
    "np.save('theta_data3',data2)\n",
    "np.save('theta_data4',data3)"
   ]
  },
  {
   "cell_type": "markdown",
   "metadata": {},
   "source": [
    "#### Code to implement the parabolic gait trajectories (using angle evaluted from IK module above) and store the real motor angles to plot later\n",
    "This code is ran 3 times for each $\\theta_L$ and $\\theta_R$ pertaining to each case i.e. 1,2 and 3."
   ]
  },
  {
   "cell_type": "code",
   "execution_count": 50,
   "metadata": {},
   "outputs": [
    {
     "name": "stdout",
     "output_type": "stream",
     "text": [
      "Bring motors to home and press ENTER\n"
     ]
    },
    {
     "name": "stdin",
     "output_type": "stream",
     "text": [
      "<enter> \n"
     ]
    },
    {
     "name": "stdout",
     "output_type": "stream",
     "text": [
      "Bring motors to 90-90 and press ENTER\n"
     ]
    },
    {
     "name": "stdin",
     "output_type": "stream",
     "text": [
      "<enter> \n"
     ]
    },
    {
     "name": "stdout",
     "output_type": "stream",
     "text": [
      "-0.04201680672268908\n",
      "-0.04429133858267716\n",
      "6367.75 8509.75 594.9998779296875 -1437.0001220703125\n",
      "Done\n"
     ]
    }
   ],
   "source": [
    "cal_para_JJ=autohome(SS_odrv0)"
   ]
  },
  {
   "cell_type": "code",
   "execution_count": 51,
   "metadata": {},
   "outputs": [],
   "source": [
    "SS_odrv0.axis0.requested_state = odrive.enums.AXIS_STATE_CLOSED_LOOP_CONTROL\n",
    "SS_odrv0.axis1.requested_state = odrive.enums.AXIS_STATE_CLOSED_LOOP_CONTROL\n",
    "\n",
    "SS_odrv0.axis0.controller.set_pos_setpoint(0,0,0)\n",
    "SS_odrv0.axis1.controller.set_pos_setpoint(0,0,0)"
   ]
  },
  {
   "cell_type": "code",
   "execution_count": 39,
   "metadata": {},
   "outputs": [
    {
     "name": "stdout",
     "output_type": "stream",
     "text": [
      "8.107715845108032\n"
     ]
    }
   ],
   "source": [
    "odrv0=SS_odrv0\n",
    "theta_Gait=[]\n",
    "odrv0.axis0.requested_state = odrive.enums.AXIS_STATE_CLOSED_LOOP_CONTROL\n",
    "odrv0.axis1.requested_state = odrive.enums.AXIS_STATE_CLOSED_LOOP_CONTROL\n",
    "a=np.load('data3_new3.npy')\n",
    "start_time = time.time()\n",
    "# your code\n",
    "cpr= 2048\n",
    "t_step = 0.005\n",
    "w_r = 0\n",
    "w_l = 0\n",
    "for k in range(0,10):\n",
    "    for i in range(0,len(a)):\n",
    "        start_time2 = time.time()\n",
    "        L_pos=(np.rad2deg(a[i][1] )/cal_para_JJ[0])+cal_para_JJ[2]\n",
    "        R_pos=((np.rad2deg(a[i][0] )-180)/cal_para_JJ[1])+cal_para_JJ[3]\n",
    "        if (i-1)>0:\n",
    "            w_r = ((a[i][0] - a[i-1][0])/(t_step*2*np.pi) )*cpr\n",
    "            w_l = ((a[i][1] - a[i-1][1])/(t_step*2*np.pi) )*cpr\n",
    "        JJ_odrv0.axis0.controller.set_pos_setpoint(R_pos,1*w_r,0)\n",
    "        JJ_odrv0.axis1.controller.set_pos_setpoint(L_pos,1*w_l,0)\n",
    "        while (time.time() - start_time2 < 0.2*t_step):\n",
    "            pass\n",
    "            #clear_output()\n",
    "#         time.sleep(0.1)\n",
    "        theta_R=(np.around(JJ_odrv0.axis0.encoder.pos_estimate)-cal_para_JJ[3])*(cal_para_JJ[1])+180\n",
    "        theta_L=((np.around(JJ_odrv0.axis1.encoder.pos_estimate)-cal_para_JJ[2])*cal_para_JJ[0])\n",
    "        theta_Gait.append([theta_R,theta_L])\n",
    "# motor_idle()    \n",
    "elapsed_time = time.time() - start_time\n",
    "print(elapsed_time)"
   ]
  },
  {
   "cell_type": "code",
   "execution_count": null,
   "metadata": {},
   "outputs": [],
   "source": []
  }
 ],
 "metadata": {
  "kernelspec": {
   "display_name": "Python 3.7.4 64-bit ('base': conda)",
   "language": "python",
   "name": "python37464bitbaseconda0ea97c9e82d841a6bd36faf3d1217a15"
  },
  "language_info": {
   "codemirror_mode": {
    "name": "ipython",
    "version": 3
   },
   "file_extension": ".py",
   "mimetype": "text/x-python",
   "name": "python",
   "nbconvert_exporter": "python",
   "pygments_lexer": "ipython3",
   "version": "3.7.4"
  }
 },
 "nbformat": 4,
 "nbformat_minor": 4
}
