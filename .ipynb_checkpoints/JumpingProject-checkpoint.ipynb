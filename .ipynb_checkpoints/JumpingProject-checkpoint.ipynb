{
 "cells": [
  {
   "cell_type": "code",
   "execution_count": 1,
   "metadata": {},
   "outputs": [],
   "source": [
    "import numpy as np\n",
    "\n",
    "import matplotlib as mpl\n",
    "mpl.use('Qt5Agg')\n",
    "\n",
    "import matplotlib.pyplot as plt\n",
    "plt.ion()\n",
    "\n",
    "# for the symbolic manipulation of jacobian\n",
    "import sympy as sp\n",
    "# from sympy import symbols\n",
    "# from sympy import sin, cos, asin, acos, pi, atan2, sqrt\n",
    "from sympy.utilities.lambdify import lambdify\n",
    "# from sympy import Matrix\n",
    "\n",
    "from scipy.optimize import minimize\n",
    "from scipy.optimize import fsolve\n",
    "\n",
    "import time\n",
    "\n",
    "import odrive\n",
    "import odrive.utils\n",
    "import odrive.enums"
   ]
  },
  {
   "cell_type": "code",
   "execution_count": 4,
   "metadata": {},
   "outputs": [
    {
     "name": "stdout",
     "output_type": "stream",
     "text": [
      "Connected!\n",
      "Target serial 20863883304E \t Odrive serial 35760845828174\n",
      "Motor 0 calibrated: False\n",
      "Motor 1 calibrated: False\n",
      "Connected!\n",
      "Target serial 306139573235 \t Odrive serial 53194131976757\n",
      "Motor 0 calibrated: True\n",
      "Motor 1 calibrated: True\n"
     ]
    }
   ],
   "source": [
    "# Connect to odrive\n",
    "def connect_odrive(serial):\n",
    "    odrv0 = odrive.find_any(serial_number = serial, timeout = 20)\n",
    "    if odrv0 is not None:\n",
    "        print('Connected!')\n",
    "        print('Target serial {} \\t Odrive serial {}'.format(serial, odrv0.serial_number))\n",
    "        \n",
    "        m0 = odrv0.axis0.motor.is_calibrated\n",
    "        m1 = odrv0.axis1.motor.is_calibrated\n",
    "\n",
    "        print('Motor 0 calibrated: {}'.format(m0))\n",
    "        print('Motor 1 calibrated: {}'.format(m1))    \n",
    "    else:\n",
    "        print(\"ODrive ({}) not found\".format(serial))\n",
    "    return odrv0\n",
    "    \n",
    "JJ_odrv0 = connect_odrive('20863883304E')\n",
    "SS_odrv0 = connect_odrive('306139573235')"
   ]
  },
  {
   "cell_type": "code",
   "execution_count": 6,
   "metadata": {},
   "outputs": [
    {
     "name": "stdout",
     "output_type": "stream",
     "text": [
      "\t Motor 0 calibration result: True \n",
      " \t Motor 1 calibration result: True\n"
     ]
    }
   ],
   "source": [
    "# Calibrate SS\n",
    "SS_odrv0.axis0.requested_state = odrive.enums.AXIS_STATE_FULL_CALIBRATION_SEQUENCE\n",
    "SS_odrv0.axis1.requested_state = odrive.enums.AXIS_STATE_FULL_CALIBRATION_SEQUENCE\n",
    "\n",
    "time.sleep(15)\n",
    "\n",
    "print('\\t Motor 0 calibration result: {} \\r\\n'.format(SS_odrv0.axis0.motor.is_calibrated), \n",
    "      '\\t Motor 1 calibration result: {}'.format(SS_odrv0.axis1.motor.is_calibrated))"
   ]
  },
  {
   "cell_type": "code",
   "execution_count": 5,
   "metadata": {},
   "outputs": [
    {
     "name": "stdout",
     "output_type": "stream",
     "text": [
      "\t Motor 0 calibration result: True \n",
      " \t Motor 1 calibration result: True\n"
     ]
    }
   ],
   "source": [
    "# Calibrate JJ\n",
    "JJ_odrv0.axis0.requested_state = odrive.enums.AXIS_STATE_FULL_CALIBRATION_SEQUENCE\n",
    "JJ_odrv0.axis1.requested_state = odrive.enums.AXIS_STATE_FULL_CALIBRATION_SEQUENCE\n",
    "\n",
    "time.sleep(15)\n",
    "\n",
    "print('\\t Motor 0 calibration result: {} \\r\\n'.format(JJ_odrv0.axis0.motor.is_calibrated), \n",
    "      '\\t Motor 1 calibration result: {}'.format(JJ_odrv0.axis1.motor.is_calibrated))"
   ]
  },
  {
   "cell_type": "code",
   "execution_count": 7,
   "metadata": {},
   "outputs": [],
   "source": [
    "# Raise velocity limit\n",
    "JJ_odrv0.axis0.controller.config.vel_limit = 200000\n",
    "JJ_odrv0.axis1.controller.config.vel_limit = 200000\n",
    "\n",
    "SS_odrv0.axis0.controller.config.vel_limit = 200000\n",
    "SS_odrv0.axis1.controller.config.vel_limit = 200000"
   ]
  },
  {
   "cell_type": "code",
   "execution_count": 15,
   "metadata": {},
   "outputs": [],
   "source": [
    "# Set velocity integrator gain to 0\n",
    "JJ_odrv0.axis0.controller.config.vel_integrator_gain = 0\n",
    "JJ_odrv0.axis1.controller.config.vel_integrator_gain = 0\n",
    "\n",
    "SS_odrv0.axis0.controller.config.vel_integrator_gain = 0\n",
    "SS_odrv0.axis1.controller.config.vel_integrator_gain = 0"
   ]
  },
  {
   "cell_type": "markdown",
   "metadata": {},
   "source": [
    "### EVERYTHING ABOVE THIS LINE IS CALIBRATION. THE 2 BLOCKS DIRECTLY ABOVE ARE SETTING VELOCITY LIMIT to 200000 AND INTEGRATOR GAIN TO 0. NEITHER OF THESE VALUES EVER CHANGE AFTER THIS.\n",
    "\n",
    "### EVERYTHING BELOW JUST RUN ONE AT A TIME IN ORDER"
   ]
  },
  {
   "cell_type": "code",
   "execution_count": 51,
   "metadata": {},
   "outputs": [],
   "source": [
    "# Function to set current limit\n",
    "def set_current(lim):\n",
    "    JJ_odrv0.axis0.motor.config.current_lim = lim\n",
    "    JJ_odrv0.axis1.motor.config.current_lim = lim\n",
    "\n",
    "    SS_odrv0.axis0.motor.config.current_lim = lim\n",
    "    SS_odrv0.axis1.motor.config.current_lim = lim"
   ]
  },
  {
   "cell_type": "code",
   "execution_count": 52,
   "metadata": {},
   "outputs": [],
   "source": [
    "# Function to set position gain\n",
    "def set_pos_gain(gain):\n",
    "    JJ_odrv0.axis0.controller.config.pos_gain = gain\n",
    "    JJ_odrv0.axis1.controller.config.pos_gain = gain\n",
    "\n",
    "    SS_odrv0.axis0.controller.config.pos_gain = gain\n",
    "    SS_odrv0.axis1.controller.config.pos_gain = gain"
   ]
  },
  {
   "cell_type": "markdown",
   "metadata": {},
   "source": [
    "### NEXT 2 BLOCKS ARE USED TO ZERO THE MOTORS - IF YOU ZERO THEM ANOTHER WAY YOU MAY NOT NEED THIS. HOLD BOTH LEGS OUT THEN RUN THE CORRESPONDING BLOCK FOR JJ AND SS. SEE DIAGRAM TO SEE WHAT \"HOLD BOTH LEGS OUT\" MEANS."
   ]
  },
  {
   "cell_type": "markdown",
   "metadata": {},
   "source": [
    "![title](robotconfig.png)"
   ]
  },
  {
   "cell_type": "code",
   "execution_count": 21,
   "metadata": {},
   "outputs": [
    {
     "name": "stdout",
     "output_type": "stream",
     "text": [
      "(2352.703125, 955.234375)\n"
     ]
    }
   ],
   "source": [
    "## PUT JJ LEG IN 0 CONFIGURATION (boths legs out) - run this to zero\n",
    "JJ_zero_pos = (JJ_odrv0.axis0.encoder.pos_estimate+4096, JJ_odrv0.axis1.encoder.pos_estimate)\n",
    "print(JJ_zero_pos)\n"
   ]
  },
  {
   "cell_type": "code",
   "execution_count": 22,
   "metadata": {},
   "outputs": [
    {
     "name": "stdout",
     "output_type": "stream",
     "text": [
      "(1175.234375, 1327.234375)\n"
     ]
    }
   ],
   "source": [
    "## PUT SS LEG IN 0 CONFIGURATION (boths legs out) - run this to zero\n",
    "SS_zero_pos = (SS_odrv0.axis0.encoder.pos_estimate+4096, SS_odrv0.axis1.encoder.pos_estimate)\n",
    "print(SS_zero_pos)\n"
   ]
  },
  {
   "cell_type": "code",
   "execution_count": 118,
   "metadata": {},
   "outputs": [],
   "source": [
    "# Run this to set leg positions\n",
    "height_offset = 600\n",
    "ext_height = -600\n",
    "rot_offset = 800 #500\n",
    "land_offset = 600\n",
    "JJ_eq_pos = (JJ_zero_pos[0] - 3072 - height_offset - rot_offset, JJ_zero_pos[1] - 1024 + height_offset - rot_offset) #m0, m1\n",
    "JJ_crouch_pos = (JJ_zero_pos[0] - 3500, JJ_zero_pos[1] + 300)\n",
    "JJ_ext_pos = (JJ_crouch_pos[0] + (4096/2 + 200), JJ_crouch_pos[1] - 1000)\n",
    "JJ_landing = (JJ_zero_pos[0] - 4096 - land_offset, JJ_zero_pos[1] - land_offset)\n",
    "\n",
    "JJ_new_ext = (JJ_zero_pos[0] - 3072 - ext_height - rot_offset, JJ_zero_pos[1] - 1024 + ext_height - rot_offset)"
   ]
  },
  {
   "cell_type": "code",
   "execution_count": 119,
   "metadata": {},
   "outputs": [],
   "source": [
    "# Run this to set leg positions\n",
    "SS_eq_pos = (SS_zero_pos[0] - 3072 - height_offset + rot_offset, SS_zero_pos[1] - 1024 + height_offset + rot_offset) #m0, m1\n",
    "SS_crouch_pos = (SS_zero_pos[0] - 300 - 4096, SS_zero_pos[1] - 596)\n",
    "SS_ext_pos = (SS_crouch_pos[0] + 1000, SS_crouch_pos[1] - (4096/2 + 200))\n",
    "SS_landing = (SS_zero_pos[0] - 4086 + land_offset, SS_zero_pos[1] + land_offset)\n",
    "\n",
    "SS_new_ext = (SS_zero_pos[0] - 3072 - ext_height + rot_offset, SS_zero_pos[1] - 1024 + ext_height + rot_offset)"
   ]
  },
  {
   "cell_type": "code",
   "execution_count": 132,
   "metadata": {},
   "outputs": [
    {
     "name": "stdout",
     "output_type": "stream",
     "text": [
      "axis0\n",
      "  axis: \u001b[92;1mno error\u001b[0m\n",
      "  motor: \u001b[92;1mno error\u001b[0m\n",
      "  encoder: \u001b[92;1mno error\u001b[0m\n",
      "  controller: \u001b[92;1mno error\u001b[0m\n",
      "axis1\n",
      "  axis: \u001b[92;1mno error\u001b[0m\n",
      "  motor: \u001b[92;1mno error\u001b[0m\n",
      "  encoder: \u001b[92;1mno error\u001b[0m\n",
      "  controller: \u001b[92;1mno error\u001b[0m\n",
      "axis0\n",
      "  axis: \u001b[92;1mno error\u001b[0m\n",
      "  motor: \u001b[92;1mno error\u001b[0m\n",
      "  encoder: \u001b[92;1mno error\u001b[0m\n",
      "  controller: \u001b[92;1mno error\u001b[0m\n",
      "axis1\n",
      "  axis: \u001b[92;1mno error\u001b[0m\n",
      "  motor: \u001b[92;1mno error\u001b[0m\n",
      "  encoder: \u001b[92;1mno error\u001b[0m\n",
      "  controller: \u001b[92;1mno error\u001b[0m\n"
     ]
    }
   ],
   "source": [
    "# JUMP FORWARD SEQUENCE\n",
    "\n",
    "set_current(20)\n",
    "set_pos_gain(60)\n",
    "\n",
    "# SET LEGS TO STARTING POS\n",
    "odrive.utils.dump_errors(JJ_odrv0, True)\n",
    "JJ_odrv0.axis0.requested_state = odrive.enums.AXIS_STATE_CLOSED_LOOP_CONTROL\n",
    "JJ_odrv0.axis1.requested_state = odrive.enums.AXIS_STATE_CLOSED_LOOP_CONTROL\n",
    "JJ_odrv0.axis0.controller.set_pos_setpoint(JJ_eq_pos[0],0,0)\n",
    "JJ_odrv0.axis1.controller.set_pos_setpoint(JJ_eq_pos[1],0,0)\n",
    "\n",
    "odrive.utils.dump_errors(SS_odrv0, True)\n",
    "SS_odrv0.axis0.requested_state = odrive.enums.AXIS_STATE_CLOSED_LOOP_CONTROL\n",
    "SS_odrv0.axis1.requested_state = odrive.enums.AXIS_STATE_CLOSED_LOOP_CONTROL\n",
    "SS_odrv0.axis0.controller.set_pos_setpoint(SS_eq_pos[0],0,0)\n",
    "SS_odrv0.axis1.controller.set_pos_setpoint(SS_eq_pos[1],0,0)\n",
    "\n",
    "time.sleep(3)\n",
    "\n",
    "# EXTEND\n",
    "set_current(20)\n",
    "set_pos_gain(13)\n",
    "JJ_odrv0.axis0.requested_state = odrive.enums.AXIS_STATE_CLOSED_LOOP_CONTROL\n",
    "JJ_odrv0.axis1.requested_state = odrive.enums.AXIS_STATE_CLOSED_LOOP_CONTROL\n",
    "JJ_odrv0.axis0.controller.set_pos_setpoint(JJ_ext_pos[0],0,0)\n",
    "JJ_odrv0.axis1.controller.set_pos_setpoint(JJ_ext_pos[1],0,0)\n",
    "\n",
    "SS_odrv0.axis0.requested_state = odrive.enums.AXIS_STATE_CLOSED_LOOP_CONTROL\n",
    "SS_odrv0.axis1.requested_state = odrive.enums.AXIS_STATE_CLOSED_LOOP_CONTROL\n",
    "SS_odrv0.axis0.controller.set_pos_setpoint(SS_ext_pos[0],0,0)\n",
    "SS_odrv0.axis1.controller.set_pos_setpoint(SS_ext_pos[1],0,0)\n",
    "\n",
    "time.sleep(0.25)\n",
    "\n",
    "# STARTING\n",
    "JJ_odrv0.axis0.requested_state = odrive.enums.AXIS_STATE_CLOSED_LOOP_CONTROL\n",
    "JJ_odrv0.axis1.requested_state = odrive.enums.AXIS_STATE_CLOSED_LOOP_CONTROL\n",
    "JJ_odrv0.axis0.controller.set_pos_setpoint(JJ_eq_pos[0],0,0)\n",
    "JJ_odrv0.axis1.controller.set_pos_setpoint(JJ_eq_pos[1],0,0)\n",
    "\n",
    "SS_odrv0.axis0.requested_state = odrive.enums.AXIS_STATE_CLOSED_LOOP_CONTROL\n",
    "SS_odrv0.axis1.requested_state = odrive.enums.AXIS_STATE_CLOSED_LOOP_CONTROL\n",
    "SS_odrv0.axis0.controller.set_pos_setpoint(SS_eq_pos[0],0,0)\n",
    "SS_odrv0.axis1.controller.set_pos_setpoint(SS_eq_pos[1],0,0)\n",
    "\n",
    "set_pos_gain(60)"
   ]
  },
  {
   "cell_type": "markdown",
   "metadata": {},
   "source": [
    "#### NEXT 4 BLOCKS ARE SOLELY FOR TESTING PURPOSES - IGNORE THEM BUT DON'T DELETE"
   ]
  },
  {
   "cell_type": "code",
   "execution_count": null,
   "metadata": {},
   "outputs": [],
   "source": [
    "# SET LEGS TO CROUCHED POSITION - FOR TESTING\n",
    "JJ_odrv0.axis0.requested_state = odrive.enums.AXIS_STATE_CLOSED_LOOP_CONTROL\n",
    "JJ_odrv0.axis1.requested_state = odrive.enums.AXIS_STATE_CLOSED_LOOP_CONTROL\n",
    "JJ_odrv0.axis0.controller.set_pos_setpoint(JJ_crouch_pos[0],0,0)\n",
    "JJ_odrv0.axis1.controller.set_pos_setpoint(JJ_crouch_pos[1],0,0)\n",
    "\n",
    "SS_odrv0.axis0.requested_state = odrive.enums.AXIS_STATE_CLOSED_LOOP_CONTROL\n",
    "SS_odrv0.axis1.requested_state = odrive.enums.AXIS_STATE_CLOSED_LOOP_CONTROL\n",
    "SS_odrv0.axis0.controller.set_pos_setpoint(SS_crouch_pos[0],0,0)\n",
    "SS_odrv0.axis1.controller.set_pos_setpoint(SS_crouch_pos[1],0,0)"
   ]
  },
  {
   "cell_type": "code",
   "execution_count": null,
   "metadata": {},
   "outputs": [],
   "source": [
    "# SET LEGS TO EXTENDED POSITION - FOR TESTING\n",
    "set_current(30)\n",
    "set_pos_gain(20)\n",
    "JJ_odrv0.axis0.requested_state = odrive.enums.AXIS_STATE_CLOSED_LOOP_CONTROL\n",
    "JJ_odrv0.axis1.requested_state = odrive.enums.AXIS_STATE_CLOSED_LOOP_CONTROL\n",
    "JJ_odrv0.axis0.controller.set_pos_setpoint(JJ_ext_pos[0],0,0)\n",
    "JJ_odrv0.axis1.controller.set_pos_setpoint(JJ_ext_pos[1],0,0)\n",
    "\n",
    "SS_odrv0.axis0.requested_state = odrive.enums.AXIS_STATE_CLOSED_LOOP_CONTROL\n",
    "SS_odrv0.axis1.requested_state = odrive.enums.AXIS_STATE_CLOSED_LOOP_CONTROL\n",
    "SS_odrv0.axis0.controller.set_pos_setpoint(SS_ext_pos[0],0,0)\n",
    "SS_odrv0.axis1.controller.set_pos_setpoint(SS_ext_pos[1],0,0)\n",
    "set_current(20)\n",
    "set_pos_gain(60)"
   ]
  },
  {
   "cell_type": "code",
   "execution_count": 45,
   "metadata": {},
   "outputs": [],
   "source": [
    "# FOR TESTING\n",
    "JJ_odrv0.axis0.requested_state = odrive.enums.AXIS_STATE_CLOSED_LOOP_CONTROL\n",
    "JJ_odrv0.axis1.requested_state = odrive.enums.AXIS_STATE_CLOSED_LOOP_CONTROL\n",
    "JJ_odrv0.axis0.controller.set_pos_setpoint(JJ_new_ext[0],0,0)\n",
    "JJ_odrv0.axis1.controller.set_pos_setpoint(JJ_new_ext[1],0,0)\n",
    "\n",
    "SS_odrv0.axis0.requested_state = odrive.enums.AXIS_STATE_CLOSED_LOOP_CONTROL\n",
    "SS_odrv0.axis1.requested_state = odrive.enums.AXIS_STATE_CLOSED_LOOP_CONTROL\n",
    "SS_odrv0.axis0.controller.set_pos_setpoint(SS_new_ext[0],0,0)\n",
    "SS_odrv0.axis1.controller.set_pos_setpoint(SS_new_ext[1],0,0)\n"
   ]
  },
  {
   "cell_type": "code",
   "execution_count": 54,
   "metadata": {},
   "outputs": [],
   "source": [
    "# LANDING - FOR TESTING\n",
    "JJ_odrv0.axis0.requested_state = odrive.enums.AXIS_STATE_CLOSED_LOOP_CONTROL\n",
    "JJ_odrv0.axis1.requested_state = odrive.enums.AXIS_STATE_CLOSED_LOOP_CONTROL\n",
    "JJ_odrv0.axis0.controller.set_pos_setpoint(JJ_landing[0],0,0)\n",
    "JJ_odrv0.axis1.controller.set_pos_setpoint(JJ_landing[1],0,0)\n",
    "\n",
    "SS_odrv0.axis0.requested_state = odrive.enums.AXIS_STATE_CLOSED_LOOP_CONTROL\n",
    "SS_odrv0.axis1.requested_state = odrive.enums.AXIS_STATE_CLOSED_LOOP_CONTROL\n",
    "SS_odrv0.axis0.controller.set_pos_setpoint(SS_landing[0],0,0)\n",
    "SS_odrv0.axis1.controller.set_pos_setpoint(SS_landing[1],0,0)"
   ]
  },
  {
   "cell_type": "markdown",
   "metadata": {},
   "source": [
    "## I COMBINED EVERYTHING INTO THIS JUMP FUNCTION"
   ]
  },
  {
   "cell_type": "code",
   "execution_count": null,
   "metadata": {},
   "outputs": [],
   "source": [
    "def jump(JJ_odrv0, SS_odrv0):\n",
    "    height_offset = 600\n",
    "    ext_height = -600\n",
    "    rot_offset = 800 #500\n",
    "    land_offset = 600\n",
    "    \n",
    "    JJ_eq_pos = (JJ_zero_pos[0] - 3072 - height_offset - rot_offset, JJ_zero_pos[1] - 1024 + height_offset - rot_offset) #m0, m1\n",
    "    JJ_crouch_pos = (JJ_zero_pos[0] - 3500, JJ_zero_pos[1] + 300)\n",
    "    JJ_ext_pos = (JJ_crouch_pos[0] + (4096/2 + 200), JJ_crouch_pos[1] - 1000)\n",
    "    JJ_landing = (JJ_zero_pos[0] - 4096 - land_offset, JJ_zero_pos[1] - land_offset)\n",
    "\n",
    "    JJ_new_ext = (JJ_zero_pos[0] - 3072 - ext_height - rot_offset, JJ_zero_pos[1] - 1024 + ext_height - rot_offset)\n",
    "    \n",
    "    SS_eq_pos = (SS_zero_pos[0] - 3072 - height_offset + rot_offset, SS_zero_pos[1] - 1024 + height_offset + rot_offset) #m0, m1\n",
    "    SS_crouch_pos = (SS_zero_pos[0] - 300 - 4096, SS_zero_pos[1] - 596)\n",
    "    SS_ext_pos = (SS_crouch_pos[0] + 1000, SS_crouch_pos[1] - (4096/2 + 200))\n",
    "    SS_landing = (SS_zero_pos[0] - 4086 + land_offset, SS_zero_pos[1] + land_offset)\n",
    "\n",
    "    SS_new_ext = (SS_zero_pos[0] - 3072 - ext_height + rot_offset, SS_zero_pos[1] - 1024 + ext_height + rot_offset)\n",
    "    set_current(20)\n",
    "    set_pos_gain(60)\n",
    "\n",
    "    # SET LEGS TO STARTING POS\n",
    "    odrive.utils.dump_errors(JJ_odrv0, True)\n",
    "    JJ_odrv0.axis0.requested_state = odrive.enums.AXIS_STATE_CLOSED_LOOP_CONTROL\n",
    "    JJ_odrv0.axis1.requested_state = odrive.enums.AXIS_STATE_CLOSED_LOOP_CONTROL\n",
    "    JJ_odrv0.axis0.controller.set_pos_setpoint(JJ_eq_pos[0],0,0)\n",
    "    JJ_odrv0.axis1.controller.set_pos_setpoint(JJ_eq_pos[1],0,0)\n",
    "\n",
    "    odrive.utils.dump_errors(SS_odrv0, True)\n",
    "    SS_odrv0.axis0.requested_state = odrive.enums.AXIS_STATE_CLOSED_LOOP_CONTROL\n",
    "    SS_odrv0.axis1.requested_state = odrive.enums.AXIS_STATE_CLOSED_LOOP_CONTROL\n",
    "    SS_odrv0.axis0.controller.set_pos_setpoint(SS_eq_pos[0],0,0)\n",
    "    SS_odrv0.axis1.controller.set_pos_setpoint(SS_eq_pos[1],0,0)\n",
    "\n",
    "    time.sleep(3)\n",
    "\n",
    "    # EXTEND\n",
    "    set_current(20)\n",
    "    set_pos_gain(13)\n",
    "    JJ_odrv0.axis0.requested_state = odrive.enums.AXIS_STATE_CLOSED_LOOP_CONTROL\n",
    "    JJ_odrv0.axis1.requested_state = odrive.enums.AXIS_STATE_CLOSED_LOOP_CONTROL\n",
    "    JJ_odrv0.axis0.controller.set_pos_setpoint(JJ_ext_pos[0],0,0)\n",
    "    JJ_odrv0.axis1.controller.set_pos_setpoint(JJ_ext_pos[1],0,0)\n",
    "\n",
    "    SS_odrv0.axis0.requested_state = odrive.enums.AXIS_STATE_CLOSED_LOOP_CONTROL\n",
    "    SS_odrv0.axis1.requested_state = odrive.enums.AXIS_STATE_CLOSED_LOOP_CONTROL\n",
    "    SS_odrv0.axis0.controller.set_pos_setpoint(SS_ext_pos[0],0,0)\n",
    "    SS_odrv0.axis1.controller.set_pos_setpoint(SS_ext_pos[1],0,0)\n",
    "\n",
    "    time.sleep(0.25)\n",
    "\n",
    "    # STARTING\n",
    "    JJ_odrv0.axis0.requested_state = odrive.enums.AXIS_STATE_CLOSED_LOOP_CONTROL\n",
    "    JJ_odrv0.axis1.requested_state = odrive.enums.AXIS_STATE_CLOSED_LOOP_CONTROL\n",
    "    JJ_odrv0.axis0.controller.set_pos_setpoint(JJ_eq_pos[0],0,0)\n",
    "    JJ_odrv0.axis1.controller.set_pos_setpoint(JJ_eq_pos[1],0,0)\n",
    "\n",
    "    SS_odrv0.axis0.requested_state = odrive.enums.AXIS_STATE_CLOSED_LOOP_CONTROL\n",
    "    SS_odrv0.axis1.requested_state = odrive.enums.AXIS_STATE_CLOSED_LOOP_CONTROL\n",
    "    SS_odrv0.axis0.controller.set_pos_setpoint(SS_eq_pos[0],0,0)\n",
    "    SS_odrv0.axis1.controller.set_pos_setpoint(SS_eq_pos[1],0,0)\n",
    "\n",
    "    set_pos_gain(60)"
   ]
  },
  {
   "cell_type": "markdown",
   "metadata": {},
   "source": [
    "## JUMP!"
   ]
  },
  {
   "cell_type": "code",
   "execution_count": null,
   "metadata": {},
   "outputs": [],
   "source": [
    "jump(JJ_odrv0, SS_odrv0)"
   ]
  },
  {
   "cell_type": "markdown",
   "metadata": {},
   "source": [
    "#### SET TO IDLE - THE JUMPING AND STANDING CAN STRESS THE MOTORS QUITE A BIT SO TRY LEAVE THE MOTORS IN IDLE AT EVERY MOMENT POSSIBLE"
   ]
  },
  {
   "cell_type": "code",
   "execution_count": null,
   "metadata": {},
   "outputs": [],
   "source": [
    "JJ_odrv0.axis0.requested_state = odrive.enums.AXIS_STATE_IDLE\n",
    "JJ_odrv0.axis1.requested_state = odrive.enums.AXIS_STATE_IDLE\n",
    "\n",
    "SS_odrv0.axis0.requested_state = odrive.enums.AXIS_STATE_IDLE\n",
    "SS_odrv0.axis1.requested_state = odrive.enums.AXIS_STATE_IDLE"
   ]
  }
 ],
 "metadata": {
  "kernelspec": {
   "display_name": "Python 3",
   "language": "python",
   "name": "python3"
  },
  "language_info": {
   "codemirror_mode": {
    "name": "ipython",
    "version": 3
   },
   "file_extension": ".py",
   "mimetype": "text/x-python",
   "name": "python",
   "nbconvert_exporter": "python",
   "pygments_lexer": "ipython3",
   "version": "3.7.5"
  }
 },
 "nbformat": 4,
 "nbformat_minor": 4
}
