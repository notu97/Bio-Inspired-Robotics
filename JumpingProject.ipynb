{
 "cells": [
  {
   "cell_type": "code",
   "execution_count": 1,
   "metadata": {},
   "outputs": [],
   "source": [
    "import numpy as np\n",
    "\n",
    "import matplotlib as mpl\n",
    "mpl.use('Qt5Agg')\n",
    "\n",
    "import matplotlib.pyplot as plt\n",
    "plt.ion()\n",
    "\n",
    "# for the symbolic manipulation of jacobian\n",
    "import sympy as sp\n",
    "# from sympy import symbols\n",
    "# from sympy import sin, cos, asin, acos, pi, atan2, sqrt\n",
    "from sympy.utilities.lambdify import lambdify\n",
    "# from sympy import Matrix\n",
    "\n",
    "from scipy.optimize import minimize\n",
    "from scipy.optimize import fsolve\n",
    "\n",
    "import time\n",
    "\n",
    "import odrive\n",
    "import odrive.utils\n",
    "import odrive.enums"
   ]
  },
  {
   "cell_type": "code",
   "execution_count": null,
   "metadata": {},
   "outputs": [],
   "source": [
    "odrv0 = odrive.find_any()\n",
    "if odrv0 is not None:\n",
    "    print('Connected!')\n",
    "    print('Odrive serial {}'.format(odrv0.serial_number))\n",
    "    \n",
    "    m0 = odrv0.axis0.motor.is_calibrated\n",
    "    m1 = odrv0.axis1.motor.is_calibrated\n",
    "    \n",
    "    print('Motor 0 calibrated: {}'.format(m0))\n",
    "    print('Motor 1 calibrated: {}'.format(m1))    \n",
    "    \n",
    "else:\n",
    "    print('Not connected')"
   ]
  },
  {
   "cell_type": "code",
   "execution_count": 12,
   "metadata": {},
   "outputs": [
    {
     "ename": "NameError",
     "evalue": "name 'odrv0' is not defined",
     "output_type": "error",
     "traceback": [
      "\u001b[0;31m---------------------------------------------------------------------------\u001b[0m",
      "\u001b[0;31mNameError\u001b[0m                                 Traceback (most recent call last)",
      "\u001b[0;32m<ipython-input-12-fc7e44aa2ce4>\u001b[0m in \u001b[0;36m<module>\u001b[0;34m()\u001b[0m\n\u001b[0;32m----> 1\u001b[0;31m \u001b[0modrv0\u001b[0m\u001b[0;34m.\u001b[0m\u001b[0maxis0\u001b[0m\u001b[0;34m.\u001b[0m\u001b[0mcontroller\u001b[0m\u001b[0;34m.\u001b[0m\u001b[0mconfig\u001b[0m\u001b[0;34m.\u001b[0m\u001b[0mvel_limit\u001b[0m \u001b[0;34m=\u001b[0m \u001b[0;36m200000\u001b[0m\u001b[0;34m\u001b[0m\u001b[0m\n\u001b[0m\u001b[1;32m      2\u001b[0m \u001b[0modrv0\u001b[0m\u001b[0;34m.\u001b[0m\u001b[0maxis1\u001b[0m\u001b[0;34m.\u001b[0m\u001b[0mcontroller\u001b[0m\u001b[0;34m.\u001b[0m\u001b[0mconfig\u001b[0m\u001b[0;34m.\u001b[0m\u001b[0mvel_limit\u001b[0m \u001b[0;34m=\u001b[0m \u001b[0;36m200000\u001b[0m\u001b[0;34m\u001b[0m\u001b[0m\n",
      "\u001b[0;31mNameError\u001b[0m: name 'odrv0' is not defined"
     ]
    }
   ],
   "source": [
    "odrv0.axis0.controller.config.vel_limit = 200000\n",
    "odrv0.axis1.controller.config.vel_limit = 200000"
   ]
  },
  {
   "cell_type": "code",
   "execution_count": 4,
   "metadata": {},
   "outputs": [
    {
     "name": "stdout",
     "output_type": "stream",
     "text": [
      "\t Motor 0 calibration result: True \n",
      " \t Motor 1 calibration result: True\n"
     ]
    }
   ],
   "source": [
    "SS_odrv0.axis0.requested_state = odrive.enums.AXIS_STATE_FULL_CALIBRATION_SEQUENCE\n",
    "SS_odrv0.axis1.requested_state = odrive.enums.AXIS_STATE_FULL_CALIBRATION_SEQUENCE\n",
    "\n",
    "time.sleep(15)\n",
    "\n",
    "print('\\t Motor 0 calibration result: {} \\r\\n'.format(SS_odrv0.axis0.motor.is_calibrated), \n",
    "      '\\t Motor 1 calibration result: {}'.format(SS_odrv0.axis1.motor.is_calibrated))"
   ]
  },
  {
   "cell_type": "code",
   "execution_count": 3,
   "metadata": {},
   "outputs": [
    {
     "name": "stdout",
     "output_type": "stream",
     "text": [
      "\t Motor 0 calibration result: True \n",
      " \t Motor 1 calibration result: True\n"
     ]
    }
   ],
   "source": [
    "JJ_odrv0.axis0.requested_state = odrive.enums.AXIS_STATE_FULL_CALIBRATION_SEQUENCE\n",
    "JJ_odrv0.axis1.requested_state = odrive.enums.AXIS_STATE_FULL_CALIBRATION_SEQUENCE\n",
    "\n",
    "time.sleep(15)\n",
    "\n",
    "print('\\t Motor 0 calibration result: {} \\r\\n'.format(JJ_odrv0.axis0.motor.is_calibrated), \n",
    "      '\\t Motor 1 calibration result: {}'.format(JJ_odrv0.axis1.motor.is_calibrated))"
   ]
  },
  {
   "cell_type": "code",
   "execution_count": null,
   "metadata": {},
   "outputs": [],
   "source": [
    "odrv0.axis0.requested_state = odrive.enums.AXIS_STATE_CLOSED_LOOP_CONTROL\n",
    "odrv0.axis1.requested_state = odrive.enums.AXIS_STATE_CLOSED_LOOP_CONTROL\n",
    "\n",
    "odrv0.axis0.controller.set_pos_setpoint(0,0,0)\n",
    "odrv0.axis1.controller.set_pos_setpoint(0,0,0)"
   ]
  },
  {
   "cell_type": "code",
   "execution_count": null,
   "metadata": {},
   "outputs": [],
   "source": [
    "odrv0.axis0.requested_state = odrive.enums.AXIS_STATE_IDLE\n",
    "odrv0.axis1.requested_state = odrive.enums.AXIS_STATE_IDLE"
   ]
  },
  {
   "cell_type": "code",
   "execution_count": null,
   "metadata": {},
   "outputs": [],
   "source": [
    "## PUT LEG IN 0 CONFIGURATION\n",
    "zero_position = (odrv0.axis0.encoder.pos_estimate+4096, odrv0.axis1.encoder.pos_estimate)\n",
    "print(zero_position)\n",
    "\n",
    "equilibrium_pos = (zero_position[0] - 3072, zero_position[1] - 1024) #m0, m1"
   ]
  },
  {
   "cell_type": "code",
   "execution_count": null,
   "metadata": {},
   "outputs": [],
   "source": [
    "odrive.utils.dump_errors(odrv0, True)\n",
    "odrv0.axis0.requested_state = odrive.enums.AXIS_STATE_CLOSED_LOOP_CONTROL\n",
    "odrv0.axis1.requested_state = odrive.enums.AXIS_STATE_CLOSED_LOOP_CONTROL\n",
    "odrv0.axis0.controller.set_pos_setpoint(equilibrium_pos[0],0,0)\n",
    "odrv0.axis1.controller.set_pos_setpoint(equilibrium_pos[1],0,0)"
   ]
  },
  {
   "cell_type": "code",
   "execution_count": null,
   "metadata": {},
   "outputs": [],
   "source": [
    "crouch_pos = (zero_position[0] - 3500, zero_position[1] + 300)"
   ]
  },
  {
   "cell_type": "code",
   "execution_count": null,
   "metadata": {},
   "outputs": [],
   "source": [
    "odrv0.axis0.controller.set_pos_setpoint(new_pos[0],0,0)\n",
    "odrv0.axis1.controller.set_pos_setpoint(new_pos[1],0,0)"
   ]
  },
  {
   "cell_type": "code",
   "execution_count": null,
   "metadata": {},
   "outputs": [],
   "source": [
    "extend_pos = (new_pos[0] + 4096/2 - 200, new_pos[1] - 500)"
   ]
  },
  {
   "cell_type": "code",
   "execution_count": null,
   "metadata": {},
   "outputs": [],
   "source": [
    "odrv0.axis0.controller.set_pos_setpoint(extend_pos[0],0,0)\n",
    "odrv0.axis1.controller.set_pos_setpoint(extend_pos[1],0,0)"
   ]
  },
  {
   "cell_type": "code",
   "execution_count": null,
   "metadata": {},
   "outputs": [],
   "source": []
  },
  {
   "cell_type": "code",
   "execution_count": 2,
   "metadata": {},
   "outputs": [
    {
     "name": "stdout",
     "output_type": "stream",
     "text": [
      "Connected!\n",
      "Target serial 20863883304E \t Odrive serial 35760845828174\n",
      "Motor 0 calibrated: True\n",
      "Motor 1 calibrated: True\n",
      "Connected!\n",
      "Target serial 306139573235 \t Odrive serial 53194131976757\n",
      "Motor 0 calibrated: True\n",
      "Motor 1 calibrated: True\n"
     ]
    }
   ],
   "source": [
    "def connect_odrive(serial):\n",
    "    odrv0 = odrive.find_any(serial_number = serial, timeout = 20)\n",
    "    if odrv0 is not None:\n",
    "        print('Connected!')\n",
    "        print('Target serial {} \\t Odrive serial {}'.format(serial, odrv0.serial_number))\n",
    "        \n",
    "        m0 = odrv0.axis0.motor.is_calibrated\n",
    "        m1 = odrv0.axis1.motor.is_calibrated\n",
    "\n",
    "        print('Motor 0 calibrated: {}'.format(m0))\n",
    "        print('Motor 1 calibrated: {}'.format(m1))    \n",
    "    else:\n",
    "        print(\"ODrive ({}) not found\".format(serial))\n",
    "    return odrv0\n",
    "    \n",
    "JJ_odrv0 = connect_odrive('20863883304E')\n",
    "SS_odrv0 = connect_odrive('306139573235')"
   ]
  },
  {
   "cell_type": "code",
   "execution_count": 13,
   "metadata": {},
   "outputs": [],
   "source": [
    "JJ_odrv0.axis0.controller.config.vel_limit = 200000\n",
    "JJ_odrv0.axis1.controller.config.vel_limit = 200000\n",
    "\n",
    "SS_odrv0.axis0.controller.config.vel_limit = 200000\n",
    "SS_odrv0.axis1.controller.config.vel_limit = 200000"
   ]
  },
  {
   "cell_type": "code",
   "execution_count": 43,
   "metadata": {},
   "outputs": [],
   "source": [
    "JJ_odrv0.axis0.motor.config.current_lim = 30\n",
    "JJ_odrv0.axis1.motor.config.current_lim = 30\n",
    "\n",
    "SS_odrv0.axis0.motor.config.current_lim = 30\n",
    "SS_odrv0.axis1.motor.config.current_lim = 30"
   ]
  },
  {
   "cell_type": "code",
   "execution_count": 46,
   "metadata": {},
   "outputs": [],
   "source": [
    "JJ_odrv0.axis0.requested_state = odrive.enums.AXIS_STATE_IDLE\n",
    "JJ_odrv0.axis1.requested_state = odrive.enums.AXIS_STATE_IDLE\n",
    "\n",
    "SS_odrv0.axis0.requested_state = odrive.enums.AXIS_STATE_IDLE\n",
    "SS_odrv0.axis1.requested_state = odrive.enums.AXIS_STATE_IDLE"
   ]
  },
  {
   "cell_type": "code",
   "execution_count": null,
   "metadata": {},
   "outputs": [],
   "source": [
    "print('M0: ', SS_odrv0.axis0.encoder.pos_estimate)\n",
    "print('M1: ', SS_odrv0.axis1.encoder.pos_estimate)"
   ]
  },
  {
   "cell_type": "code",
   "execution_count": 16,
   "metadata": {},
   "outputs": [
    {
     "name": "stdout",
     "output_type": "stream",
     "text": [
      "(4119.9990234375, 2259.34375)\n"
     ]
    }
   ],
   "source": [
    "## PUT JJ LEG IN 0 CONFIGURATION\n",
    "JJ_zero_pos = (JJ_odrv0.axis0.encoder.pos_estimate+4096, JJ_odrv0.axis1.encoder.pos_estimate)\n",
    "print(JJ_zero_pos)\n"
   ]
  },
  {
   "cell_type": "code",
   "execution_count": 18,
   "metadata": {},
   "outputs": [],
   "source": [
    "JJ_eq_pos = (JJ_zero_pos[0] - 3072, JJ_zero_pos[1] - 1024) #m0, m1\n",
    "JJ_crouch_pos = (JJ_zero_pos[0] - 3500, JJ_zero_pos[1] + 300)\n",
    "JJ_ext_pos = (JJ_crouch_pos[0] + 4096/2 + 200, JJ_crouch_pos[1] - 1000)\n",
    "JJ_landing = (JJ_zero_pos[0] - 4096, JJ_zero_pos[1])"
   ]
  },
  {
   "cell_type": "code",
   "execution_count": 17,
   "metadata": {},
   "outputs": [
    {
     "name": "stdout",
     "output_type": "stream",
     "text": [
      "(-1197.65771484375, -1055.25)\n"
     ]
    }
   ],
   "source": [
    "## PUT SS LEG IN 0 CONFIGURATION\n",
    "SS_zero_pos = (SS_odrv0.axis0.encoder.pos_estimate+4096, SS_odrv0.axis1.encoder.pos_estimate)\n",
    "print(SS_zero_pos)\n"
   ]
  },
  {
   "cell_type": "code",
   "execution_count": 19,
   "metadata": {},
   "outputs": [],
   "source": [
    "SS_eq_pos = (SS_zero_pos[0] - 3072, SS_zero_pos[1] - 1024) #m0, m1\n",
    "SS_crouch_pos = (SS_zero_pos[0] - 300 - 4096, SS_zero_pos[1] - 596)\n",
    "SS_ext_pos = (SS_crouch_pos[0] + 1000, SS_crouch_pos[1] - (4096/2 + 200))\n",
    "SS_landing = (SS_zero_pos[0] - 4086, SS_zero_pos[1])"
   ]
  },
  {
   "cell_type": "code",
   "execution_count": 44,
   "metadata": {},
   "outputs": [
    {
     "name": "stdout",
     "output_type": "stream",
     "text": [
      "axis0\n",
      "  axis: \u001b[92;1mno error\u001b[0m\n",
      "  motor: \u001b[92;1mno error\u001b[0m\n",
      "  encoder: \u001b[92;1mno error\u001b[0m\n",
      "  controller: \u001b[92;1mno error\u001b[0m\n",
      "axis1\n",
      "  axis: \u001b[92;1mno error\u001b[0m\n",
      "  motor: \u001b[92;1mno error\u001b[0m\n",
      "  encoder: \u001b[92;1mno error\u001b[0m\n",
      "  controller: \u001b[92;1mno error\u001b[0m\n",
      "axis0\n",
      "  axis: \u001b[92;1mno error\u001b[0m\n",
      "  motor: \u001b[92;1mno error\u001b[0m\n",
      "  encoder: \u001b[92;1mno error\u001b[0m\n",
      "  controller: \u001b[92;1mno error\u001b[0m\n",
      "axis1\n",
      "  axis: \u001b[92;1mno error\u001b[0m\n",
      "  motor: \u001b[92;1mno error\u001b[0m\n",
      "  encoder: \u001b[92;1mno error\u001b[0m\n",
      "  controller: \u001b[92;1mno error\u001b[0m\n"
     ]
    }
   ],
   "source": [
    "# SET LEGS TO STARTING POS\n",
    "odrive.utils.dump_errors(JJ_odrv0, True)\n",
    "JJ_odrv0.axis0.requested_state = odrive.enums.AXIS_STATE_CLOSED_LOOP_CONTROL\n",
    "JJ_odrv0.axis1.requested_state = odrive.enums.AXIS_STATE_CLOSED_LOOP_CONTROL\n",
    "JJ_odrv0.axis0.controller.set_pos_setpoint(JJ_eq_pos[0],0,0)\n",
    "JJ_odrv0.axis1.controller.set_pos_setpoint(JJ_eq_pos[1],0,0)\n",
    "\n",
    "odrive.utils.dump_errors(SS_odrv0, True)\n",
    "SS_odrv0.axis0.requested_state = odrive.enums.AXIS_STATE_CLOSED_LOOP_CONTROL\n",
    "SS_odrv0.axis1.requested_state = odrive.enums.AXIS_STATE_CLOSED_LOOP_CONTROL\n",
    "SS_odrv0.axis0.controller.set_pos_setpoint(SS_eq_pos[0],0,0)\n",
    "SS_odrv0.axis1.controller.set_pos_setpoint(SS_eq_pos[1],0,0)"
   ]
  },
  {
   "cell_type": "code",
   "execution_count": 34,
   "metadata": {},
   "outputs": [],
   "source": [
    "# SET LEGS TO CROUCHED POSITION\n",
    "JJ_odrv0.axis0.requested_state = odrive.enums.AXIS_STATE_CLOSED_LOOP_CONTROL\n",
    "JJ_odrv0.axis1.requested_state = odrive.enums.AXIS_STATE_CLOSED_LOOP_CONTROL\n",
    "JJ_odrv0.axis0.controller.set_pos_setpoint(JJ_crouch_pos[0],0,0)\n",
    "JJ_odrv0.axis1.controller.set_pos_setpoint(JJ_crouch_pos[1],0,0)\n",
    "\n",
    "SS_odrv0.axis0.requested_state = odrive.enums.AXIS_STATE_CLOSED_LOOP_CONTROL\n",
    "SS_odrv0.axis1.requested_state = odrive.enums.AXIS_STATE_CLOSED_LOOP_CONTROL\n",
    "SS_odrv0.axis0.controller.set_pos_setpoint(SS_crouch_pos[0],0,0)\n",
    "SS_odrv0.axis1.controller.set_pos_setpoint(SS_crouch_pos[1],0,0)"
   ]
  },
  {
   "cell_type": "code",
   "execution_count": 35,
   "metadata": {},
   "outputs": [],
   "source": [
    "# SET LEGS TO EXTENDED POSITION\n",
    "JJ_odrv0.axis0.requested_state = odrive.enums.AXIS_STATE_CLOSED_LOOP_CONTROL\n",
    "JJ_odrv0.axis1.requested_state = odrive.enums.AXIS_STATE_CLOSED_LOOP_CONTROL\n",
    "JJ_odrv0.axis0.controller.set_pos_setpoint(JJ_ext_pos[0],0,0)\n",
    "JJ_odrv0.axis1.controller.set_pos_setpoint(JJ_ext_pos[1],0,0)\n",
    "\n",
    "SS_odrv0.axis0.requested_state = odrive.enums.AXIS_STATE_CLOSED_LOOP_CONTROL\n",
    "SS_odrv0.axis1.requested_state = odrive.enums.AXIS_STATE_CLOSED_LOOP_CONTROL\n",
    "SS_odrv0.axis0.controller.set_pos_setpoint(SS_ext_pos[0],0,0)\n",
    "SS_odrv0.axis1.controller.set_pos_setpoint(SS_ext_pos[1],0,0)"
   ]
  },
  {
   "cell_type": "code",
   "execution_count": 36,
   "metadata": {},
   "outputs": [],
   "source": [
    "JJ_odrv0.axis0.requested_state = odrive.enums.AXIS_STATE_CLOSED_LOOP_CONTROL\n",
    "JJ_odrv0.axis1.requested_state = odrive.enums.AXIS_STATE_CLOSED_LOOP_CONTROL\n",
    "JJ_odrv0.axis0.controller.set_pos_setpoint(JJ_landing[0],0,0)\n",
    "JJ_odrv0.axis1.controller.set_pos_setpoint(JJ_landing[1],0,0)\n",
    "\n",
    "SS_odrv0.axis0.requested_state = odrive.enums.AXIS_STATE_CLOSED_LOOP_CONTROL\n",
    "SS_odrv0.axis1.requested_state = odrive.enums.AXIS_STATE_CLOSED_LOOP_CONTROL\n",
    "SS_odrv0.axis0.controller.set_pos_setpoint(SS_landing[0],0,0)\n",
    "SS_odrv0.axis1.controller.set_pos_setpoint(SS_landing[1],0,0)"
   ]
  },
  {
   "cell_type": "code",
   "execution_count": 47,
   "metadata": {},
   "outputs": [
    {
     "name": "stdout",
     "output_type": "stream",
     "text": [
      "axis0\n",
      "  axis: \u001b[92;1mno error\u001b[0m\n",
      "  motor: \u001b[92;1mno error\u001b[0m\n",
      "  encoder: \u001b[92;1mno error\u001b[0m\n",
      "  controller: \u001b[92;1mno error\u001b[0m\n",
      "axis1\n",
      "  axis: \u001b[92;1mno error\u001b[0m\n",
      "  motor: \u001b[92;1mno error\u001b[0m\n",
      "  encoder: \u001b[92;1mno error\u001b[0m\n",
      "  controller: \u001b[92;1mno error\u001b[0m\n",
      "axis0\n",
      "  axis: \u001b[92;1mno error\u001b[0m\n",
      "  motor: \u001b[92;1mno error\u001b[0m\n",
      "  encoder: \u001b[92;1mno error\u001b[0m\n",
      "  controller: \u001b[92;1mno error\u001b[0m\n",
      "axis1\n",
      "  axis: \u001b[92;1mno error\u001b[0m\n",
      "  motor: \u001b[92;1mno error\u001b[0m\n",
      "  encoder: \u001b[92;1mno error\u001b[0m\n",
      "  controller: \u001b[92;1mno error\u001b[0m\n"
     ]
    }
   ],
   "source": [
    "# SET LEGS TO STARTING POS\n",
    "odrive.utils.dump_errors(JJ_odrv0, True)\n",
    "JJ_odrv0.axis0.requested_state = odrive.enums.AXIS_STATE_CLOSED_LOOP_CONTROL\n",
    "JJ_odrv0.axis1.requested_state = odrive.enums.AXIS_STATE_CLOSED_LOOP_CONTROL\n",
    "JJ_odrv0.axis0.controller.set_pos_setpoint(JJ_eq_pos[0],0,0)\n",
    "JJ_odrv0.axis1.controller.set_pos_setpoint(JJ_eq_pos[1],0,0)\n",
    "\n",
    "odrive.utils.dump_errors(SS_odrv0, True)\n",
    "SS_odrv0.axis0.requested_state = odrive.enums.AXIS_STATE_CLOSED_LOOP_CONTROL\n",
    "SS_odrv0.axis1.requested_state = odrive.enums.AXIS_STATE_CLOSED_LOOP_CONTROL\n",
    "SS_odrv0.axis0.controller.set_pos_setpoint(SS_eq_pos[0],0,0)\n",
    "SS_odrv0.axis1.controller.set_pos_setpoint(SS_eq_pos[1],0,0)\n",
    "time.sleep(5)\n",
    "\n",
    "# SET LEGS TO CROUCHED POSITION\n",
    "JJ_odrv0.axis0.requested_state = odrive.enums.AXIS_STATE_CLOSED_LOOP_CONTROL\n",
    "JJ_odrv0.axis1.requested_state = odrive.enums.AXIS_STATE_CLOSED_LOOP_CONTROL\n",
    "JJ_odrv0.axis0.controller.set_pos_setpoint(JJ_crouch_pos[0],0,0)\n",
    "JJ_odrv0.axis1.controller.set_pos_setpoint(JJ_crouch_pos[1],0,0)\n",
    "\n",
    "SS_odrv0.axis0.requested_state = odrive.enums.AXIS_STATE_CLOSED_LOOP_CONTROL\n",
    "SS_odrv0.axis1.requested_state = odrive.enums.AXIS_STATE_CLOSED_LOOP_CONTROL\n",
    "SS_odrv0.axis0.controller.set_pos_setpoint(SS_crouch_pos[0],0,0)\n",
    "SS_odrv0.axis1.controller.set_pos_setpoint(SS_crouch_pos[1],0,0)\n",
    "time.sleep(2)\n",
    "\n",
    "# SET LEGS TO EXTENDED POSITION\n",
    "JJ_odrv0.axis0.requested_state = odrive.enums.AXIS_STATE_CLOSED_LOOP_CONTROL\n",
    "JJ_odrv0.axis1.requested_state = odrive.enums.AXIS_STATE_CLOSED_LOOP_CONTROL\n",
    "JJ_odrv0.axis0.controller.set_pos_setpoint(JJ_ext_pos[0],0,0)\n",
    "JJ_odrv0.axis1.controller.set_pos_setpoint(JJ_ext_pos[1],0,0)\n",
    "\n",
    "SS_odrv0.axis0.requested_state = odrive.enums.AXIS_STATE_CLOSED_LOOP_CONTROL\n",
    "SS_odrv0.axis1.requested_state = odrive.enums.AXIS_STATE_CLOSED_LOOP_CONTROL\n",
    "SS_odrv0.axis0.controller.set_pos_setpoint(SS_ext_pos[0],0,0)\n",
    "SS_odrv0.axis1.controller.set_pos_setpoint(SS_ext_pos[1],0,0)\n",
    "time.sleep(0.5)\n",
    "\n",
    "# LAND\n",
    "JJ_odrv0.axis0.requested_state = odrive.enums.AXIS_STATE_CLOSED_LOOP_CONTROL\n",
    "JJ_odrv0.axis1.requested_state = odrive.enums.AXIS_STATE_CLOSED_LOOP_CONTROL\n",
    "JJ_odrv0.axis0.controller.set_pos_setpoint(JJ_landing[0],0,0)\n",
    "JJ_odrv0.axis1.controller.set_pos_setpoint(JJ_landing[1],0,0)\n",
    "\n",
    "SS_odrv0.axis0.requested_state = odrive.enums.AXIS_STATE_CLOSED_LOOP_CONTROL\n",
    "SS_odrv0.axis1.requested_state = odrive.enums.AXIS_STATE_CLOSED_LOOP_CONTROL\n",
    "SS_odrv0.axis0.controller.set_pos_setpoint(SS_landing[0],0,0)\n",
    "SS_odrv0.axis1.controller.set_pos_setpoint(SS_landing[1],0,0)"
   ]
  },
  {
   "cell_type": "code",
   "execution_count": 48,
   "metadata": {},
   "outputs": [],
   "source": [
    "JJ_odrv0.axis0.requested_state = odrive.enums.AXIS_STATE_IDLE\n",
    "JJ_odrv0.axis1.requested_state = odrive.enums.AXIS_STATE_IDLE\n",
    "\n",
    "SS_odrv0.axis0.requested_state = odrive.enums.AXIS_STATE_IDLE\n",
    "SS_odrv0.axis1.requested_state = odrive.enums.AXIS_STATE_IDLE"
   ]
  },
  {
   "cell_type": "code",
   "execution_count": null,
   "metadata": {},
   "outputs": [],
   "source": []
  }
 ],
 "metadata": {
  "kernelspec": {
   "display_name": "Python 3",
   "language": "python",
   "name": "python3"
  },
  "language_info": {
   "codemirror_mode": {
    "name": "ipython",
    "version": 3
   },
   "file_extension": ".py",
   "mimetype": "text/x-python",
   "name": "python",
   "nbconvert_exporter": "python",
   "pygments_lexer": "ipython3",
   "version": "3.6.4"
  }
 },
 "nbformat": 4,
 "nbformat_minor": 2
}
