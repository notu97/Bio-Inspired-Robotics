{
 "cells": [
  {
   "cell_type": "markdown",
   "metadata": {},
   "source": [
    "## Homework 4 MAE-207"
   ]
  },
  {
   "cell_type": "code",
   "execution_count": 1,
   "metadata": {},
   "outputs": [],
   "source": [
    "import time\n",
    "from IPython.display import clear_output\n",
    "import numpy as np\n",
    "import matplotlib as mpl\n",
    "\n",
    "# import sympy\n",
    "from sympy import symbols, pprint\n",
    "from sympy import sin, cos, asin, acos, atan, pi, sqrt, atan2\n",
    "from sympy import Matrix\n",
    "from IPython.core.interactiveshell import InteractiveShell\n",
    "InteractiveShell.ast_node_interactivity = \"all\"\n",
    "from sympy import lambdify\n",
    "# import numpy as np\n",
    "\n",
    "import matplotlib.pyplot as plt\n",
    "import matplotlib.animation as animation\n",
    "from matplotlib import style\n",
    "\n",
    "from IPython import display # for the animation\n",
    "# import matplotlib as mpl\n",
    "# mpl.use('Qt5Agg')\n",
    "# plt.ion()\n",
    "import os\n",
    "import matplotlib.pyplot as plt\n",
    "# plt.ion()\n",
    "\n",
    "# for the symbolic manipulation of jacobian\n",
    "import sympy as sp\n",
    "# from sympy import symbols\n",
    "#from sympy import sin, cos, asin, acos, pi, atan2, sqrt\n",
    "from sympy.utilities.lambdify import lambdify\n",
    "#from sympy import Matrix\n",
    "\n",
    "from scipy.optimize import minimize\n",
    "from scipy.optimize import fsolve\n",
    "\n",
    "import time\n",
    "\n",
    "import odrive\n",
    "from odrive.utils import *\n",
    "import odrive.enums\n",
    "%matplotlib qt"
   ]
  },
  {
   "cell_type": "markdown",
   "metadata": {},
   "source": [
    "## Connect to ODrive"
   ]
  },
  {
   "cell_type": "code",
   "execution_count": 2,
   "metadata": {},
   "outputs": [
    {
     "name": "stdout",
     "output_type": "stream",
     "text": [
      "Connected!\n",
      "Odrive serial 53194131976757\n",
      "Motor 0 calibrated: True\n",
      "Motor 1 calibrated: True\n"
     ]
    }
   ],
   "source": [
    "odrv0 = odrive.find_any()\n",
    "if odrv0 is not None:\n",
    "    print('Connected!')\n",
    "    print('Odrive serial {}'.format(odrv0.serial_number))\n",
    "    \n",
    "    m0 = odrv0.axis0.motor.is_calibrated\n",
    "    m1 = odrv0.axis1.motor.is_calibrated\n",
    "    \n",
    "    print('Motor 0 calibrated: {}'.format(m0))\n",
    "    print('Motor 1 calibrated: {}'.format(m1))    \n",
    "    \n",
    "else:\n",
    "    print('Not connected')\n",
    "    "
   ]
  },
  {
   "cell_type": "code",
   "execution_count": null,
   "metadata": {},
   "outputs": [],
   "source": [
    "m0 = odrv0.axis0.motor.is_calibrated\n",
    "m1 = odrv0.axis1.motor.is_calibrated\n",
    "    \n",
    "print('Motor 0 calibrated: {}'.format(m0))\n",
    "print('Motor 1 calibrated: {}'.format(m1))"
   ]
  },
  {
   "cell_type": "code",
   "execution_count": 3,
   "metadata": {},
   "outputs": [],
   "source": [
    "# Setting the velocity and calibration current limit\n",
    "odrv0.axis0.controller.config.vel_limit=2000000\n",
    "odrv0.axis1.controller.config.vel_limit=2000000\n",
    "odrv0.axis0.motor.config.calibration_current=20.0\n",
    "odrv0.axis1.motor.config.calibration_current=20.0\n"
   ]
  },
  {
   "cell_type": "code",
   "execution_count": 4,
   "metadata": {},
   "outputs": [],
   "source": [
    "odrv0.axis0.controller.config.vel_gain = 16 / 10000.0\n",
    "odrv0.axis1.controller.config.vel_gain = 16 / 10000.0\n",
    "odrv0.axis1.controller.config.pos_gain=44\n",
    "odrv0.axis1.controller.config.pos_gain=44\n",
    "\n",
    "odrv0.axis0.controller.config.vel_integrator_gain = 0.001 #/ 10000.0\n",
    "odrv0.axis1.controller.config.vel_integrator_gain = 0.001 #5.0 / 10000.0\n"
   ]
  },
  {
   "cell_type": "markdown",
   "metadata": {},
   "source": [
    "#### Calibrating the Motors"
   ]
  },
  {
   "cell_type": "code",
   "execution_count": null,
   "metadata": {},
   "outputs": [],
   "source": [
    "odrv0.axis0.requested_state = odrive.enums.AXIS_STATE_FULL_CALIBRATION_SEQUENCE\n",
    "odrv0.axis1.requested_state = odrive.enums.AXIS_STATE_FULL_CALIBRATION_SEQUENCE\n",
    "\n",
    "time.sleep(15)\n",
    "\n",
    "print('\\t Motor 0 calibration result: {} \\r\\n'.format(odrv0.axis0.motor.is_calibrated), \n",
    "      '\\t Motor 1 calibration result: {}'.format(odrv0.axis1.motor.is_calibrated))\n"
   ]
  },
  {
   "cell_type": "code",
   "execution_count": 7,
   "metadata": {},
   "outputs": [],
   "source": [
    "odrv0.axis0.requested_state = odrive.enums.AXIS_STATE_CLOSED_LOOP_CONTROL\n",
    "odrv0.axis1.requested_state = odrive.enums.AXIS_STATE_CLOSED_LOOP_CONTROL"
   ]
  },
  {
   "cell_type": "code",
   "execution_count": 8,
   "metadata": {},
   "outputs": [],
   "source": [
    "odrv0.axis0.controller.set_pos_setpoint(0,0,0)\n",
    "odrv0.axis1.controller.set_pos_setpoint(0,0,0)"
   ]
  },
  {
   "cell_type": "code",
   "execution_count": null,
   "metadata": {},
   "outputs": [],
   "source": [
    "# Function to make the motors return to idle mode \n",
    "def motor_idle(): \n",
    "    odrv0.axis0.requested_state = odrive.enums.AXIS_STATE_IDLE\n",
    "    odrv0.axis1.requested_state = odrive.enums.AXIS_STATE_IDLE"
   ]
  },
  {
   "cell_type": "code",
   "execution_count": null,
   "metadata": {},
   "outputs": [],
   "source": [
    "\n",
    "(theta_l, \n",
    " theta_r,\n",
    " l1, \n",
    " l2,\n",
    " w) = symbols(\"\"\" theta_l\n",
    "                         theta_r\n",
    "                         l1 \n",
    "                         l2\n",
    "                         w \"\"\" , real = True)"
   ]
  },
  {
   "cell_type": "markdown",
   "metadata": {},
   "source": [
    "#### Forward Kinematics definition"
   ]
  },
  {
   "cell_type": "code",
   "execution_count": null,
   "metadata": {},
   "outputs": [],
   "source": [
    "A = 2*l2*l1*sin(theta_l)- 2*l1*l2*sin(theta_r)\n",
    "B = 2*l2*w - 2*l1*l2*cos(theta_r) + 2*l2*l1*cos(theta_l)\n",
    "C = 2*(l1**2) + w**2 - 2*l1*l1*sin(theta_l)*sin(theta_r) - 2*l1*w*cos(theta_r) + 2*l1*w*cos(theta_l) - 2*l1*l1*cos(theta_l)*cos(theta_r)\n",
    "\n",
    "theta3_1 = 2*atan((A + sqrt(A**2 + B**2 - C**2))/(B-C))\n",
    "theta3_2 = 2*atan((A - sqrt(A**2 + B**2 - C**2))/(B-C))\n",
    "\n",
    "xc_1 = l1*cos(theta_l) + l2*cos(theta3_1) + w/2\n",
    "xc_1\n",
    "xc_2 = l1*cos(theta_l) + l2*cos(theta3_2) + w/2\n",
    "xc_2\n",
    "\n",
    "yc_1 = l1*sin(theta_l) + l2*sin(theta3_1)\n",
    "yc_1\n",
    "yc_2 = l1*sin(theta_l) + l2*sin(theta3_2)\n",
    "yc_2\n",
    "#sympy.simplify(theta3_1)\n",
    "#sympy.simplify(theta3_2)"
   ]
  },
  {
   "cell_type": "code",
   "execution_count": null,
   "metadata": {},
   "outputs": [],
   "source": [
    "FK1 = Matrix([[xc_1],\n",
    "             [yc_1]])\n",
    "FK2 = Matrix([[xc_2],\n",
    "             [yc_2]])\n",
    "\n",
    "FK_rtheta = Matrix([[sqrt(xc_1**2 + yc_1**2)],\n",
    "                   [atan2(yc_1,xc_1)]])\n",
    "FK_rtheta"
   ]
  },
  {
   "cell_type": "code",
   "execution_count": null,
   "metadata": {},
   "outputs": [],
   "source": [
    "FK1_fast = lambdify((theta_l,theta_r,l1,l2,w),FK1)\n",
    "FK2_fast = lambdify((theta_l,theta_r,l1,l2,w),FK2)"
   ]
  },
  {
   "cell_type": "markdown",
   "metadata": {},
   "source": [
    "#### Code to record $\\theta_R$ and $\\theta_L$ to plot ($\\theta_R,\\theta_L$) workspace"
   ]
  },
  {
   "cell_type": "code",
   "execution_count": null,
   "metadata": {},
   "outputs": [],
   "source": [
    "# Function to setup home position\n",
    "def autohome():\n",
    "    print('Bring motors to home and press ENTER')\n",
    "    input(\"<enter>\")\n",
    "    R_pos1=odrv0.axis0.encoder.pos_estimate\n",
    "    L_pos1=odrv0.axis1.encoder.pos_estimate\n",
    "    print('Bring motors to 90-90 and press ENTER')\n",
    "    input(\"<enter>\")\n",
    "    R_pos2=odrv0.axis0.encoder.pos_estimate\n",
    "    L_pos2=odrv0.axis1.encoder.pos_estimate\n",
    "    ML_para=(90/(L_pos2-L_pos1))\n",
    "    MR_para=((-90)/(R_pos2-R_pos1))\n",
    "    print(ML_para)\n",
    "    print(MR_para)\n",
    "    print(L_pos2, L_pos1, R_pos2, R_pos1)\n",
    "    print(\"Done\")\n",
    "    return ML_para,MR_para,L_pos1,R_pos1"
   ]
  },
  {
   "cell_type": "code",
   "execution_count": null,
   "metadata": {},
   "outputs": [],
   "source": [
    "cal_para=autohome()"
   ]
  },
  {
   "cell_type": "code",
   "execution_count": null,
   "metadata": {},
   "outputs": [],
   "source": [
    "def enc_pos(L,R):\n",
    "    L_pos=(np.rad2deg(L )/cal_para[0])+cal_para[2]\n",
    "    R_pos=((np.rad2deg(R )-180)/cal_para[1])+cal_para[3]\n",
    "    return L_pos,R_pos"
   ]
  },
  {
   "cell_type": "code",
   "execution_count": null,
   "metadata": {},
   "outputs": [],
   "source": [
    "def get_angles():\n",
    "    theta_R=((odrv0.axis0.encoder.pos_estimate)-cal_para[3])*(cal_para[1])+180\n",
    "    theta_L=((odrv0.axis1.encoder.pos_estimate)-cal_para[2])*(cal_para[0])\n",
    "\n",
    "#     theta_R=(np.around(odrv0.axis0.encoder.pos_estimate)-cal_para[3])*(cal_para[1])+180\n",
    "#     theta_L=((np.around(odrv0.axis1.encoder.pos_estimate)-cal_para[2])*cal_para[0])\n",
    "        \n",
    "    return np.deg2rad(theta_L),np.deg2rad(theta_R)"
   ]
  },
  {
   "cell_type": "code",
   "execution_count": null,
   "metadata": {},
   "outputs": [],
   "source": [
    "def get_vel():\n",
    "    vel_R=-(odrv0.axis0.encoder.vel_estimate/(2048*4))*(2*np.pi)\n",
    "    vel_L=-(odrv0.axis1.encoder.vel_estimate/(2048*4))*(2*np.pi)\n",
    "    \n",
    "    return np.array([[vel_L],[vel_R]])"
   ]
  },
  {
   "cell_type": "code",
   "execution_count": null,
   "metadata": {},
   "outputs": [],
   "source": [
    "J1 = FK1.jacobian([theta_l,theta_r])\n",
    "J_rtheta = FK_rtheta.jacobian([theta_l,theta_r])"
   ]
  },
  {
   "cell_type": "markdown",
   "metadata": {},
   "source": [
    "### Get the Lambda functions for faster computations"
   ]
  },
  {
   "cell_type": "code",
   "execution_count": null,
   "metadata": {},
   "outputs": [],
   "source": [
    "\n",
    "J1_fast = lambdify((theta_l,theta_r,l1,l2,w),J1)\n",
    "\n",
    "FK1_fast = lambdify((theta_l,theta_r,l1,l2,w),FK1)\n",
    "\n",
    "J_rtheta_fast = lambdify((theta_l,theta_r,l1,l2,w),J_rtheta)\n",
    "Frt_fast = lambdify((theta_l,theta_r,l1,l2,w),FK_rtheta)\n"
   ]
  },
  {
   "cell_type": "code",
   "execution_count": null,
   "metadata": {},
   "outputs": [],
   "source": [
    "link1_length = 0.09;                  # m \n",
    "link2_length = 0.16;                  # m\n",
    "w_length = 0.07; \n",
    "x_eq = 0\n",
    "y_eq = 0.15\n",
    "\n",
    "# theta_l, theta_r = get_angles()\n",
    "# theta_r\n",
    "# fk_xy = FK1_fast(theta_l,theta_r,link1_length,link2_length,w_length)\n",
    "# fk_xy\n",
    "# res = IK_5_link(fk_xy[0], fk_xy[1])\n",
    "# res[0].x[1]"
   ]
  },
  {
   "cell_type": "code",
   "execution_count": null,
   "metadata": {},
   "outputs": [],
   "source": [
    "def IK_5_link(x, y, l1 = link1_length, l2 = link2_length, w = w_length):\n",
    "    \n",
    "    def leg_wide(var):\n",
    "        return np.linalg.norm([var[1] - np.pi, var[0]])\n",
    "    \n",
    "    def x_constraint_equation(var):\n",
    "        # should be equal to zero when the \n",
    "        return l1**2 - l2**2 + (x - w/2)**2 + y**2 - 2*l1*(y*np.sin(var[0]) + (x - w/2)*np.cos(var[0]))\n",
    "\n",
    "    def y_constraint_equation(var):\n",
    "        return l1**2 - l2**2 + (x + w/2)**2 + y**2 - 2*l1*(y*np.sin(var[1]) + (x + w/2)*np.cos(var[1]))\n",
    "\n",
    "    \n",
    "    res = minimize(leg_wide, (0.1, 9*np.pi/10), method=\"SLSQP\", constraints= ({\"type\": \"eq\", \"fun\": x_constraint_equation}, \n",
    "                                                                               {\"type\": \"eq\", \"fun\": y_constraint_equation}))\n",
    "    \n",
    "    return (res, np.linalg.norm([x_constraint_equation(res.x), y_constraint_equation(res.x)]))"
   ]
  },
  {
   "cell_type": "code",
   "execution_count": null,
   "metadata": {},
   "outputs": [],
   "source": [
    "def get_trajectory(x,y,d,T,N):\n",
    "    \n",
    "    theta_points = []\n",
    "    # Stance\n",
    "    z = np.polyfit([x[0],x[1]],[y[0],y[1]],1)\n",
    "    p = np.poly1d(z)\n",
    "    n_stance = (np.rint(N*d))\n",
    "    n_stance = n_stance.astype(int)\n",
    "    x_stancepoints = np.linspace(x[0],x[1],n_stance+1)\n",
    "    y_stancepoints = p(x_stancepoints)\n",
    "    \n",
    "    # Swing\n",
    "    z = np.polyfit(x,y,2)\n",
    "    p = np.poly1d(z)\n",
    "    n_swing = np.rint((N*(1-d)))\n",
    "    n_swing = n_swing.astype(int)\n",
    "    x_swingpoints = np.linspace(x[1],x[0],n_swing+1)\n",
    "    y_swingpoints = p(x_swingpoints)\n",
    "    \n",
    "    x_points = np.append(x_stancepoints,x_swingpoints[1:])\n",
    "    y_points = np.append(y_stancepoints,y_swingpoints[1:])\n",
    "    \n",
    "    t_points = np.linspace(0,T,N+1)\n",
    "    \n",
    "    for i in range(x_points.shape[0]):\n",
    "        \n",
    "        res = IK_5_link(x_points[i],y_points[i])\n",
    "        theta_points.append([res[0].x[1],res[0].x[0]])\n",
    "    \n",
    "    return theta_points,t_points"
   ]
  },
  {
   "cell_type": "code",
   "execution_count": 6,
   "metadata": {
    "collapsed": true,
    "jupyter": {
     "outputs_hidden": true
    }
   },
   "outputs": [
    {
     "name": "stdout",
     "output_type": "stream",
     "text": [
      "axis0\n",
      "  axis: no error\n",
      "  motor: no error\n",
      "  encoder: no error\n",
      "  controller: no error\n",
      "axis1\n",
      "  axis: no error\n",
      "  motor: no error\n",
      "  encoder: no error\n",
      "  controller: no error\n",
      "axis0\n",
      "  axis: no error\n",
      "  motor: no error\n",
      "  encoder: no error\n",
      "  controller: no error\n",
      "axis1\n",
      "  axis: no error\n",
      "  motor: no error\n",
      "  encoder: no error\n",
      "  controller: no error\n"
     ]
    }
   ],
   "source": [
    "# Dump Errors\n",
    "dump_errors(odrv0)\n",
    "dump_errors(odrv0,True)"
   ]
  },
  {
   "cell_type": "code",
   "execution_count": null,
   "metadata": {},
   "outputs": [],
   "source": [
    "K_spg=np.array([20,50,100,200,300])\n",
    "damp_c=np.array([0.2,0.3,0.7,1,1.5])\n",
    "z = np.polyfit(K_spg, damp_c, 4)\n",
    "q=np.poly1d(z)"
   ]
  },
  {
   "cell_type": "markdown",
   "metadata": {},
   "source": [
    "## Cartesian Control"
   ]
  },
  {
   "cell_type": "code",
   "execution_count": null,
   "metadata": {},
   "outputs": [],
   "source": [
    "# Cartesian Control\n",
    "\n",
    "odrv0.axis0.requested_state = odrive.enums.AXIS_STATE_CLOSED_LOOP_CONTROL\n",
    "odrv0.axis1.requested_state = odrive.enums.AXIS_STATE_CLOSED_LOOP_CONTROL\n",
    "\n",
    "# axis.controller.config.control_mode = CTRL_MODE_CURRENT_CONTROL\n",
    "\n",
    "x_eq=0\n",
    "y_eq=0.15\n",
    "\n",
    "kx = 200  # N/m\n",
    "ky = 0 # N/m\n",
    "kT = 0.0285 # Nm/A\n",
    "c  = q(kx)  #1.5 # Nm/rad\n",
    "Imax=25    #A\n",
    "res = IK_5_link(x_eq, y_eq)\n",
    "L_eq,R_eq=enc_pos(res[0].x[0],res[0].x[1])\n",
    "\n",
    "odrv0.axis0.controller.set_pos_setpoint(R_eq,0,0)\n",
    "odrv0.axis1.controller.set_pos_setpoint(L_eq,0,0)\n",
    "time.sleep(1)\n",
    "t_end = time.time() + 20\n",
    "\n",
    "while time.time() < t_end:\n",
    "       \n",
    "    theta_l, theta_r = get_angles()\n",
    "    vel = get_vel()\n",
    "\n",
    "    fk_xy = FK1_fast(theta_l,theta_r,link1_length,link2_length,w_length)\n",
    "    J_xy = J1_fast(theta_l,theta_r,link1_length,link2_length,w_length)\n",
    "    x = fk_xy[0]\n",
    "    y = fk_xy[1]\n",
    "    mat_xy = np.array([[x[0]-x_eq],\n",
    "                       [y[0]-y_eq]])\n",
    "    mat_k = np.array([[-kx,0],\n",
    "                      [0,-ky]])\n",
    "    I1 = (J_xy.T @ mat_k @ mat_xy)/kT\n",
    "    I = I1 -c*(vel)\n",
    "    if(I[0]>Imax):\n",
    "        I[0]=Imax\n",
    "    elif(I[0]<-Imax):\n",
    "        I[0]=-Imax\n",
    "    \n",
    "    if(I[1]>Imax):\n",
    "        I[1]=Imax\n",
    "    elif(I[1]<-Imax):\n",
    "        I[1]=-Imax\n",
    "    \n",
    "    odrv0.axis0.controller.set_current_setpoint(-I[1])\n",
    "    odrv0.axis1.controller.set_current_setpoint(-I[0])\n",
    "    print(I1)\n",
    "    clear_output()\n",
    "motor_idle()    "
   ]
  },
  {
   "cell_type": "markdown",
   "metadata": {},
   "source": [
    "## Polar Coordinates Control"
   ]
  },
  {
   "cell_type": "code",
   "execution_count": null,
   "metadata": {},
   "outputs": [],
   "source": [
    "# Polar Coord Control (4 & 0.85)\n",
    "\n",
    "odrv0.axis0.requested_state = odrive.enums.AXIS_STATE_CLOSED_LOOP_CONTROL\n",
    "odrv0.axis1.requested_state = odrive.enums.AXIS_STATE_CLOSED_LOOP_CONTROL\n",
    "\n",
    "r_eq=0.15\n",
    "th_eq=75\n",
    "\n",
    "x_eq=r_eq*np.cos(np.deg2rad(th_eq))\n",
    "y_eq=r_eq*np.sin(np.deg2rad(th_eq))\n",
    "\n",
    "kr = 0  # N/m\n",
    "kth = 4 # N/rad\n",
    "kT = 0.0285 # Nm/A\n",
    "c  = 0.85 #q(kr) #0.85 # q(kr)  # Nm/rad\n",
    "Imax=25    #A\n",
    "res = IK_5_link(x_eq, y_eq)\n",
    "L_eq,R_eq=enc_pos(res[0].x[0],res[0].x[1])\n",
    "\n",
    "odrv0.axis0.controller.set_pos_setpoint(R_eq,0,0)\n",
    "odrv0.axis1.controller.set_pos_setpoint(L_eq,0,0)\n",
    "time.sleep(1)\n",
    "# motor_idle()\n",
    "t_end = time.time() + 20\n",
    "\n",
    "while time.time() < t_end:\n",
    "       \n",
    "    theta_l, theta_r = get_angles()\n",
    "    vel = get_vel()\n",
    "\n",
    "    fk_rt = Frt_fast(theta_l,theta_r,link1_length,link2_length,w_length)\n",
    "    J_rt = J_rtheta_fast(theta_l,theta_r,link1_length,link2_length,w_length)\n",
    "    r = fk_rt[0]\n",
    "    th = fk_rt[1]\n",
    "    mat_rt = np.array([[r[0]-r_eq],\n",
    "                       [th[0]-np.deg2rad(th_eq)]])\n",
    "    mat_k = np.array([[-kr,0],\n",
    "                      [0,-kth]])\n",
    "    I1 = (J_rt.T @ mat_k @ mat_rt)/kT\n",
    "    I = I1 -c*(vel)\n",
    "\n",
    "    #     np.where(I>25)]\n",
    "    if(I[0]>Imax):\n",
    "        I[0]=Imax\n",
    "    elif(I[0]<-Imax):\n",
    "        I[0]=-Imax\n",
    "    \n",
    "    if(I[1]>Imax):\n",
    "        I[1]=Imax\n",
    "    elif(I[1]<-Imax):\n",
    "        I[1]=-Imax\n",
    "\n",
    "    odrv0.axis0.controller.set_current_setpoint(-I[1])\n",
    "    odrv0.axis1.controller.set_current_setpoint(-I[0])\n",
    "    print(I)\n",
    "    clear_output()\n",
    "motor_idle()    "
   ]
  }
 ],
 "metadata": {
  "kernelspec": {
   "display_name": "Python 3.7.4 64-bit ('base': conda)",
   "language": "python",
   "name": "python37464bitbaseconda0ea97c9e82d841a6bd36faf3d1217a15"
  },
  "language_info": {
   "codemirror_mode": {
    "name": "ipython",
    "version": 3
   },
   "file_extension": ".py",
   "mimetype": "text/x-python",
   "name": "python",
   "nbconvert_exporter": "python",
   "pygments_lexer": "ipython3",
   "version": "3.7.4"
  }
 },
 "nbformat": 4,
 "nbformat_minor": 4
}
