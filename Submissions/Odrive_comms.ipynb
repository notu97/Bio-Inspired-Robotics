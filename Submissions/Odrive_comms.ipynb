{
 "cells": [
  {
   "cell_type": "code",
   "execution_count": 1,
   "metadata": {},
   "outputs": [],
   "source": [
    "import numpy as np\n",
    "\n",
    "import matplotlib as mpl\n",
    "mpl.use('Qt5Agg')\n",
    "\n",
    "import matplotlib.pyplot as plt\n",
    "plt.ion()\n",
    "\n",
    "# for the symbolic manipulation of jacobian\n",
    "import sympy as sp\n",
    "# from sympy import symbols\n",
    "# from sympy import sin, cos, asin, acos, pi, atan2, sqrt\n",
    "from sympy.utilities.lambdify import lambdify\n",
    "# from sympy import Matrix\n",
    "\n",
    "from scipy.optimize import minimize\n",
    "from scipy.optimize import fsolve\n",
    "\n",
    "import time\n",
    "\n",
    "import odrive\n",
    "import odrive.utils\n",
    "import odrive.enums"
   ]
  },
  {
   "cell_type": "markdown",
   "metadata": {},
   "source": [
    "## Connect to ODrive"
   ]
  },
  {
   "cell_type": "code",
   "execution_count": null,
   "metadata": {},
   "outputs": [],
   "source": [
    "odrv0 = odrive.find_any()\n",
    "if odrv0 is not None:\n",
    "    print('Connected!')\n",
    "    print('Odrive serial {}'.format(odrv0.serial_number))\n",
    "    \n",
    "    m0 = odrv0.axis0.motor.is_calibrated\n",
    "    m1 = odrv0.axis1.motor.is_calibrated\n",
    "    \n",
    "    print('Motor 0 calibrated: {}'.format(m0))\n",
    "    print('Motor 1 calibrated: {}'.format(m1))    \n",
    "    \n",
    "else:\n",
    "    print('Not connected')\n",
    "    "
   ]
  },
  {
   "cell_type": "code",
   "execution_count": 2,
   "metadata": {},
   "outputs": [
    {
     "name": "stdout",
     "output_type": "stream",
     "text": [
      "Connected!\n",
      "Target serial 206A33A5304B \t Odrive serial 35640505086027\n",
      "Motor 0 calibrated: True\n",
      "Motor 1 calibrated: True\n"
     ]
    }
   ],
   "source": [
    "def connect_odrive(serial):\n",
    "    odrv0 = odrive.find_any(serial_number = serial, timeout = 20)\n",
    "    if odrv0 is not None:\n",
    "        print('Connected!')\n",
    "        print('Target serial {} \\t Odrive serial {}'.format(serial, odrv0.serial_number))\n",
    "        \n",
    "        m0 = odrv0.axis0.motor.is_calibrated\n",
    "        m1 = odrv0.axis1.motor.is_calibrated\n",
    "\n",
    "        print('Motor 0 calibrated: {}'.format(m0))\n",
    "        print('Motor 1 calibrated: {}'.format(m1))    \n",
    "    else:\n",
    "        print(\"ODrive ({}) not found\".format(serial))\n",
    "    return odrv0\n",
    "    \n",
    "odrv0 = connect_odrive('206A33A5304B')\n"
   ]
  },
  {
   "cell_type": "code",
   "execution_count": 9,
   "metadata": {},
   "outputs": [],
   "source": [
    "%qtconsole"
   ]
  },
  {
   "cell_type": "markdown",
   "metadata": {},
   "source": [
    "## If not calibrated already perform calibration"
   ]
  },
  {
   "cell_type": "code",
   "execution_count": 3,
   "metadata": {},
   "outputs": [
    {
     "name": "stdout",
     "output_type": "stream",
     "text": [
      "\t Motor 0 calibration result: True \n",
      " \t Motor 1 calibration result: True\n"
     ]
    }
   ],
   "source": [
    "odrv0.axis0.requested_state = odrive.enums.AXIS_STATE_FULL_CALIBRATION_SEQUENCE\n",
    "odrv0.axis1.requested_state = odrive.enums.AXIS_STATE_FULL_CALIBRATION_SEQUENCE\n",
    "\n",
    "time.sleep(15)\n",
    "\n",
    "print('\\t Motor 0 calibration result: {} \\r\\n'.format(odrv0.axis0.motor.is_calibrated), \n",
    "      '\\t Motor 1 calibration result: {}'.format(odrv0.axis1.motor.is_calibrated))\n"
   ]
  },
  {
   "cell_type": "code",
   "execution_count": 4,
   "metadata": {},
   "outputs": [],
   "source": [
    "%qtconsole"
   ]
  },
  {
   "cell_type": "markdown",
   "metadata": {},
   "source": [
    "## Test position control mode"
   ]
  },
  {
   "cell_type": "code",
   "execution_count": 4,
   "metadata": {},
   "outputs": [],
   "source": [
    "odrv0.axis0.requested_state = odrive.enums.AXIS_STATE_CLOSED_LOOP_CONTROL\n",
    "odrv0.axis1.requested_state = odrive.enums.AXIS_STATE_CLOSED_LOOP_CONTROL\n",
    "\n",
    "odrv0.axis0.controller.set_pos_setpoint(0,0,0)\n",
    "odrv0.axis1.controller.set_pos_setpoint(0,0,0)"
   ]
  },
  {
   "cell_type": "markdown",
   "metadata": {},
   "source": [
    "## Put back into idle mode"
   ]
  },
  {
   "cell_type": "code",
   "execution_count": 5,
   "metadata": {},
   "outputs": [],
   "source": [
    "odrv0.axis0.requested_state = odrive.enums.AXIS_STATE_IDLE\n",
    "odrv0.axis1.requested_state = odrive.enums.AXIS_STATE_IDLE"
   ]
  },
  {
   "cell_type": "markdown",
   "metadata": {},
   "source": [
    "## (can now put legs on if you want to)"
   ]
  },
  {
   "cell_type": "markdown",
   "metadata": {},
   "source": [
    "## Define a get joint angles function "
   ]
  },
  {
   "cell_type": "code",
   "execution_count": 46,
   "metadata": {},
   "outputs": [
    {
     "name": "stdout",
     "output_type": "stream",
     "text": [
      "(0.006854736727298959, 0.0007194285499439664)\n"
     ]
    }
   ],
   "source": [
    "motor_cpr = (odrv0.axis0.encoder.config.cpr, \n",
    "             odrv0.axis1.encoder.config.cpr)\n",
    "\n",
    "def get_joints(odrv, cpr = motor_cpr, zero_pos = (0,0)):\n",
    "    m0 = 2*np.pi*(odrv.axis0.encoder.pos_estimate - zero_pos[0])/motor_cpr[0]\n",
    "    m1 = 2*np.pi*(odrv.axis1.encoder.pos_estimate - zero_pos[1])/motor_cpr[1]\n",
    "    \n",
    "    return (m0, m1)\n",
    "\n",
    "print(get_joints(odrv0))"
   ]
  },
  {
   "cell_type": "markdown",
   "metadata": {},
   "source": [
    "## Inspect joint angle measurement process"
   ]
  },
  {
   "cell_type": "code",
   "execution_count": 51,
   "metadata": {},
   "outputs": [],
   "source": [
    "m0 = []\n",
    "m1 = []\n",
    "\n",
    "start = time.time()\n",
    "\n",
    "t_curr = 0\n",
    "\n",
    "while(t_curr < 20):\n",
    "    t_curr = (time.time() - start);\n",
    "    \n",
    "    pos = get_joints(odrv0)\n",
    "    m0.append(pos[0])\n",
    "    m1.append(pos[1]) \n",
    "    \n",
    "    plt.cla()\n",
    "    plt.plot(np.array(m0)/np.pi)\n",
    "    plt.plot(np.array(m1)/np.pi)\n",
    "    plt.title('{0:.2f} seconds'.format(t_curr))\n",
    "    plt.show()\n",
    "    \n",
    "    plt.pause(0.1)\n"
   ]
  },
  {
   "cell_type": "markdown",
   "metadata": {},
   "source": [
    "## Configure output limits"
   ]
  },
  {
   "cell_type": "code",
   "execution_count": 53,
   "metadata": {},
   "outputs": [],
   "source": [
    "curr_limit = 2 #A\n",
    "odrv0.axis0.motor.config.current_lim = curr_limit\n",
    "odrv0.axis1.motor.config.current_lim = curr_limit\n"
   ]
  },
  {
   "cell_type": "markdown",
   "metadata": {},
   "source": [
    "## Def a function to send motor current commands "
   ]
  },
  {
   "cell_type": "code",
   "execution_count": 54,
   "metadata": {},
   "outputs": [],
   "source": [
    "def motor_get_current(odrv):\n",
    "    return(odrv.axis0.motor.current_control.Iq_measured, \n",
    "           odrv.axis1.motor.current_control.Iq_measured)\n",
    "\n",
    "def motor_set_current(odrv, current, current_limit = (curr_limit, curr_limit)):\n",
    "    \n",
    "    current_0 = min(np.abs(current[0]), current_limit[0]) * np.sign(current[0])\n",
    "    current_1 = min(np.abs(current[1]), current_limit[1]) * np.sign(current[1])    \n",
    "    \n",
    "    odrv.axis0.controller.set_current_setpoint(current_0)\n",
    "    odrv.axis1.controller.set_current_setpoint(current_1)\n",
    "    \n",
    "    return (current_0, current_1)\n",
    "    \n",
    "    "
   ]
  },
  {
   "cell_type": "markdown",
   "metadata": {},
   "source": [
    "## Apply torques in one direction for a short time then reverse in opposite direction then kill motors"
   ]
  },
  {
   "cell_type": "code",
   "execution_count": 55,
   "metadata": {},
   "outputs": [
    {
     "name": "stdout",
     "output_type": "stream",
     "text": [
      "(0.31622374057769775, -0.169110506772995)\n",
      "(-0.48017850518226624, 0.41434377431869507)\n",
      "(-0.012473955750465393, 0.28185588121414185)\n"
     ]
    }
   ],
   "source": [
    "odrv0.axis0.requested_state = odrive.enums.AXIS_STATE_CLOSED_LOOP_CONTROL\n",
    "odrv0.axis1.requested_state = odrive.enums.AXIS_STATE_CLOSED_LOOP_CONTROL\n",
    "\n",
    "motor_set_current(odrv0, (.4, -.4))\n",
    "time.sleep(0.35)\n",
    "print(motor_get_current(odrv0))\n",
    "motor_set_current(odrv0, (-.4, .4))\n",
    "time.sleep(0.35)\n",
    "print(motor_get_current(odrv0))\n",
    "motor_set_current(odrv0, (0, 0))\n",
    "time.sleep(0.25)\n",
    "print(motor_get_current(odrv0))\n",
    "\n",
    "\n",
    "odrv0.axis0.requested_state = odrive.enums.AXIS_STATE_IDLE\n",
    "odrv0.axis1.requested_state = odrive.enums.AXIS_STATE_IDLE"
   ]
  },
  {
   "cell_type": "code",
   "execution_count": 56,
   "metadata": {},
   "outputs": [],
   "source": [
    "del odrv0"
   ]
  },
  {
   "cell_type": "code",
   "execution_count": 2,
   "metadata": {},
   "outputs": [],
   "source": [
    "%qtconsole"
   ]
  },
  {
   "cell_type": "code",
   "execution_count": null,
   "metadata": {},
   "outputs": [],
   "source": []
  }
 ],
 "metadata": {
  "kernelspec": {
   "display_name": "Python 3",
   "language": "python",
   "name": "python3"
  },
  "language_info": {
   "codemirror_mode": {
    "name": "ipython",
    "version": 3
   },
   "file_extension": ".py",
   "mimetype": "text/x-python",
   "name": "python",
   "nbconvert_exporter": "python",
   "pygments_lexer": "ipython3",
   "version": "3.7.4"
  }
 },
 "nbformat": 4,
 "nbformat_minor": 4
}
