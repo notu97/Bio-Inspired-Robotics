{
 "cells": [
  {
   "cell_type": "markdown",
   "metadata": {},
   "source": [
    "## Hands on Implementation"
   ]
  },
  {
   "cell_type": "code",
   "execution_count": 7,
   "metadata": {},
   "outputs": [],
   "source": [
    "import time\n",
    "from IPython.display import clear_output\n",
    "import numpy as np\n",
    "import matplotlib as mpl\n",
    "\n",
    "# import sympy\n",
    "from sympy import symbols, pprint\n",
    "from sympy import sin, cos, asin, acos, atan, pi, sqrt\n",
    "from sympy import Matrix\n",
    "from IPython.core.interactiveshell import InteractiveShell\n",
    "InteractiveShell.ast_node_interactivity = \"all\"\n",
    "from sympy import lambdify\n",
    "# import numpy as np\n",
    "\n",
    "import matplotlib.pyplot as plt\n",
    "import matplotlib.animation as animation\n",
    "from matplotlib import style\n",
    "\n",
    "from IPython import display # for the animation\n",
    "# import matplotlib as mpl\n",
    "# mpl.use('Qt5Agg')\n",
    "# plt.ion()\n",
    "\n",
    "import matplotlib.pyplot as plt\n",
    "# plt.ion()\n",
    "\n",
    "# for the symbolic manipulation of jacobian\n",
    "import sympy as sp\n",
    "# from sympy import symbols\n",
    "#from sympy import sin, cos, asin, acos, pi, atan2, sqrt\n",
    "from sympy.utilities.lambdify import lambdify\n",
    "#from sympy import Matrix\n",
    "\n",
    "from scipy.optimize import minimize\n",
    "from scipy.optimize import fsolve\n",
    "\n",
    "import time\n",
    "\n",
    "import odrive\n",
    "from odrive.utils import *\n",
    "import odrive.enums\n",
    "%matplotlib inline"
   ]
  },
  {
   "cell_type": "markdown",
   "metadata": {},
   "source": [
    "## Connect to ODrive"
   ]
  },
  {
   "cell_type": "code",
   "execution_count": 88,
   "metadata": {},
   "outputs": [
    {
     "name": "stdout",
     "output_type": "stream",
     "text": [
      "Connected!\n",
      "Odrive serial 53194131976757\n",
      "Motor 0 calibrated: False\n",
      "Motor 1 calibrated: False\n"
     ]
    }
   ],
   "source": [
    "odrv0 = odrive.find_any()\n",
    "if odrv0 is not None:\n",
    "    print('Connected!')\n",
    "    print('Odrive serial {}'.format(odrv0.serial_number))\n",
    "    \n",
    "    m0 = odrv0.axis0.motor.is_calibrated\n",
    "    m1 = odrv0.axis1.motor.is_calibrated\n",
    "    \n",
    "    print('Motor 0 calibrated: {}'.format(m0))\n",
    "    print('Motor 1 calibrated: {}'.format(m1))    \n",
    "    \n",
    "else:\n",
    "    print('Not connected')\n",
    "    "
   ]
  },
  {
   "cell_type": "code",
   "execution_count": 72,
   "metadata": {},
   "outputs": [
    {
     "name": "stdout",
     "output_type": "stream",
     "text": [
      "Motor 0 calibrated: False\n",
      "Motor 1 calibrated: False\n"
     ]
    }
   ],
   "source": [
    "m0 = odrv0.axis0.motor.is_calibrated\n",
    "m1 = odrv0.axis1.motor.is_calibrated\n",
    "    \n",
    "print('Motor 0 calibrated: {}'.format(m0))\n",
    "print('Motor 1 calibrated: {}'.format(m1))"
   ]
  },
  {
   "cell_type": "code",
   "execution_count": 51,
   "metadata": {
    "collapsed": true,
    "jupyter": {
     "outputs_hidden": true
    }
   },
   "outputs": [
    {
     "ename": "NameError",
     "evalue": "name 'odrv0' is not defined",
     "output_type": "error",
     "traceback": [
      "\u001b[1;31m---------------------------------------------------------------------------\u001b[0m",
      "\u001b[1;31mNameError\u001b[0m                                 Traceback (most recent call last)",
      "\u001b[1;32m<ipython-input-51-d1e701584495>\u001b[0m in \u001b[0;36m<module>\u001b[1;34m\u001b[0m\n\u001b[0;32m      1\u001b[0m \u001b[1;31m# Setting the velocity and calibration current limit\u001b[0m\u001b[1;33m\u001b[0m\u001b[1;33m\u001b[0m\u001b[1;33m\u001b[0m\u001b[0m\n\u001b[1;32m----> 2\u001b[1;33m \u001b[0modrv0\u001b[0m\u001b[1;33m.\u001b[0m\u001b[0maxis0\u001b[0m\u001b[1;33m.\u001b[0m\u001b[0mcontroller\u001b[0m\u001b[1;33m.\u001b[0m\u001b[0mconfig\u001b[0m\u001b[1;33m.\u001b[0m\u001b[0mvel_limit\u001b[0m\u001b[1;33m=\u001b[0m\u001b[1;36m200000\u001b[0m\u001b[1;33m\u001b[0m\u001b[1;33m\u001b[0m\u001b[0m\n\u001b[0m\u001b[0;32m      3\u001b[0m \u001b[0modrv0\u001b[0m\u001b[1;33m.\u001b[0m\u001b[0maxis1\u001b[0m\u001b[1;33m.\u001b[0m\u001b[0mcontroller\u001b[0m\u001b[1;33m.\u001b[0m\u001b[0mconfig\u001b[0m\u001b[1;33m.\u001b[0m\u001b[0mvel_limit\u001b[0m\u001b[1;33m=\u001b[0m\u001b[1;36m200000\u001b[0m\u001b[1;33m\u001b[0m\u001b[1;33m\u001b[0m\u001b[0m\n\u001b[0;32m      4\u001b[0m \u001b[0modrv0\u001b[0m\u001b[1;33m.\u001b[0m\u001b[0maxis0\u001b[0m\u001b[1;33m.\u001b[0m\u001b[0mmotor\u001b[0m\u001b[1;33m.\u001b[0m\u001b[0mconfig\u001b[0m\u001b[1;33m.\u001b[0m\u001b[0mcalibration_current\u001b[0m\u001b[1;33m=\u001b[0m\u001b[1;36m20.0\u001b[0m\u001b[1;33m\u001b[0m\u001b[1;33m\u001b[0m\u001b[0m\n\u001b[0;32m      5\u001b[0m \u001b[0modrv0\u001b[0m\u001b[1;33m.\u001b[0m\u001b[0maxis1\u001b[0m\u001b[1;33m.\u001b[0m\u001b[0mmotor\u001b[0m\u001b[1;33m.\u001b[0m\u001b[0mconfig\u001b[0m\u001b[1;33m.\u001b[0m\u001b[0mcalibration_current\u001b[0m\u001b[1;33m=\u001b[0m\u001b[1;36m20.0\u001b[0m\u001b[1;33m\u001b[0m\u001b[1;33m\u001b[0m\u001b[0m\n",
      "\u001b[1;31mNameError\u001b[0m: name 'odrv0' is not defined"
     ]
    }
   ],
   "source": [
    "# Setting the velocity and calibration current limit\n",
    "odrv0.axis0.controller.config.vel_limit=200000\n",
    "odrv0.axis1.controller.config.vel_limit=200000\n",
    "odrv0.axis0.motor.config.calibration_current=20.0\n",
    "odrv0.axis1.motor.config.calibration_current=20.0\n"
   ]
  },
  {
   "cell_type": "markdown",
   "metadata": {},
   "source": [
    "#### Calibrating the Motors"
   ]
  },
  {
   "cell_type": "code",
   "execution_count": 105,
   "metadata": {},
   "outputs": [
    {
     "name": "stdout",
     "output_type": "stream",
     "text": [
      "\t Motor 0 calibration result: True \n",
      " \t Motor 1 calibration result: True\n"
     ]
    }
   ],
   "source": [
    "odrv0.axis0.requested_state = odrive.enums.AXIS_STATE_FULL_CALIBRATION_SEQUENCE\n",
    "odrv0.axis1.requested_state = odrive.enums.AXIS_STATE_FULL_CALIBRATION_SEQUENCE\n",
    "\n",
    "time.sleep(15)\n",
    "\n",
    "print('\\t Motor 0 calibration result: {} \\r\\n'.format(odrv0.axis0.motor.is_calibrated), \n",
    "      '\\t Motor 1 calibration result: {}'.format(odrv0.axis1.motor.is_calibrated))\n"
   ]
  },
  {
   "cell_type": "code",
   "execution_count": 4,
   "metadata": {},
   "outputs": [],
   "source": [
    "# Function to make the motors return to idle mode \n",
    "def motor_idle(): \n",
    "    odrv0.axis0.requested_state = odrive.enums.AXIS_STATE_IDLE\n",
    "    odrv0.axis1.requested_state = odrive.enums.AXIS_STATE_IDLE"
   ]
  },
  {
   "cell_type": "markdown",
   "metadata": {},
   "source": [
    "#### Defining variables for Forward Kinematic equation"
   ]
  },
  {
   "cell_type": "code",
   "execution_count": 8,
   "metadata": {},
   "outputs": [],
   "source": [
    "\n",
    "(theta_l, \n",
    " theta_r,\n",
    " l1, \n",
    " l2,\n",
    " w) = symbols(\"\"\" theta_l\n",
    "                         theta_r\n",
    "                         l1 \n",
    "                         l2\n",
    "                         w \"\"\" , real = True)"
   ]
  },
  {
   "cell_type": "markdown",
   "metadata": {},
   "source": [
    "#### Forward Kinematics definition"
   ]
  },
  {
   "cell_type": "code",
   "execution_count": 9,
   "metadata": {},
   "outputs": [
    {
     "data": {
      "text/latex": [
       "$\\displaystyle l_{1} \\cos{\\left(\\theta_{l} \\right)} + l_{2} \\cos{\\left(2 \\operatorname{atan}{\\left(\\frac{2 l_{1} l_{2} \\sin{\\left(\\theta_{l} \\right)} - 2 l_{1} l_{2} \\sin{\\left(\\theta_{r} \\right)} + \\sqrt{\\left(2 l_{1} l_{2} \\sin{\\left(\\theta_{l} \\right)} - 2 l_{1} l_{2} \\sin{\\left(\\theta_{r} \\right)}\\right)^{2} + \\left(2 l_{1} l_{2} \\cos{\\left(\\theta_{l} \\right)} - 2 l_{1} l_{2} \\cos{\\left(\\theta_{r} \\right)} + 2 l_{2} w\\right)^{2} - \\left(- 2 l_{1}^{2} \\sin{\\left(\\theta_{l} \\right)} \\sin{\\left(\\theta_{r} \\right)} - 2 l_{1}^{2} \\cos{\\left(\\theta_{l} \\right)} \\cos{\\left(\\theta_{r} \\right)} + 2 l_{1}^{2} + 2 l_{1} w \\cos{\\left(\\theta_{l} \\right)} - 2 l_{1} w \\cos{\\left(\\theta_{r} \\right)} + w^{2}\\right)^{2}}}{2 l_{1}^{2} \\sin{\\left(\\theta_{l} \\right)} \\sin{\\left(\\theta_{r} \\right)} + 2 l_{1}^{2} \\cos{\\left(\\theta_{l} \\right)} \\cos{\\left(\\theta_{r} \\right)} - 2 l_{1}^{2} + 2 l_{1} l_{2} \\cos{\\left(\\theta_{l} \\right)} - 2 l_{1} l_{2} \\cos{\\left(\\theta_{r} \\right)} - 2 l_{1} w \\cos{\\left(\\theta_{l} \\right)} + 2 l_{1} w \\cos{\\left(\\theta_{r} \\right)} + 2 l_{2} w - w^{2}} \\right)} \\right)} + \\frac{w}{2}$"
      ],
      "text/plain": [
       "l1*cos(theta_l) + l2*cos(2*atan((2*l1*l2*sin(theta_l) - 2*l1*l2*sin(theta_r) + sqrt((2*l1*l2*sin(theta_l) - 2*l1*l2*sin(theta_r))**2 + (2*l1*l2*cos(theta_l) - 2*l1*l2*cos(theta_r) + 2*l2*w)**2 - (-2*l1**2*sin(theta_l)*sin(theta_r) - 2*l1**2*cos(theta_l)*cos(theta_r) + 2*l1**2 + 2*l1*w*cos(theta_l) - 2*l1*w*cos(theta_r) + w**2)**2))/(2*l1**2*sin(theta_l)*sin(theta_r) + 2*l1**2*cos(theta_l)*cos(theta_r) - 2*l1**2 + 2*l1*l2*cos(theta_l) - 2*l1*l2*cos(theta_r) - 2*l1*w*cos(theta_l) + 2*l1*w*cos(theta_r) + 2*l2*w - w**2))) + w/2"
      ]
     },
     "execution_count": 9,
     "metadata": {},
     "output_type": "execute_result"
    },
    {
     "data": {
      "text/latex": [
       "$\\displaystyle l_{1} \\cos{\\left(\\theta_{l} \\right)} + l_{2} \\cos{\\left(2 \\operatorname{atan}{\\left(\\frac{2 l_{1} l_{2} \\sin{\\left(\\theta_{l} \\right)} - 2 l_{1} l_{2} \\sin{\\left(\\theta_{r} \\right)} - \\sqrt{\\left(2 l_{1} l_{2} \\sin{\\left(\\theta_{l} \\right)} - 2 l_{1} l_{2} \\sin{\\left(\\theta_{r} \\right)}\\right)^{2} + \\left(2 l_{1} l_{2} \\cos{\\left(\\theta_{l} \\right)} - 2 l_{1} l_{2} \\cos{\\left(\\theta_{r} \\right)} + 2 l_{2} w\\right)^{2} - \\left(- 2 l_{1}^{2} \\sin{\\left(\\theta_{l} \\right)} \\sin{\\left(\\theta_{r} \\right)} - 2 l_{1}^{2} \\cos{\\left(\\theta_{l} \\right)} \\cos{\\left(\\theta_{r} \\right)} + 2 l_{1}^{2} + 2 l_{1} w \\cos{\\left(\\theta_{l} \\right)} - 2 l_{1} w \\cos{\\left(\\theta_{r} \\right)} + w^{2}\\right)^{2}}}{2 l_{1}^{2} \\sin{\\left(\\theta_{l} \\right)} \\sin{\\left(\\theta_{r} \\right)} + 2 l_{1}^{2} \\cos{\\left(\\theta_{l} \\right)} \\cos{\\left(\\theta_{r} \\right)} - 2 l_{1}^{2} + 2 l_{1} l_{2} \\cos{\\left(\\theta_{l} \\right)} - 2 l_{1} l_{2} \\cos{\\left(\\theta_{r} \\right)} - 2 l_{1} w \\cos{\\left(\\theta_{l} \\right)} + 2 l_{1} w \\cos{\\left(\\theta_{r} \\right)} + 2 l_{2} w - w^{2}} \\right)} \\right)} + \\frac{w}{2}$"
      ],
      "text/plain": [
       "l1*cos(theta_l) + l2*cos(2*atan((2*l1*l2*sin(theta_l) - 2*l1*l2*sin(theta_r) - sqrt((2*l1*l2*sin(theta_l) - 2*l1*l2*sin(theta_r))**2 + (2*l1*l2*cos(theta_l) - 2*l1*l2*cos(theta_r) + 2*l2*w)**2 - (-2*l1**2*sin(theta_l)*sin(theta_r) - 2*l1**2*cos(theta_l)*cos(theta_r) + 2*l1**2 + 2*l1*w*cos(theta_l) - 2*l1*w*cos(theta_r) + w**2)**2))/(2*l1**2*sin(theta_l)*sin(theta_r) + 2*l1**2*cos(theta_l)*cos(theta_r) - 2*l1**2 + 2*l1*l2*cos(theta_l) - 2*l1*l2*cos(theta_r) - 2*l1*w*cos(theta_l) + 2*l1*w*cos(theta_r) + 2*l2*w - w**2))) + w/2"
      ]
     },
     "execution_count": 9,
     "metadata": {},
     "output_type": "execute_result"
    },
    {
     "data": {
      "text/latex": [
       "$\\displaystyle l_{1} \\sin{\\left(\\theta_{l} \\right)} + l_{2} \\sin{\\left(2 \\operatorname{atan}{\\left(\\frac{2 l_{1} l_{2} \\sin{\\left(\\theta_{l} \\right)} - 2 l_{1} l_{2} \\sin{\\left(\\theta_{r} \\right)} + \\sqrt{\\left(2 l_{1} l_{2} \\sin{\\left(\\theta_{l} \\right)} - 2 l_{1} l_{2} \\sin{\\left(\\theta_{r} \\right)}\\right)^{2} + \\left(2 l_{1} l_{2} \\cos{\\left(\\theta_{l} \\right)} - 2 l_{1} l_{2} \\cos{\\left(\\theta_{r} \\right)} + 2 l_{2} w\\right)^{2} - \\left(- 2 l_{1}^{2} \\sin{\\left(\\theta_{l} \\right)} \\sin{\\left(\\theta_{r} \\right)} - 2 l_{1}^{2} \\cos{\\left(\\theta_{l} \\right)} \\cos{\\left(\\theta_{r} \\right)} + 2 l_{1}^{2} + 2 l_{1} w \\cos{\\left(\\theta_{l} \\right)} - 2 l_{1} w \\cos{\\left(\\theta_{r} \\right)} + w^{2}\\right)^{2}}}{2 l_{1}^{2} \\sin{\\left(\\theta_{l} \\right)} \\sin{\\left(\\theta_{r} \\right)} + 2 l_{1}^{2} \\cos{\\left(\\theta_{l} \\right)} \\cos{\\left(\\theta_{r} \\right)} - 2 l_{1}^{2} + 2 l_{1} l_{2} \\cos{\\left(\\theta_{l} \\right)} - 2 l_{1} l_{2} \\cos{\\left(\\theta_{r} \\right)} - 2 l_{1} w \\cos{\\left(\\theta_{l} \\right)} + 2 l_{1} w \\cos{\\left(\\theta_{r} \\right)} + 2 l_{2} w - w^{2}} \\right)} \\right)}$"
      ],
      "text/plain": [
       "l1*sin(theta_l) + l2*sin(2*atan((2*l1*l2*sin(theta_l) - 2*l1*l2*sin(theta_r) + sqrt((2*l1*l2*sin(theta_l) - 2*l1*l2*sin(theta_r))**2 + (2*l1*l2*cos(theta_l) - 2*l1*l2*cos(theta_r) + 2*l2*w)**2 - (-2*l1**2*sin(theta_l)*sin(theta_r) - 2*l1**2*cos(theta_l)*cos(theta_r) + 2*l1**2 + 2*l1*w*cos(theta_l) - 2*l1*w*cos(theta_r) + w**2)**2))/(2*l1**2*sin(theta_l)*sin(theta_r) + 2*l1**2*cos(theta_l)*cos(theta_r) - 2*l1**2 + 2*l1*l2*cos(theta_l) - 2*l1*l2*cos(theta_r) - 2*l1*w*cos(theta_l) + 2*l1*w*cos(theta_r) + 2*l2*w - w**2)))"
      ]
     },
     "execution_count": 9,
     "metadata": {},
     "output_type": "execute_result"
    },
    {
     "data": {
      "text/latex": [
       "$\\displaystyle l_{1} \\sin{\\left(\\theta_{l} \\right)} + l_{2} \\sin{\\left(2 \\operatorname{atan}{\\left(\\frac{2 l_{1} l_{2} \\sin{\\left(\\theta_{l} \\right)} - 2 l_{1} l_{2} \\sin{\\left(\\theta_{r} \\right)} - \\sqrt{\\left(2 l_{1} l_{2} \\sin{\\left(\\theta_{l} \\right)} - 2 l_{1} l_{2} \\sin{\\left(\\theta_{r} \\right)}\\right)^{2} + \\left(2 l_{1} l_{2} \\cos{\\left(\\theta_{l} \\right)} - 2 l_{1} l_{2} \\cos{\\left(\\theta_{r} \\right)} + 2 l_{2} w\\right)^{2} - \\left(- 2 l_{1}^{2} \\sin{\\left(\\theta_{l} \\right)} \\sin{\\left(\\theta_{r} \\right)} - 2 l_{1}^{2} \\cos{\\left(\\theta_{l} \\right)} \\cos{\\left(\\theta_{r} \\right)} + 2 l_{1}^{2} + 2 l_{1} w \\cos{\\left(\\theta_{l} \\right)} - 2 l_{1} w \\cos{\\left(\\theta_{r} \\right)} + w^{2}\\right)^{2}}}{2 l_{1}^{2} \\sin{\\left(\\theta_{l} \\right)} \\sin{\\left(\\theta_{r} \\right)} + 2 l_{1}^{2} \\cos{\\left(\\theta_{l} \\right)} \\cos{\\left(\\theta_{r} \\right)} - 2 l_{1}^{2} + 2 l_{1} l_{2} \\cos{\\left(\\theta_{l} \\right)} - 2 l_{1} l_{2} \\cos{\\left(\\theta_{r} \\right)} - 2 l_{1} w \\cos{\\left(\\theta_{l} \\right)} + 2 l_{1} w \\cos{\\left(\\theta_{r} \\right)} + 2 l_{2} w - w^{2}} \\right)} \\right)}$"
      ],
      "text/plain": [
       "l1*sin(theta_l) + l2*sin(2*atan((2*l1*l2*sin(theta_l) - 2*l1*l2*sin(theta_r) - sqrt((2*l1*l2*sin(theta_l) - 2*l1*l2*sin(theta_r))**2 + (2*l1*l2*cos(theta_l) - 2*l1*l2*cos(theta_r) + 2*l2*w)**2 - (-2*l1**2*sin(theta_l)*sin(theta_r) - 2*l1**2*cos(theta_l)*cos(theta_r) + 2*l1**2 + 2*l1*w*cos(theta_l) - 2*l1*w*cos(theta_r) + w**2)**2))/(2*l1**2*sin(theta_l)*sin(theta_r) + 2*l1**2*cos(theta_l)*cos(theta_r) - 2*l1**2 + 2*l1*l2*cos(theta_l) - 2*l1*l2*cos(theta_r) - 2*l1*w*cos(theta_l) + 2*l1*w*cos(theta_r) + 2*l2*w - w**2)))"
      ]
     },
     "execution_count": 9,
     "metadata": {},
     "output_type": "execute_result"
    }
   ],
   "source": [
    "A = 2*l2*l1*sin(theta_l)- 2*l1*l2*sin(theta_r)\n",
    "B = 2*l2*w - 2*l1*l2*cos(theta_r) + 2*l2*l1*cos(theta_l)\n",
    "C = 2*(l1**2) + w**2 - 2*l1*l1*sin(theta_l)*sin(theta_r) - 2*l1*w*cos(theta_r) + 2*l1*w*cos(theta_l) - 2*l1*l1*cos(theta_l)*cos(theta_r)\n",
    "\n",
    "theta3_1 = 2*atan((A + sqrt(A**2 + B**2 - C**2))/(B-C))\n",
    "theta3_2 = 2*atan((A - sqrt(A**2 + B**2 - C**2))/(B-C))\n",
    "\n",
    "xc_1 = l1*cos(theta_l) + l2*cos(theta3_1) + w/2\n",
    "xc_1\n",
    "xc_2 = l1*cos(theta_l) + l2*cos(theta3_2) + w/2\n",
    "xc_2\n",
    "\n",
    "yc_1 = l1*sin(theta_l) + l2*sin(theta3_1)\n",
    "yc_1\n",
    "yc_2 = l1*sin(theta_l) + l2*sin(theta3_2)\n",
    "yc_2\n",
    "#sympy.simplify(theta3_1)\n",
    "#sympy.simplify(theta3_2)"
   ]
  },
  {
   "cell_type": "code",
   "execution_count": 10,
   "metadata": {},
   "outputs": [],
   "source": [
    "FK1 = Matrix([[xc_1],\n",
    "             [yc_1]])\n",
    "FK2 = Matrix([[xc_2],\n",
    "             [yc_2]])"
   ]
  },
  {
   "cell_type": "code",
   "execution_count": 11,
   "metadata": {},
   "outputs": [],
   "source": [
    "FK1_fast = lambdify((theta_l,theta_r,l1,l2,w),FK1)\n",
    "FK2_fast = lambdify((theta_l,theta_r,l1,l2,w),FK2)"
   ]
  },
  {
   "cell_type": "markdown",
   "metadata": {},
   "source": [
    "#### Code to record $\\theta_R$ and $\\theta_L$ to plot ($\\theta_R,\\theta_L$) workspace"
   ]
  },
  {
   "cell_type": "code",
   "execution_count": 13,
   "metadata": {
    "collapsed": true,
    "jupyter": {
     "outputs_hidden": true
    }
   },
   "outputs": [
    {
     "ename": "NameError",
     "evalue": "name 'odrv0' is not defined",
     "output_type": "error",
     "traceback": [
      "\u001b[1;31m---------------------------------------------------------------------------\u001b[0m",
      "\u001b[1;31mNameError\u001b[0m                                 Traceback (most recent call last)",
      "\u001b[1;32m<ipython-input-13-6fbec0a4f82e>\u001b[0m in \u001b[0;36m<module>\u001b[1;34m\u001b[0m\n\u001b[0;32m      1\u001b[0m \u001b[0mtheta\u001b[0m\u001b[1;33m=\u001b[0m\u001b[1;33m[\u001b[0m\u001b[1;33m]\u001b[0m\u001b[1;33m\u001b[0m\u001b[1;33m\u001b[0m\u001b[0m\n\u001b[0;32m      2\u001b[0m \u001b[1;32mwhile\u001b[0m \u001b[1;32mTrue\u001b[0m\u001b[1;33m:\u001b[0m\u001b[1;33m\u001b[0m\u001b[1;33m\u001b[0m\u001b[0m\n\u001b[1;32m----> 3\u001b[1;33m     \u001b[0mtheta_R\u001b[0m\u001b[1;33m=\u001b[0m\u001b[1;33m(\u001b[0m\u001b[0mnp\u001b[0m\u001b[1;33m.\u001b[0m\u001b[0maround\u001b[0m\u001b[1;33m(\u001b[0m\u001b[0modrv0\u001b[0m\u001b[1;33m.\u001b[0m\u001b[0maxis0\u001b[0m\u001b[1;33m.\u001b[0m\u001b[0mencoder\u001b[0m\u001b[1;33m.\u001b[0m\u001b[0mpos_estimate\u001b[0m\u001b[1;33m)\u001b[0m\u001b[1;33m-\u001b[0m\u001b[1;33m(\u001b[0m\u001b[1;36m18793\u001b[0m\u001b[1;33m/\u001b[0m\u001b[1;36m7\u001b[0m\u001b[1;33m)\u001b[0m\u001b[1;33m)\u001b[0m\u001b[1;33m*\u001b[0m\u001b[1;33m(\u001b[0m\u001b[1;33m-\u001b[0m\u001b[1;36m35\u001b[0m\u001b[1;33m/\u001b[0m\u001b[1;36m788\u001b[0m\u001b[1;33m)\u001b[0m\u001b[1;33m\u001b[0m\u001b[1;33m\u001b[0m\u001b[0m\n\u001b[0m\u001b[0;32m      4\u001b[0m     \u001b[0mtheta_L\u001b[0m\u001b[1;33m=\u001b[0m\u001b[1;33m(\u001b[0m\u001b[0mnp\u001b[0m\u001b[1;33m.\u001b[0m\u001b[0maround\u001b[0m\u001b[1;33m(\u001b[0m\u001b[0modrv0\u001b[0m\u001b[1;33m.\u001b[0m\u001b[0maxis1\u001b[0m\u001b[1;33m.\u001b[0m\u001b[0mencoder\u001b[0m\u001b[1;33m.\u001b[0m\u001b[0mpos_estimate\u001b[0m\u001b[1;33m)\u001b[0m\u001b[1;33m-\u001b[0m\u001b[1;36m817\u001b[0m\u001b[1;33m)\u001b[0m\u001b[1;33m/\u001b[0m\u001b[1;33m(\u001b[0m\u001b[1;33m-\u001b[0m\u001b[1;36m23.5\u001b[0m\u001b[1;33m)\u001b[0m\u001b[1;33m\u001b[0m\u001b[1;33m\u001b[0m\u001b[0m\n\u001b[0;32m      5\u001b[0m     \u001b[0mtheta\u001b[0m\u001b[1;33m.\u001b[0m\u001b[0mappend\u001b[0m\u001b[1;33m(\u001b[0m\u001b[1;33m[\u001b[0m\u001b[0mtheta_R\u001b[0m\u001b[1;33m,\u001b[0m\u001b[0mtheta_L\u001b[0m\u001b[1;33m]\u001b[0m\u001b[1;33m)\u001b[0m\u001b[1;33m\u001b[0m\u001b[1;33m\u001b[0m\u001b[0m\n",
      "\u001b[1;31mNameError\u001b[0m: name 'odrv0' is not defined"
     ]
    }
   ],
   "source": [
    "theta=[]\n",
    "while True:\n",
    "    theta_R=(np.around(odrv0.axis0.encoder.pos_estimate)-(18793/7))*(-35/788)\n",
    "    theta_L=(np.around(odrv0.axis1.encoder.pos_estimate)-817)/(-23.5)\n",
    "    theta.append([theta_R,theta_L])\n",
    "    \n",
    "Angle_value = np.asarray(theta)\n",
    "np.save('Angle_Workspace',Angle_value)"
   ]
  },
  {
   "cell_type": "markdown",
   "metadata": {},
   "source": [
    "#### Plotting the angle work space"
   ]
  },
  {
   "cell_type": "code",
   "execution_count": 14,
   "metadata": {},
   "outputs": [],
   "source": [
    "theta=np.load('Angle_Workspace.npy')"
   ]
  },
  {
   "cell_type": "code",
   "execution_count": 18,
   "metadata": {},
   "outputs": [
    {
     "data": {
      "text/plain": [
       "[<matplotlib.lines.Line2D at 0x165808d4088>]"
      ]
     },
     "execution_count": 18,
     "metadata": {},
     "output_type": "execute_result"
    },
    {
     "data": {
      "text/plain": [
       "Text(0.5, 0, '$\\\\theta_R$')"
      ]
     },
     "execution_count": 18,
     "metadata": {},
     "output_type": "execute_result"
    },
    {
     "data": {
      "text/plain": [
       "Text(0, 0.5, '$\\\\theta_L$')"
      ]
     },
     "execution_count": 18,
     "metadata": {},
     "output_type": "execute_result"
    },
    {
     "data": {
      "text/plain": [
       "Text(0.5, 1.0, 'Angle workspace plot')"
      ]
     },
     "execution_count": 18,
     "metadata": {},
     "output_type": "execute_result"
    },
    {
     "data": {
      "image/png": "[encoded data removed]",
      "text/plain": [
       "<Figure size 432x288 with 1 Axes>"
      ]
     },
     "metadata": {
      "needs_background": "light"
     },
     "output_type": "display_data"
    }
   ],
   "source": [
    "\n",
    "plt.plot(*zip(*theta))\n",
    "plt.xlabel(r'$\\theta_R$')\n",
    "plt.ylabel(r'$\\theta_L$')\n",
    "plt.title('Angle workspace plot')\n",
    "plt.gca().set_aspect('equal')\n",
    "plt.grid()"
   ]
  },
  {
   "cell_type": "markdown",
   "metadata": {},
   "source": [
    "#### Plotting original x-y workspace from original angle workspace"
   ]
  },
  {
   "cell_type": "code",
   "execution_count": 19,
   "metadata": {},
   "outputs": [],
   "source": [
    "data_pointsFK1 = np.zeros([1,2])\n",
    "data_pointsFK2 = np.zeros([1,2])\n",
    "for k in range(0,len(theta)):\n",
    "    \n",
    "    data_pointsFK1 = np.append(data_pointsFK1,FK1_fast(np.radians(theta[k][1]),np.radians(theta[k][0]),0.09,0.16,0.07).T,axis=0)\n",
    "    data_pointsFK2 = np.append(data_pointsFK2,FK2_fast(np.radians(theta[k][1]),np.radians(theta[k][0]),0.09,0.16,0.07).T,axis=0\n",
    "                               \n",
    "data_pointsFK1 = data_pointsFK1[1:data_pointsFK1.shape[0],:]\n",
    "data_pointsFK2 = data_pointsFK2[1:data_pointsFK2.shape[0],:]"
   ]
  },
  {
   "cell_type": "code",
   "execution_count": 20,
   "metadata": {},
   "outputs": [
    {
     "data": {
      "text/plain": [
       "[<matplotlib.lines.Line2D at 0x16581d7de48>]"
      ]
     },
     "execution_count": 20,
     "metadata": {},
     "output_type": "execute_result"
    },
    {
     "data": {
      "text/plain": [
       "[<matplotlib.lines.Line2D at 0x16580719448>]"
      ]
     },
     "execution_count": 20,
     "metadata": {},
     "output_type": "execute_result"
    },
    {
     "data": {
      "text/plain": [
       "Text(0.5, 0, '$X$')"
      ]
     },
     "execution_count": 20,
     "metadata": {},
     "output_type": "execute_result"
    },
    {
     "data": {
      "text/plain": [
       "Text(0, 0.5, '$Y$')"
      ]
     },
     "execution_count": 20,
     "metadata": {},
     "output_type": "execute_result"
    },
    {
     "data": {
      "text/plain": [
       "Text(0.5, 1.0, '(X,Y) workspace plot')"
      ]
     },
     "execution_count": 20,
     "metadata": {},
     "output_type": "execute_result"
    },
    {
     "data": {
      "text/plain": [
       "<matplotlib.legend.Legend at 0x165807f6f08>"
      ]
     },
     "execution_count": 20,
     "metadata": {},
     "output_type": "execute_result"
    },
    {
     "data": {
      "image/png": "[encoded data removed]",
      "text/plain": [
       "<Figure size 432x288 with 1 Axes>"
      ]
     },
     "metadata": {
      "needs_background": "light"
     },
     "output_type": "display_data"
    }
   ],
   "source": [
    "# plt.scatter(*zip(*data_points1))\\\n",
    "%matplotlib inline\n",
    "plt.clf()\n",
    "plt.plot(data_pointsFK1[:,0],data_pointsFK1[:,1])\n",
    "plt.plot(data_pointsFK2[:,0],data_pointsFK2[:,1])\n",
    "plt.xlabel(r'$X$')\n",
    "plt.ylabel(r'$Y$')\n",
    "plt.title('(X,Y) workspace plot')\n",
    "plt.grid()\n",
    "plt.gca().set_aspect('equal')\n",
    "plt.legend(['Forward Kinematics 1','Forward Kinematics 2'])\n",
    "# plt.scatter(*zip(*data_points2))"
   ]
  },
  {
   "cell_type": "markdown",
   "metadata": {},
   "source": [
    "As seen from the above diagram, Forward kinematics 2 gives us values mostly in the negative Y direction. These are physically unreachable points in the workspace. Thus Forward Kinematics 1 is the correct mapping from the angle workspace to the cartesian workspace. "
   ]
  },
  {
   "cell_type": "markdown",
   "metadata": {},
   "source": [
    "#### Code to record toe Coordinates (x,y) from FK Eqs and store them to plot the cartesian workspace"
   ]
  },
  {
   "cell_type": "code",
   "execution_count": 18,
   "metadata": {
    "collapsed": true,
    "jupyter": {
     "outputs_hidden": true
    }
   },
   "outputs": [
    {
     "ename": "NameError",
     "evalue": "name 'odrv0' is not defined",
     "output_type": "error",
     "traceback": [
      "\u001b[1;31m---------------------------------------------------------------------------\u001b[0m",
      "\u001b[1;31mNameError\u001b[0m                                 Traceback (most recent call last)",
      "\u001b[1;32m<ipython-input-18-93ef5b5924c4>\u001b[0m in \u001b[0;36m<module>\u001b[1;34m\u001b[0m\n\u001b[0;32m      2\u001b[0m \u001b[0mtheta\u001b[0m\u001b[1;33m=\u001b[0m\u001b[1;33m[\u001b[0m\u001b[1;33m]\u001b[0m\u001b[1;33m\u001b[0m\u001b[1;33m\u001b[0m\u001b[0m\n\u001b[0;32m      3\u001b[0m \u001b[1;32mwhile\u001b[0m \u001b[1;32mTrue\u001b[0m\u001b[1;33m:\u001b[0m\u001b[1;33m\u001b[0m\u001b[1;33m\u001b[0m\u001b[0m\n\u001b[1;32m----> 4\u001b[1;33m     \u001b[0mtheta_R\u001b[0m\u001b[1;33m=\u001b[0m\u001b[1;33m(\u001b[0m\u001b[0mnp\u001b[0m\u001b[1;33m.\u001b[0m\u001b[0maround\u001b[0m\u001b[1;33m(\u001b[0m\u001b[0modrv0\u001b[0m\u001b[1;33m.\u001b[0m\u001b[0maxis0\u001b[0m\u001b[1;33m.\u001b[0m\u001b[0mencoder\u001b[0m\u001b[1;33m.\u001b[0m\u001b[0mpos_estimate\u001b[0m\u001b[1;33m)\u001b[0m\u001b[1;33m-\u001b[0m\u001b[1;33m(\u001b[0m\u001b[1;36m18793\u001b[0m\u001b[1;33m/\u001b[0m\u001b[1;36m7\u001b[0m\u001b[1;33m)\u001b[0m\u001b[1;33m)\u001b[0m\u001b[1;33m*\u001b[0m\u001b[1;33m(\u001b[0m\u001b[1;33m-\u001b[0m\u001b[1;36m35\u001b[0m\u001b[1;33m/\u001b[0m\u001b[1;36m788\u001b[0m\u001b[1;33m)\u001b[0m\u001b[1;33m\u001b[0m\u001b[1;33m\u001b[0m\u001b[0m\n\u001b[0m\u001b[0;32m      5\u001b[0m     \u001b[0mtheta_L\u001b[0m\u001b[1;33m=\u001b[0m\u001b[1;33m(\u001b[0m\u001b[0mnp\u001b[0m\u001b[1;33m.\u001b[0m\u001b[0maround\u001b[0m\u001b[1;33m(\u001b[0m\u001b[0modrv0\u001b[0m\u001b[1;33m.\u001b[0m\u001b[0maxis1\u001b[0m\u001b[1;33m.\u001b[0m\u001b[0mencoder\u001b[0m\u001b[1;33m.\u001b[0m\u001b[0mpos_estimate\u001b[0m\u001b[1;33m)\u001b[0m\u001b[1;33m-\u001b[0m\u001b[1;36m817\u001b[0m\u001b[1;33m)\u001b[0m\u001b[1;33m/\u001b[0m\u001b[1;33m(\u001b[0m\u001b[1;33m-\u001b[0m\u001b[1;36m23.5\u001b[0m\u001b[1;33m)\u001b[0m\u001b[1;33m\u001b[0m\u001b[1;33m\u001b[0m\u001b[0m\n\u001b[0;32m      6\u001b[0m     \u001b[0mprint\u001b[0m\u001b[1;33m(\u001b[0m\u001b[1;34m\"thetaR: \"\u001b[0m\u001b[1;33m,\u001b[0m\u001b[0mnp\u001b[0m\u001b[1;33m.\u001b[0m\u001b[0maround\u001b[0m\u001b[1;33m(\u001b[0m\u001b[0mtheta_R\u001b[0m\u001b[1;33m)\u001b[0m\u001b[1;33m,\u001b[0m \u001b[1;34m\"thetaL: \"\u001b[0m\u001b[1;33m,\u001b[0m\u001b[0mnp\u001b[0m\u001b[1;33m.\u001b[0m\u001b[0maround\u001b[0m\u001b[1;33m(\u001b[0m\u001b[0mtheta_L\u001b[0m\u001b[1;33m)\u001b[0m \u001b[1;33m)\u001b[0m\u001b[1;33m\u001b[0m\u001b[1;33m\u001b[0m\u001b[0m\n",
      "\u001b[1;31mNameError\u001b[0m: name 'odrv0' is not defined"
     ]
    }
   ],
   "source": [
    "angle=0\n",
    "theta=[]\n",
    "while True:\n",
    "    theta_R=(np.around(odrv0.axis0.encoder.pos_estimate)-(18793/7))*(-35/788)\n",
    "    theta_L=(np.around(odrv0.axis1.encoder.pos_estimate)-817)/(-23.5)\n",
    "    print(\"thetaR: \",np.around(theta_R), \"thetaL: \",np.around(theta_L) )\n",
    "    data_points1= FK1_fast(np.radians(theta_L),np.radians(theta_R),0.09,0.16,0.07) \n",
    "    data_points2= FK2_fast(np.radians(theta_L),np.radians(theta_R),0.09,0.16,0.07)\n",
    "    print('FK1: ',data_points1.T ,'FK2:', data_points2.T)\n",
    "    \n",
    "#     theta.append([theta_R,theta_L])   \n",
    "    time.sleep(0.5)\n",
    "    clear_output()"
   ]
  },
  {
   "cell_type": "markdown",
   "metadata": {},
   "source": [
    "#### Code to Record angle values for Cyclic trajectory "
   ]
  },
  {
   "cell_type": "code",
   "execution_count": 298,
   "metadata": {},
   "outputs": [],
   "source": [
    "motor_idle()"
   ]
  },
  {
   "cell_type": "code",
   "execution_count": 290,
   "metadata": {},
   "outputs": [],
   "source": [
    "# plt.axis([-10, 330, -140, 140])\n",
    "cyclic_theta_val=[]\n",
    "duration=1\n",
    "timeout = time.time() + 60*(1/2)   # 5 minutes from now\n",
    "while True:\n",
    "#     test = 0\n",
    "    if time.time() > timeout:\n",
    "        break\n",
    "    \n",
    "#     y = np.random.random()\n",
    "#     theta_R=(np.around(odrv0.axis0.encoder.pos_estimate)-(18793/7))*(-35/788)\n",
    "#     theta_L=(np.around(odrv0.axis1.encoder.pos_estimate)-817)/(-23.5)\n",
    "    R=odrv0.axis0.encoder.pos_estimate\n",
    "    L=odrv0.axis1.encoder.pos_estimate\n",
    "    cyclic_theta_val.append([R,L])\n",
    "#     tes/t = test - 1\n",
    "#     plt.scatter(*zip(*cyclic_theta_val) )\n",
    "    time.sleep(0.01)\n",
    "motor_idle()\n",
    "# plt.show()"
   ]
  },
  {
   "cell_type": "markdown",
   "metadata": {},
   "source": [
    "#### Code to physically implement Cyclic Trajectory"
   ]
  },
  {
   "cell_type": "code",
   "execution_count": 19,
   "metadata": {
    "collapsed": true,
    "jupyter": {
     "outputs_hidden": true
    }
   },
   "outputs": [
    {
     "ename": "NameError",
     "evalue": "name 'odrv0' is not defined",
     "output_type": "error",
     "traceback": [
      "\u001b[1;31m---------------------------------------------------------------------------\u001b[0m",
      "\u001b[1;31mNameError\u001b[0m                                 Traceback (most recent call last)",
      "\u001b[1;32m<ipython-input-19-5dcf036b629a>\u001b[0m in \u001b[0;36m<module>\u001b[1;34m\u001b[0m\n\u001b[1;32m----> 1\u001b[1;33m \u001b[0modrv0\u001b[0m\u001b[1;33m.\u001b[0m\u001b[0maxis0\u001b[0m\u001b[1;33m.\u001b[0m\u001b[0mrequested_state\u001b[0m \u001b[1;33m=\u001b[0m \u001b[0modrive\u001b[0m\u001b[1;33m.\u001b[0m\u001b[0menums\u001b[0m\u001b[1;33m.\u001b[0m\u001b[0mAXIS_STATE_CLOSED_LOOP_CONTROL\u001b[0m\u001b[1;33m\u001b[0m\u001b[1;33m\u001b[0m\u001b[0m\n\u001b[0m\u001b[0;32m      2\u001b[0m \u001b[0modrv0\u001b[0m\u001b[1;33m.\u001b[0m\u001b[0maxis1\u001b[0m\u001b[1;33m.\u001b[0m\u001b[0mrequested_state\u001b[0m \u001b[1;33m=\u001b[0m \u001b[0modrive\u001b[0m\u001b[1;33m.\u001b[0m\u001b[0menums\u001b[0m\u001b[1;33m.\u001b[0m\u001b[0mAXIS_STATE_CLOSED_LOOP_CONTROL\u001b[0m\u001b[1;33m\u001b[0m\u001b[1;33m\u001b[0m\u001b[0m\n\u001b[0;32m      3\u001b[0m \u001b[1;32mfor\u001b[0m \u001b[0mi\u001b[0m \u001b[1;32min\u001b[0m \u001b[0mrange\u001b[0m\u001b[1;33m(\u001b[0m\u001b[1;36m0\u001b[0m\u001b[1;33m,\u001b[0m\u001b[0mlen\u001b[0m\u001b[1;33m(\u001b[0m\u001b[0mcyclic_theta_val\u001b[0m\u001b[1;33m)\u001b[0m\u001b[1;33m)\u001b[0m\u001b[1;33m:\u001b[0m\u001b[1;33m\u001b[0m\u001b[1;33m\u001b[0m\u001b[0m\n\u001b[0;32m      4\u001b[0m \u001b[1;31m#     pos_R=cyclic_theta_val[i][0]*(-788/35)+(18793/7)\u001b[0m\u001b[1;33m\u001b[0m\u001b[1;33m\u001b[0m\u001b[1;33m\u001b[0m\u001b[0m\n\u001b[0;32m      5\u001b[0m \u001b[1;31m#     pos_L=(cyclic_theta_val[i][1]*23.5)+817\u001b[0m\u001b[1;33m\u001b[0m\u001b[1;33m\u001b[0m\u001b[1;33m\u001b[0m\u001b[0m\n",
      "\u001b[1;31mNameError\u001b[0m: name 'odrv0' is not defined"
     ]
    }
   ],
   "source": [
    "odrv0.axis0.requested_state = odrive.enums.AXIS_STATE_CLOSED_LOOP_CONTROL\n",
    "odrv0.axis1.requested_state = odrive.enums.AXIS_STATE_CLOSED_LOOP_CONTROL\n",
    "for i in range(0,len(cyclic_theta_val)):\n",
    "#     pos_R=cyclic_theta_val[i][0]*(-788/35)+(18793/7)\n",
    "#     pos_L=(cyclic_theta_val[i][1]*23.5)+817\n",
    "    odrv0.axis0.controller.set_pos_setpoint(cyclic_theta_val[i][0],0,0)\n",
    "    odrv0.axis1.controller.set_pos_setpoint(cyclic_theta_val[i][1],0,0)\n",
    "    time.sleep(0.001)"
   ]
  },
  {
   "cell_type": "markdown",
   "metadata": {},
   "source": [
    "The Cyclic trajectory video can be found on the following link: [YouTube](https://www.youtube.com/watch?v=HKVOM5uDiIY&feature=youtu.be)"
   ]
  },
  {
   "cell_type": "code",
   "execution_count": null,
   "metadata": {},
   "outputs": [],
   "source": []
  }
 ],
 "metadata": {
  "kernelspec": {
   "display_name": "Python 3",
   "language": "python",
   "name": "python3"
  },
  "language_info": {
   "codemirror_mode": {
    "name": "ipython",
    "version": 3
   },
   "file_extension": ".py",
   "mimetype": "text/x-python",
   "name": "python",
   "nbconvert_exporter": "python",
   "pygments_lexer": "ipython3",
   "version": "3.7.4"
  }
 },
 "nbformat": 4,
 "nbformat_minor": 4
}
